{
 "cells": [
  {
   "cell_type": "markdown",
   "id": "0ef515c4",
   "metadata": {},
   "source": [
    "### Importing libraries"
   ]
  },
  {
   "cell_type": "code",
   "execution_count": 1,
   "id": "95362e4b",
   "metadata": {},
   "outputs": [],
   "source": [
    "import yfinance as yf\n",
    "import pandas as pd\n",
    "import numpy as np\n",
    "import matplotlib.pyplot as plt\n",
    "import snscrape.modules.twitter as sntwitter\n",
    "from tqdm.notebook import tqdm"
   ]
  },
  {
   "cell_type": "markdown",
   "id": "210bae09",
   "metadata": {},
   "source": [
    "### Scraping tweets"
   ]
  },
  {
   "cell_type": "markdown",
   "id": "0fa509b3",
   "metadata": {},
   "source": [
    "We'll scrape tweets for the following stocks:\n",
    "\n",
    "- Communication Services - Alphabet (NASDAQ:GOOGL)\n",
    "- Energy - ExxonMobil (NYSE:XOM)\n",
    "- Financials - JPMorgan Chase (NYSE:JPM)"
   ]
  },
  {
   "cell_type": "markdown",
   "id": "3dd9d915",
   "metadata": {},
   "source": [
    "We'll start be creating a function to pull the tweets, put them in a dataframe and filter by english language. \n",
    "<br>This function will be useful since we'll have to do this for all the stocks."
   ]
  },
  {
   "cell_type": "code",
   "execution_count": 2,
   "id": "36c1b72d",
   "metadata": {},
   "outputs": [],
   "source": [
    "def get_tweets(stock, from_date, to_date, number_likes):\n",
    "    '''Function to pull tweets and return dataframe filtered by language/likes'''\n",
    "    \n",
    "    # Empty list to store the tweets\n",
    "    tweets_list =[]\n",
    "\n",
    "    # Using TwitterSearchScraper to scrape tweets\n",
    "    for i, tweet in tqdm(\n",
    "        enumerate(\n",
    "            sntwitter.TwitterSearchScraper(f'${stock} lang:en min_faves:{number_likes} since:{from_date} until:{to_date}').get_items()\n",
    "            ), total = 50000  # progress bar size\n",
    "    ):\n",
    "        \n",
    "        # Store the tweets in list\n",
    "        tweets_list.append(\n",
    "            [tweet.date, tweet.rawContent, tweet.user.username, tweet.likeCount, tweet.replyCount, \\\n",
    "             tweet.retweetCount, tweet.lang]\n",
    "        )\n",
    "\n",
    "    # Creating a dataframe from the tweets list\n",
    "    tweet_df = pd.DataFrame(tweets_list, columns=['datetime','text','username','likeCount','replyCount',\\\n",
    "                                                  'retweetCount','language'])\n",
    "    \n",
    "    # Filter the dataframe by language, some tweets still go thru\n",
    "    tweet_df = tweet_df[(tweet_df.likeCount >= number_likes) & (tweet_df.language == 'en')].reset_index(drop=True)\n",
    "    \n",
    "    # Drop language column\n",
    "    tweet_df = tweet_df.drop(columns='language', axis=1)\n",
    "    \n",
    "    # Print how many tweets are left after filtering by language/likes and what's the date range of the tweets\n",
    "    print(f'Number of {stock} tweets: {tweet_df.shape[0]}')\n",
    "    \n",
    "    return tweet_df"
   ]
  },
  {
   "cell_type": "markdown",
   "id": "b3c795a1",
   "metadata": {},
   "source": [
    "Let's start by pulling tweets using our function. We'll pull for the 5 last years and export to a csv file.\n",
    "<br>Rationale here will be to pull tweets that have at least 1 like, since during initial inspection we noticed we could get rid of some \"spam\" tweets that usually have 0 likes."
   ]
  },
  {
   "cell_type": "markdown",
   "id": "251a5b65",
   "metadata": {},
   "source": [
    "### GOOGL"
   ]
  },
  {
   "cell_type": "code",
   "execution_count": 15,
   "id": "023b9328",
   "metadata": {},
   "outputs": [
    {
     "data": {
      "application/vnd.jupyter.widget-view+json": {
       "model_id": "84701ee42c9c4d4fbbffa6a5e7f723e9",
       "version_major": 2,
       "version_minor": 0
      },
      "text/plain": [
       "  0%|          | 0/50000 [00:00<?, ?it/s]"
      ]
     },
     "metadata": {},
     "output_type": "display_data"
    },
    {
     "name": "stdout",
     "output_type": "stream",
     "text": [
      "Number of GOOGL tweets: 17982\n"
     ]
    },
    {
     "data": {
      "application/vnd.jupyter.widget-view+json": {
       "model_id": "98f4d47614a64f22975e52c53ee17c21",
       "version_major": 2,
       "version_minor": 0
      },
      "text/plain": [
       "  0%|          | 0/50000 [00:00<?, ?it/s]"
      ]
     },
     "metadata": {},
     "output_type": "display_data"
    },
    {
     "name": "stdout",
     "output_type": "stream",
     "text": [
      "Number of GOOGL tweets: 18935\n"
     ]
    },
    {
     "data": {
      "application/vnd.jupyter.widget-view+json": {
       "model_id": "111aa52f235042d69b346dd5248adb32",
       "version_major": 2,
       "version_minor": 0
      },
      "text/plain": [
       "  0%|          | 0/50000 [00:00<?, ?it/s]"
      ]
     },
     "metadata": {},
     "output_type": "display_data"
    },
    {
     "name": "stdout",
     "output_type": "stream",
     "text": [
      "Number of GOOGL tweets: 24037\n"
     ]
    },
    {
     "data": {
      "application/vnd.jupyter.widget-view+json": {
       "model_id": "5c6fd98908b840a1bb9d0332086fea9d",
       "version_major": 2,
       "version_minor": 0
      },
      "text/plain": [
       "  0%|          | 0/50000 [00:00<?, ?it/s]"
      ]
     },
     "metadata": {},
     "output_type": "display_data"
    },
    {
     "name": "stdout",
     "output_type": "stream",
     "text": [
      "Number of GOOGL tweets: 28733\n"
     ]
    },
    {
     "data": {
      "application/vnd.jupyter.widget-view+json": {
       "model_id": "8e549c68f5e14f7a95a4e7950e460d4b",
       "version_major": 2,
       "version_minor": 0
      },
      "text/plain": [
       "  0%|          | 0/50000 [00:00<?, ?it/s]"
      ]
     },
     "metadata": {},
     "output_type": "display_data"
    },
    {
     "name": "stdout",
     "output_type": "stream",
     "text": [
      "Number of GOOGL tweets: 38355\n"
     ]
    }
   ],
   "source": [
    "googl_2018 = get_tweets('GOOGL', '2018-1-1', '2019-1-1', 1)\n",
    "googl_2019 = get_tweets('GOOGL', '2019-1-1', '2020-1-1', 1)\n",
    "googl_2020 = get_tweets('GOOGL', '2020-1-1', '2021-1-1', 1)\n",
    "googl_2021 = get_tweets('GOOGL', '2021-1-1', '2022-1-1', 1)\n",
    "googl_2022 = get_tweets('GOOGL', '2022-1-1', '2023-1-1', 1)"
   ]
  },
  {
   "cell_type": "code",
   "execution_count": 16,
   "id": "2eb14262",
   "metadata": {},
   "outputs": [
    {
     "data": {
      "text/html": [
       "<div>\n",
       "<style scoped>\n",
       "    .dataframe tbody tr th:only-of-type {\n",
       "        vertical-align: middle;\n",
       "    }\n",
       "\n",
       "    .dataframe tbody tr th {\n",
       "        vertical-align: top;\n",
       "    }\n",
       "\n",
       "    .dataframe thead th {\n",
       "        text-align: right;\n",
       "    }\n",
       "</style>\n",
       "<table border=\"1\" class=\"dataframe\">\n",
       "  <thead>\n",
       "    <tr style=\"text-align: right;\">\n",
       "      <th></th>\n",
       "      <th>datetime</th>\n",
       "      <th>text</th>\n",
       "      <th>username</th>\n",
       "      <th>likeCount</th>\n",
       "      <th>replyCount</th>\n",
       "      <th>retweetCount</th>\n",
       "    </tr>\n",
       "  </thead>\n",
       "  <tbody>\n",
       "    <tr>\n",
       "      <th>0</th>\n",
       "      <td>2018-12-31 23:04:00+00:00</td>\n",
       "      <td>'Grandmasters had never seen anything like it....</td>\n",
       "      <td>Wexboy_Value</td>\n",
       "      <td>4</td>\n",
       "      <td>1</td>\n",
       "      <td>3</td>\n",
       "    </tr>\n",
       "    <tr>\n",
       "      <th>1</th>\n",
       "      <td>2018-12-31 22:29:34+00:00</td>\n",
       "      <td>Netflix topped the FANG trade as the best perf...</td>\n",
       "      <td>CNBCFastMoney</td>\n",
       "      <td>19</td>\n",
       "      <td>4</td>\n",
       "      <td>5</td>\n",
       "    </tr>\n",
       "    <tr>\n",
       "      <th>2</th>\n",
       "      <td>2018-12-31 22:27:53+00:00</td>\n",
       "      <td>Slippery and cold!! \\n$FB &amp;amp; $GOOGL trade e...</td>\n",
       "      <td>petenajarian</td>\n",
       "      <td>8</td>\n",
       "      <td>2</td>\n",
       "      <td>0</td>\n",
       "    </tr>\n",
       "    <tr>\n",
       "      <th>3</th>\n",
       "      <td>2018-12-31 21:48:52+00:00</td>\n",
       "      <td>Webinar. Right Now.\\n\\nMake 2019 your best tra...</td>\n",
       "      <td>OphirGottlieb</td>\n",
       "      <td>7</td>\n",
       "      <td>0</td>\n",
       "      <td>5</td>\n",
       "    </tr>\n",
       "    <tr>\n",
       "      <th>4</th>\n",
       "      <td>2018-12-31 21:48:34+00:00</td>\n",
       "      <td>Measured vs year ago (rather than vs 2018 peak...</td>\n",
       "      <td>tpetruno</td>\n",
       "      <td>3</td>\n",
       "      <td>1</td>\n",
       "      <td>1</td>\n",
       "    </tr>\n",
       "  </tbody>\n",
       "</table>\n",
       "</div>"
      ],
      "text/plain": [
       "                   datetime  \\\n",
       "0 2018-12-31 23:04:00+00:00   \n",
       "1 2018-12-31 22:29:34+00:00   \n",
       "2 2018-12-31 22:27:53+00:00   \n",
       "3 2018-12-31 21:48:52+00:00   \n",
       "4 2018-12-31 21:48:34+00:00   \n",
       "\n",
       "                                                text       username  \\\n",
       "0  'Grandmasters had never seen anything like it....   Wexboy_Value   \n",
       "1  Netflix topped the FANG trade as the best perf...  CNBCFastMoney   \n",
       "2  Slippery and cold!! \\n$FB &amp; $GOOGL trade e...   petenajarian   \n",
       "3  Webinar. Right Now.\\n\\nMake 2019 your best tra...  OphirGottlieb   \n",
       "4  Measured vs year ago (rather than vs 2018 peak...       tpetruno   \n",
       "\n",
       "   likeCount  replyCount  retweetCount  \n",
       "0          4           1             3  \n",
       "1         19           4             5  \n",
       "2          8           2             0  \n",
       "3          7           0             5  \n",
       "4          3           1             1  "
      ]
     },
     "execution_count": 16,
     "metadata": {},
     "output_type": "execute_result"
    }
   ],
   "source": [
    "googl_tweets = pd.concat([ googl_2018, googl_2019, googl_2020, googl_2021, googl_2021 ], ignore_index=True)\n",
    "googl_tweets.head()"
   ]
  },
  {
   "cell_type": "code",
   "execution_count": 19,
   "id": "60dc56c9",
   "metadata": {},
   "outputs": [
    {
     "data": {
      "text/plain": [
       "(118420, 6)"
      ]
     },
     "execution_count": 19,
     "metadata": {},
     "output_type": "execute_result"
    }
   ],
   "source": [
    "googl_tweets.shape"
   ]
  },
  {
   "cell_type": "code",
   "execution_count": 18,
   "id": "3b7e8e97",
   "metadata": {},
   "outputs": [],
   "source": [
    "googl_tweets.to_csv('../data/raw/googl_tweets_all.csv')"
   ]
  },
  {
   "cell_type": "markdown",
   "id": "490bab19",
   "metadata": {},
   "source": [
    "### XOM"
   ]
  },
  {
   "cell_type": "code",
   "execution_count": 4,
   "id": "8e9e9252",
   "metadata": {},
   "outputs": [
    {
     "data": {
      "application/vnd.jupyter.widget-view+json": {
       "model_id": "cbe1b81dbb7a4f8baafabf956a0e6f02",
       "version_major": 2,
       "version_minor": 0
      },
      "text/plain": [
       "  0%|          | 0/50000 [00:00<?, ?it/s]"
      ]
     },
     "metadata": {},
     "output_type": "display_data"
    },
    {
     "name": "stdout",
     "output_type": "stream",
     "text": [
      "Number of XOM tweets: 4061\n"
     ]
    },
    {
     "data": {
      "application/vnd.jupyter.widget-view+json": {
       "model_id": "7e6c813f497d4477accb9e584bb0ff13",
       "version_major": 2,
       "version_minor": 0
      },
      "text/plain": [
       "  0%|          | 0/50000 [00:00<?, ?it/s]"
      ]
     },
     "metadata": {},
     "output_type": "display_data"
    },
    {
     "name": "stdout",
     "output_type": "stream",
     "text": [
      "Number of XOM tweets: 4284\n"
     ]
    },
    {
     "data": {
      "application/vnd.jupyter.widget-view+json": {
       "model_id": "e73d17287b304659a5200a7aac3c7676",
       "version_major": 2,
       "version_minor": 0
      },
      "text/plain": [
       "  0%|          | 0/50000 [00:00<?, ?it/s]"
      ]
     },
     "metadata": {},
     "output_type": "display_data"
    },
    {
     "name": "stdout",
     "output_type": "stream",
     "text": [
      "Number of XOM tweets: 11257\n"
     ]
    },
    {
     "data": {
      "application/vnd.jupyter.widget-view+json": {
       "model_id": "309a48f2faab4d6e885a2ccb91cf3d8a",
       "version_major": 2,
       "version_minor": 0
      },
      "text/plain": [
       "  0%|          | 0/50000 [00:00<?, ?it/s]"
      ]
     },
     "metadata": {},
     "output_type": "display_data"
    },
    {
     "name": "stdout",
     "output_type": "stream",
     "text": [
      "Number of XOM tweets: 11677\n"
     ]
    },
    {
     "data": {
      "application/vnd.jupyter.widget-view+json": {
       "model_id": "ee33938f838f4ec5b36c67be706ca95e",
       "version_major": 2,
       "version_minor": 0
      },
      "text/plain": [
       "  0%|          | 0/50000 [00:00<?, ?it/s]"
      ]
     },
     "metadata": {},
     "output_type": "display_data"
    },
    {
     "name": "stdout",
     "output_type": "stream",
     "text": [
      "Number of XOM tweets: 20286\n"
     ]
    }
   ],
   "source": [
    "xom_2018 = get_tweets('XOM', '2018-1-1', '2019-1-1', 1)\n",
    "xom_2019 = get_tweets('XOM', '2019-1-1', '2020-1-1', 1)\n",
    "xom_2020 = get_tweets('XOM', '2020-1-1', '2021-1-1', 1)\n",
    "xom_2021 = get_tweets('XOM', '2021-1-1', '2022-1-1', 1)\n",
    "xom_2022 = get_tweets('XOM', '2022-1-1', '2023-1-1', 1)"
   ]
  },
  {
   "cell_type": "code",
   "execution_count": 5,
   "id": "63ae1a38",
   "metadata": {},
   "outputs": [
    {
     "data": {
      "text/html": [
       "<div>\n",
       "<style scoped>\n",
       "    .dataframe tbody tr th:only-of-type {\n",
       "        vertical-align: middle;\n",
       "    }\n",
       "\n",
       "    .dataframe tbody tr th {\n",
       "        vertical-align: top;\n",
       "    }\n",
       "\n",
       "    .dataframe thead th {\n",
       "        text-align: right;\n",
       "    }\n",
       "</style>\n",
       "<table border=\"1\" class=\"dataframe\">\n",
       "  <thead>\n",
       "    <tr style=\"text-align: right;\">\n",
       "      <th></th>\n",
       "      <th>datetime</th>\n",
       "      <th>text</th>\n",
       "      <th>username</th>\n",
       "      <th>likeCount</th>\n",
       "      <th>replyCount</th>\n",
       "      <th>retweetCount</th>\n",
       "    </tr>\n",
       "  </thead>\n",
       "  <tbody>\n",
       "    <tr>\n",
       "      <th>0</th>\n",
       "      <td>2018-12-31 22:08:24+00:00</td>\n",
       "      <td>IBM is the top Dog of the Dow for 2019 with a ...</td>\n",
       "      <td>bespokeinvest</td>\n",
       "      <td>34</td>\n",
       "      <td>0</td>\n",
       "      <td>12</td>\n",
       "    </tr>\n",
       "    <tr>\n",
       "      <th>1</th>\n",
       "      <td>2018-12-31 21:55:22+00:00</td>\n",
       "      <td>$D $JNJ $SNV $CVX $UNH $HD $FCB $CADE $VLO $XO...</td>\n",
       "      <td>TeresaTrades</td>\n",
       "      <td>2</td>\n",
       "      <td>0</td>\n",
       "      <td>0</td>\n",
       "    </tr>\n",
       "    <tr>\n",
       "      <th>2</th>\n",
       "      <td>2018-12-31 19:52:17+00:00</td>\n",
       "      <td>#LNG: The Best of 2018. What were the best LNG...</td>\n",
       "      <td>SusanSakmar</td>\n",
       "      <td>6</td>\n",
       "      <td>0</td>\n",
       "      <td>2</td>\n",
       "    </tr>\n",
       "    <tr>\n",
       "      <th>3</th>\n",
       "      <td>2018-12-31 17:11:14+00:00</td>\n",
       "      <td>$SPX $TNX $QQQ $SPY $DJIA $AMZN $RUT $VIX $TWT...</td>\n",
       "      <td>SethCL</td>\n",
       "      <td>1</td>\n",
       "      <td>0</td>\n",
       "      <td>1</td>\n",
       "    </tr>\n",
       "    <tr>\n",
       "      <th>4</th>\n",
       "      <td>2018-12-31 13:04:12+00:00</td>\n",
       "      <td>$ATLS 0067?! ONLY 31 MILLION O/S! tiny float. ...</td>\n",
       "      <td>aaaamhim</td>\n",
       "      <td>1</td>\n",
       "      <td>0</td>\n",
       "      <td>0</td>\n",
       "    </tr>\n",
       "  </tbody>\n",
       "</table>\n",
       "</div>"
      ],
      "text/plain": [
       "                   datetime  \\\n",
       "0 2018-12-31 22:08:24+00:00   \n",
       "1 2018-12-31 21:55:22+00:00   \n",
       "2 2018-12-31 19:52:17+00:00   \n",
       "3 2018-12-31 17:11:14+00:00   \n",
       "4 2018-12-31 13:04:12+00:00   \n",
       "\n",
       "                                                text       username  \\\n",
       "0  IBM is the top Dog of the Dow for 2019 with a ...  bespokeinvest   \n",
       "1  $D $JNJ $SNV $CVX $UNH $HD $FCB $CADE $VLO $XO...   TeresaTrades   \n",
       "2  #LNG: The Best of 2018. What were the best LNG...    SusanSakmar   \n",
       "3  $SPX $TNX $QQQ $SPY $DJIA $AMZN $RUT $VIX $TWT...         SethCL   \n",
       "4  $ATLS 0067?! ONLY 31 MILLION O/S! tiny float. ...       aaaamhim   \n",
       "\n",
       "   likeCount  replyCount  retweetCount  \n",
       "0         34           0            12  \n",
       "1          2           0             0  \n",
       "2          6           0             2  \n",
       "3          1           0             1  \n",
       "4          1           0             0  "
      ]
     },
     "execution_count": 5,
     "metadata": {},
     "output_type": "execute_result"
    }
   ],
   "source": [
    "xom_tweets = pd.concat([ xom_2018, xom_2019, xom_2020, xom_2021, xom_2021 ], ignore_index=True)\n",
    "xom_tweets.head()"
   ]
  },
  {
   "cell_type": "code",
   "execution_count": 13,
   "id": "f4bd5b8b",
   "metadata": {},
   "outputs": [
    {
     "data": {
      "text/plain": [
       "(42956, 6)"
      ]
     },
     "execution_count": 13,
     "metadata": {},
     "output_type": "execute_result"
    }
   ],
   "source": [
    "xom_tweets.shape"
   ]
  },
  {
   "cell_type": "code",
   "execution_count": 6,
   "id": "dd03dad6",
   "metadata": {},
   "outputs": [],
   "source": [
    "xom_tweets.to_csv('../data/raw/xom_tweets_all.csv')"
   ]
  },
  {
   "cell_type": "markdown",
   "id": "1f30083d",
   "metadata": {},
   "source": [
    "### JPM"
   ]
  },
  {
   "cell_type": "code",
   "execution_count": 7,
   "id": "260c3b7c",
   "metadata": {},
   "outputs": [
    {
     "data": {
      "application/vnd.jupyter.widget-view+json": {
       "model_id": "6d503a16c2854948886868c3c87da3e3",
       "version_major": 2,
       "version_minor": 0
      },
      "text/plain": [
       "  0%|          | 0/50000 [00:00<?, ?it/s]"
      ]
     },
     "metadata": {},
     "output_type": "display_data"
    },
    {
     "name": "stderr",
     "output_type": "stream",
     "text": [
      "Unsupported card type on tweet 1041793302440435712: '2586390716:video_direct_message'\n"
     ]
    },
    {
     "name": "stdout",
     "output_type": "stream",
     "text": [
      "Number of JPM tweets: 8532\n"
     ]
    },
    {
     "data": {
      "application/vnd.jupyter.widget-view+json": {
       "model_id": "df90b74ee80f435aac60039c4a39370e",
       "version_major": 2,
       "version_minor": 0
      },
      "text/plain": [
       "  0%|          | 0/50000 [00:00<?, ?it/s]"
      ]
     },
     "metadata": {},
     "output_type": "display_data"
    },
    {
     "name": "stdout",
     "output_type": "stream",
     "text": [
      "Number of JPM tweets: 9301\n"
     ]
    },
    {
     "data": {
      "application/vnd.jupyter.widget-view+json": {
       "model_id": "3d94d0d5476a4643bb25fc9d790ba099",
       "version_major": 2,
       "version_minor": 0
      },
      "text/plain": [
       "  0%|          | 0/50000 [00:00<?, ?it/s]"
      ]
     },
     "metadata": {},
     "output_type": "display_data"
    },
    {
     "name": "stdout",
     "output_type": "stream",
     "text": [
      "Number of JPM tweets: 15198\n"
     ]
    },
    {
     "data": {
      "application/vnd.jupyter.widget-view+json": {
       "model_id": "406ac823e6ef4d6ba4f670091a8e8822",
       "version_major": 2,
       "version_minor": 0
      },
      "text/plain": [
       "  0%|          | 0/50000 [00:00<?, ?it/s]"
      ]
     },
     "metadata": {},
     "output_type": "display_data"
    },
    {
     "name": "stdout",
     "output_type": "stream",
     "text": [
      "Number of JPM tweets: 12441\n"
     ]
    },
    {
     "data": {
      "application/vnd.jupyter.widget-view+json": {
       "model_id": "cf656062c82045d39ca4995129f9850c",
       "version_major": 2,
       "version_minor": 0
      },
      "text/plain": [
       "  0%|          | 0/50000 [00:00<?, ?it/s]"
      ]
     },
     "metadata": {},
     "output_type": "display_data"
    },
    {
     "name": "stdout",
     "output_type": "stream",
     "text": [
      "Number of JPM tweets: 15525\n"
     ]
    }
   ],
   "source": [
    "jpm_2018 = get_tweets('JPM', '2018-1-1', '2019-1-1', 1)\n",
    "jpm_2019 = get_tweets('JPM', '2019-1-1', '2020-1-1', 1)\n",
    "jpm_2020 = get_tweets('JPM', '2020-1-1', '2021-1-1', 1)\n",
    "jpm_2021 = get_tweets('JPM', '2021-1-1', '2022-1-1', 1)\n",
    "jpm_2022 = get_tweets('JPM', '2022-1-1', '2023-1-1', 1)"
   ]
  },
  {
   "cell_type": "code",
   "execution_count": 8,
   "id": "2d95e708",
   "metadata": {},
   "outputs": [
    {
     "data": {
      "text/html": [
       "<div>\n",
       "<style scoped>\n",
       "    .dataframe tbody tr th:only-of-type {\n",
       "        vertical-align: middle;\n",
       "    }\n",
       "\n",
       "    .dataframe tbody tr th {\n",
       "        vertical-align: top;\n",
       "    }\n",
       "\n",
       "    .dataframe thead th {\n",
       "        text-align: right;\n",
       "    }\n",
       "</style>\n",
       "<table border=\"1\" class=\"dataframe\">\n",
       "  <thead>\n",
       "    <tr style=\"text-align: right;\">\n",
       "      <th></th>\n",
       "      <th>datetime</th>\n",
       "      <th>text</th>\n",
       "      <th>username</th>\n",
       "      <th>likeCount</th>\n",
       "      <th>replyCount</th>\n",
       "      <th>retweetCount</th>\n",
       "    </tr>\n",
       "  </thead>\n",
       "  <tbody>\n",
       "    <tr>\n",
       "      <th>0</th>\n",
       "      <td>2018-12-31 23:45:26+00:00</td>\n",
       "      <td>Market Strategist Who Nailed S&amp;amp;P 500 This ...</td>\n",
       "      <td>DanielMichael26</td>\n",
       "      <td>2</td>\n",
       "      <td>0</td>\n",
       "      <td>0</td>\n",
       "    </tr>\n",
       "    <tr>\n",
       "      <th>1</th>\n",
       "      <td>2018-12-31 23:23:00+00:00</td>\n",
       "      <td>$NSPX 0052? ITS BREAKTHROUGH DRUG ON THE NEWS ...</td>\n",
       "      <td>aaaamhim</td>\n",
       "      <td>1</td>\n",
       "      <td>0</td>\n",
       "      <td>2</td>\n",
       "    </tr>\n",
       "    <tr>\n",
       "      <th>2</th>\n",
       "      <td>2018-12-31 22:13:06+00:00</td>\n",
       "      <td>$XLF Daily: #XLF broke through 13MA.  Consider...</td>\n",
       "      <td>MysteryTrader99</td>\n",
       "      <td>16</td>\n",
       "      <td>1</td>\n",
       "      <td>6</td>\n",
       "    </tr>\n",
       "    <tr>\n",
       "      <th>3</th>\n",
       "      <td>2018-12-31 22:07:30+00:00</td>\n",
       "      <td>The Dogs of the Dow finished 2018 with a total...</td>\n",
       "      <td>bespokeinvest</td>\n",
       "      <td>53</td>\n",
       "      <td>4</td>\n",
       "      <td>21</td>\n",
       "    </tr>\n",
       "    <tr>\n",
       "      <th>4</th>\n",
       "      <td>2018-12-31 21:51:41+00:00</td>\n",
       "      <td>$FRC $SLB $GE $UTX $FE $T $HUM $V $DIS $JPM $T...</td>\n",
       "      <td>TeresaTrades</td>\n",
       "      <td>1</td>\n",
       "      <td>0</td>\n",
       "      <td>0</td>\n",
       "    </tr>\n",
       "  </tbody>\n",
       "</table>\n",
       "</div>"
      ],
      "text/plain": [
       "                   datetime  \\\n",
       "0 2018-12-31 23:45:26+00:00   \n",
       "1 2018-12-31 23:23:00+00:00   \n",
       "2 2018-12-31 22:13:06+00:00   \n",
       "3 2018-12-31 22:07:30+00:00   \n",
       "4 2018-12-31 21:51:41+00:00   \n",
       "\n",
       "                                                text         username  \\\n",
       "0  Market Strategist Who Nailed S&amp;P 500 This ...  DanielMichael26   \n",
       "1  $NSPX 0052? ITS BREAKTHROUGH DRUG ON THE NEWS ...         aaaamhim   \n",
       "2  $XLF Daily: #XLF broke through 13MA.  Consider...  MysteryTrader99   \n",
       "3  The Dogs of the Dow finished 2018 with a total...    bespokeinvest   \n",
       "4  $FRC $SLB $GE $UTX $FE $T $HUM $V $DIS $JPM $T...     TeresaTrades   \n",
       "\n",
       "   likeCount  replyCount  retweetCount  \n",
       "0          2           0             0  \n",
       "1          1           0             2  \n",
       "2         16           1             6  \n",
       "3         53           4            21  \n",
       "4          1           0             0  "
      ]
     },
     "execution_count": 8,
     "metadata": {},
     "output_type": "execute_result"
    }
   ],
   "source": [
    "jpm_tweets = pd.concat([ jpm_2018, jpm_2019, jpm_2020, jpm_2021, jpm_2021 ], ignore_index=True)\n",
    "jpm_tweets.head()"
   ]
  },
  {
   "cell_type": "code",
   "execution_count": 14,
   "id": "c906aeb6",
   "metadata": {},
   "outputs": [
    {
     "data": {
      "text/plain": [
       "(57913, 6)"
      ]
     },
     "execution_count": 14,
     "metadata": {},
     "output_type": "execute_result"
    }
   ],
   "source": [
    "jpm_tweets.shape"
   ]
  },
  {
   "cell_type": "code",
   "execution_count": 9,
   "id": "46318573",
   "metadata": {},
   "outputs": [],
   "source": [
    "jpm_tweets.to_csv('../data/raw/jpm_tweets_all.csv')"
   ]
  },
  {
   "cell_type": "code",
   "execution_count": null,
   "id": "18ff2795",
   "metadata": {},
   "outputs": [],
   "source": []
  }
 ],
 "metadata": {
  "kernelspec": {
   "display_name": "Python 3 (ipykernel)",
   "language": "python",
   "name": "python3"
  },
  "language_info": {
   "codemirror_mode": {
    "name": "ipython",
    "version": 3
   },
   "file_extension": ".py",
   "mimetype": "text/x-python",
   "name": "python",
   "nbconvert_exporter": "python",
   "pygments_lexer": "ipython3",
   "version": "3.9.12"
  }
 },
 "nbformat": 4,
 "nbformat_minor": 5
}
