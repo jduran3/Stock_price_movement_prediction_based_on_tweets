{
 "cells": [
  {
   "cell_type": "markdown",
   "id": "c0c71438",
   "metadata": {},
   "source": [
    "### Import libraries"
   ]
  },
  {
   "cell_type": "code",
   "execution_count": 1,
   "id": "702214dd",
   "metadata": {},
   "outputs": [],
   "source": [
    "import pandas as pd\n",
    "import numpy as np\n",
    "import matplotlib.pyplot as plt\n",
    "import yfinance as yf\n",
    "from datetime import datetime, timedelta, date\n",
    "import pytz\n",
    "import re\n",
    "import string\n",
    "import demoji\n",
    "from nltk.tokenize import regexp_tokenize, word_tokenize, TweetTokenizer\n",
    "from nltk.corpus import stopwords\n",
    "from nltk.stem import PorterStemmer, WordNetLemmatizer"
   ]
  },
  {
   "cell_type": "code",
   "execution_count": 2,
   "id": "b7a28926",
   "metadata": {},
   "outputs": [],
   "source": [
    "# Setting option to display all columns for dataframes\n",
    "pd.set_option('display.max_columns', None)"
   ]
  },
  {
   "cell_type": "markdown",
   "id": "5e4f0b70",
   "metadata": {},
   "source": [
    "### Import data from tweets"
   ]
  },
  {
   "cell_type": "markdown",
   "id": "d6d3242e",
   "metadata": {},
   "source": [
    "Let's start by defining a function to import the tweets from the csv files we did on the data aquisition, converting timezone from UTC to ET and adding additional columns for date, hour, minutes and day of the week."
   ]
  },
  {
   "cell_type": "code",
   "execution_count": 3,
   "id": "3e95fd25",
   "metadata": {},
   "outputs": [],
   "source": [
    "def load_tweets(stock):\n",
    "    '''Function to import tweets from csv files, converts timezone from UTC to ET, and adds additional columns for date, \n",
    "    hour, minutes and day of week'''\n",
    "    \n",
    "    # Read csv files for years 2018-2022 and concat them together resetting the index\n",
    "    df = pd.read_csv(f'../data/raw/{stock}_tweets_all.csv', index_col=0, parse_dates=['datetime'])\n",
    "    \n",
    "    # Convert timezone from UTC to ET\n",
    "    df['datetime'] = df['datetime'].apply(lambda x: x.astimezone('US/Eastern'))\n",
    "    \n",
    "    # Create column with stock ticker\n",
    "    df['stock'] = stock.upper()\n",
    "    \n",
    "    # Get date and hour from datetime column, and add day of the week to filter weekends\n",
    "    df['date'] = df['datetime'].apply(lambda x: x.date())\n",
    "    df['hour'] = df['datetime'].apply(lambda x: x.hour)\n",
    "    df['minutes'] = df['datetime'].apply(lambda x: x.minute)\n",
    "    df['dayofweek'] = df['datetime'].apply(lambda x: x.dayofweek)\n",
    "    \n",
    "    print(f\"Number of {stock} tweets loaded: {df.shape[0]}\")\n",
    "    \n",
    "    return df"
   ]
  },
  {
   "cell_type": "markdown",
   "id": "ee5ca805",
   "metadata": {},
   "source": [
    "Let's use our function to pull the tweets"
   ]
  },
  {
   "cell_type": "code",
   "execution_count": 4,
   "id": "1dc83745",
   "metadata": {},
   "outputs": [
    {
     "name": "stdout",
     "output_type": "stream",
     "text": [
      "Number of googl tweets loaded: 118420\n",
      "Number of xom tweets loaded: 42956\n",
      "Number of jpm tweets loaded: 57913\n"
     ]
    }
   ],
   "source": [
    "googl_df = load_tweets('googl')\n",
    "xom_df = load_tweets('xom')\n",
    "jpm_df = load_tweets('jpm')"
   ]
  },
  {
   "cell_type": "markdown",
   "id": "78d65a19",
   "metadata": {},
   "source": [
    "Consolidating all tweets in one single dataframe"
   ]
  },
  {
   "cell_type": "code",
   "execution_count": 5,
   "id": "069357f2",
   "metadata": {},
   "outputs": [],
   "source": [
    "tweets_df = pd.concat([googl_df, xom_df, jpm_df], ignore_index=True)"
   ]
  },
  {
   "cell_type": "code",
   "execution_count": 6,
   "id": "3cfc77bb",
   "metadata": {},
   "outputs": [
    {
     "data": {
      "text/html": [
       "<div>\n",
       "<style scoped>\n",
       "    .dataframe tbody tr th:only-of-type {\n",
       "        vertical-align: middle;\n",
       "    }\n",
       "\n",
       "    .dataframe tbody tr th {\n",
       "        vertical-align: top;\n",
       "    }\n",
       "\n",
       "    .dataframe thead th {\n",
       "        text-align: right;\n",
       "    }\n",
       "</style>\n",
       "<table border=\"1\" class=\"dataframe\">\n",
       "  <thead>\n",
       "    <tr style=\"text-align: right;\">\n",
       "      <th></th>\n",
       "      <th>datetime</th>\n",
       "      <th>text</th>\n",
       "      <th>username</th>\n",
       "      <th>likeCount</th>\n",
       "      <th>replyCount</th>\n",
       "      <th>retweetCount</th>\n",
       "      <th>stock</th>\n",
       "      <th>date</th>\n",
       "      <th>hour</th>\n",
       "      <th>minutes</th>\n",
       "      <th>dayofweek</th>\n",
       "    </tr>\n",
       "  </thead>\n",
       "  <tbody>\n",
       "    <tr>\n",
       "      <th>171599</th>\n",
       "      <td>2019-10-16 00:28:33-04:00</td>\n",
       "      <td>#Watchlist results10/15 $AAPL $ABBV $ADBE $AMA...</td>\n",
       "      <td>TheFireguy343</td>\n",
       "      <td>1</td>\n",
       "      <td>0</td>\n",
       "      <td>0</td>\n",
       "      <td>JPM</td>\n",
       "      <td>2019-10-16</td>\n",
       "      <td>0</td>\n",
       "      <td>28</td>\n",
       "      <td>2</td>\n",
       "    </tr>\n",
       "    <tr>\n",
       "      <th>160356</th>\n",
       "      <td>2021-02-02 07:48:02-05:00</td>\n",
       "      <td>A Market No-Doubter, Vaccine Milestone, GDP Gr...</td>\n",
       "      <td>Sarge986</td>\n",
       "      <td>10</td>\n",
       "      <td>4</td>\n",
       "      <td>10</td>\n",
       "      <td>XOM</td>\n",
       "      <td>2021-02-02</td>\n",
       "      <td>7</td>\n",
       "      <td>48</td>\n",
       "      <td>1</td>\n",
       "    </tr>\n",
       "    <tr>\n",
       "      <th>31966</th>\n",
       "      <td>2019-04-19 10:54:45-04:00</td>\n",
       "      <td>@saxena_puru Totally agree. I consider $AMZN $...</td>\n",
       "      <td>Matt_Cochrane7</td>\n",
       "      <td>8</td>\n",
       "      <td>3</td>\n",
       "      <td>0</td>\n",
       "      <td>GOOGL</td>\n",
       "      <td>2019-04-19</td>\n",
       "      <td>10</td>\n",
       "      <td>54</td>\n",
       "      <td>4</td>\n",
       "    </tr>\n",
       "    <tr>\n",
       "      <th>143199</th>\n",
       "      <td>2021-06-16 10:57:14-04:00</td>\n",
       "      <td>@Convertbond Bingo! Like when they removed $xo...</td>\n",
       "      <td>Kingpin_15</td>\n",
       "      <td>2</td>\n",
       "      <td>0</td>\n",
       "      <td>0</td>\n",
       "      <td>XOM</td>\n",
       "      <td>2021-06-16</td>\n",
       "      <td>10</td>\n",
       "      <td>57</td>\n",
       "      <td>2</td>\n",
       "    </tr>\n",
       "    <tr>\n",
       "      <th>106463</th>\n",
       "      <td>2021-06-06 10:52:58-04:00</td>\n",
       "      <td>$BB Press Release: Investor Conference this We...</td>\n",
       "      <td>_terrig</td>\n",
       "      <td>1</td>\n",
       "      <td>0</td>\n",
       "      <td>0</td>\n",
       "      <td>GOOGL</td>\n",
       "      <td>2021-06-06</td>\n",
       "      <td>10</td>\n",
       "      <td>52</td>\n",
       "      <td>6</td>\n",
       "    </tr>\n",
       "  </tbody>\n",
       "</table>\n",
       "</div>"
      ],
      "text/plain": [
       "                        datetime  \\\n",
       "171599 2019-10-16 00:28:33-04:00   \n",
       "160356 2021-02-02 07:48:02-05:00   \n",
       "31966  2019-04-19 10:54:45-04:00   \n",
       "143199 2021-06-16 10:57:14-04:00   \n",
       "106463 2021-06-06 10:52:58-04:00   \n",
       "\n",
       "                                                     text        username  \\\n",
       "171599  #Watchlist results10/15 $AAPL $ABBV $ADBE $AMA...   TheFireguy343   \n",
       "160356  A Market No-Doubter, Vaccine Milestone, GDP Gr...        Sarge986   \n",
       "31966   @saxena_puru Totally agree. I consider $AMZN $...  Matt_Cochrane7   \n",
       "143199  @Convertbond Bingo! Like when they removed $xo...      Kingpin_15   \n",
       "106463  $BB Press Release: Investor Conference this We...         _terrig   \n",
       "\n",
       "        likeCount  replyCount  retweetCount  stock        date  hour  minutes  \\\n",
       "171599          1           0             0    JPM  2019-10-16     0       28   \n",
       "160356         10           4            10    XOM  2021-02-02     7       48   \n",
       "31966           8           3             0  GOOGL  2019-04-19    10       54   \n",
       "143199          2           0             0    XOM  2021-06-16    10       57   \n",
       "106463          1           0             0  GOOGL  2021-06-06    10       52   \n",
       "\n",
       "        dayofweek  \n",
       "171599          2  \n",
       "160356          1  \n",
       "31966           4  \n",
       "143199          2  \n",
       "106463          6  "
      ]
     },
     "execution_count": 6,
     "metadata": {},
     "output_type": "execute_result"
    }
   ],
   "source": [
    "tweets_df.sample(5)"
   ]
  },
  {
   "cell_type": "code",
   "execution_count": 7,
   "id": "5fb6d830",
   "metadata": {},
   "outputs": [
    {
     "data": {
      "text/plain": [
       "(219289, 11)"
      ]
     },
     "execution_count": 7,
     "metadata": {},
     "output_type": "execute_result"
    }
   ],
   "source": [
    "tweets_df.shape"
   ]
  },
  {
   "cell_type": "markdown",
   "id": "093905dd",
   "metadata": {},
   "source": [
    "<br> Let's define a function that will tell us what date to pull from the historical stock data.<br>\n",
    "<br> If the tweet is after 4:00pm, it will set prediction date to next day.\n",
    "<br> If the tweet is before 9:30am, it will set prediction date for that same day.\n",
    "<br> If the tweet is from the weekend, it will set prediction date to next Monday.\n",
    "<br> Otherwise it will label as 'market hours'"
   ]
  },
  {
   "cell_type": "code",
   "execution_count": 8,
   "id": "4900c2b2",
   "metadata": {},
   "outputs": [],
   "source": [
    "def get_prediction_date(date, hour, minutes, dayofweek):\n",
    "    '''Function that returns the prediction date or it states that these are market hours'''\n",
    "    \n",
    "    # Monday - Thursday \n",
    "    # After 4pm: return next day, Before 7:30am return same day, Else return market hours\n",
    "    if dayofweek in [0,1,2,3]:\n",
    "        if hour >= 16:\n",
    "            return (date + timedelta(days=1))\n",
    "        elif ((hour < 7) & (minutes < 60)) | ((hour == 7) & (minutes < 30)):\n",
    "            return date\n",
    "        else:\n",
    "            return 'market hours'\n",
    "    \n",
    "    # Friday\n",
    "    # After 4pm: return next Monday, Before 7:30am return same day, Else return market hours\n",
    "    if dayofweek == 4:\n",
    "        if hour >= 16:\n",
    "            return (date + timedelta(days=3))\n",
    "        elif ((hour < 7) & (minutes < 60)) | ((hour == 7) & (minutes < 30)):\n",
    "            return date\n",
    "        else:\n",
    "            return 'market hours'\n",
    "        \n",
    "    # Saturday\n",
    "    # Regardless of hour, return next Monday\n",
    "    if dayofweek == 5:\n",
    "        return (date + timedelta(days=2))\n",
    "    \n",
    "    # Sunday\n",
    "    # Regardless of hour, return next Monday\n",
    "    if dayofweek == 6:\n",
    "        return (date + timedelta(days=1))"
   ]
  },
  {
   "cell_type": "code",
   "execution_count": 9,
   "id": "5a986909",
   "metadata": {},
   "outputs": [],
   "source": [
    "tweets_df['predictiondate'] = tweets_df.apply(lambda x: get_prediction_date(x.date, x.hour, x.minutes, x.dayofweek), axis=1)"
   ]
  },
  {
   "cell_type": "code",
   "execution_count": 10,
   "id": "e8c1eda7",
   "metadata": {},
   "outputs": [
    {
     "data": {
      "text/html": [
       "<div>\n",
       "<style scoped>\n",
       "    .dataframe tbody tr th:only-of-type {\n",
       "        vertical-align: middle;\n",
       "    }\n",
       "\n",
       "    .dataframe tbody tr th {\n",
       "        vertical-align: top;\n",
       "    }\n",
       "\n",
       "    .dataframe thead th {\n",
       "        text-align: right;\n",
       "    }\n",
       "</style>\n",
       "<table border=\"1\" class=\"dataframe\">\n",
       "  <thead>\n",
       "    <tr style=\"text-align: right;\">\n",
       "      <th></th>\n",
       "      <th>datetime</th>\n",
       "      <th>text</th>\n",
       "      <th>username</th>\n",
       "      <th>likeCount</th>\n",
       "      <th>replyCount</th>\n",
       "      <th>retweetCount</th>\n",
       "      <th>stock</th>\n",
       "      <th>date</th>\n",
       "      <th>hour</th>\n",
       "      <th>minutes</th>\n",
       "      <th>dayofweek</th>\n",
       "      <th>predictiondate</th>\n",
       "    </tr>\n",
       "  </thead>\n",
       "  <tbody>\n",
       "    <tr>\n",
       "      <th>91500</th>\n",
       "      <td>2021-12-07 09:36:04-05:00</td>\n",
       "      <td>$SHOP up massively too\\n\\n$GOOGL\\n\\n$AMZN\\n\\nb...</td>\n",
       "      <td>StockHollywood</td>\n",
       "      <td>2</td>\n",
       "      <td>0</td>\n",
       "      <td>0</td>\n",
       "      <td>GOOGL</td>\n",
       "      <td>2021-12-07</td>\n",
       "      <td>9</td>\n",
       "      <td>36</td>\n",
       "      <td>1</td>\n",
       "      <td>market hours</td>\n",
       "    </tr>\n",
       "    <tr>\n",
       "      <th>31408</th>\n",
       "      <td>2019-04-29 16:12:26-04:00</td>\n",
       "      <td>$GOOGL 1220 support</td>\n",
       "      <td>brianinvest</td>\n",
       "      <td>1</td>\n",
       "      <td>0</td>\n",
       "      <td>0</td>\n",
       "      <td>GOOGL</td>\n",
       "      <td>2019-04-29</td>\n",
       "      <td>16</td>\n",
       "      <td>12</td>\n",
       "      <td>0</td>\n",
       "      <td>2019-04-30</td>\n",
       "    </tr>\n",
       "    <tr>\n",
       "      <th>18244</th>\n",
       "      <td>2019-12-26 13:40:45-05:00</td>\n",
       "      <td>$AMZN keeps grinding higher... 1900 can happen...</td>\n",
       "      <td>EliteOptions2</td>\n",
       "      <td>10</td>\n",
       "      <td>0</td>\n",
       "      <td>1</td>\n",
       "      <td>GOOGL</td>\n",
       "      <td>2019-12-26</td>\n",
       "      <td>13</td>\n",
       "      <td>40</td>\n",
       "      <td>3</td>\n",
       "      <td>market hours</td>\n",
       "    </tr>\n",
       "    <tr>\n",
       "      <th>87305</th>\n",
       "      <td>2021-02-01 22:10:34-05:00</td>\n",
       "      <td>Why Ford #Stock Just Put its Pedal to the Meta...</td>\n",
       "      <td>bluerizzle_brad</td>\n",
       "      <td>1</td>\n",
       "      <td>0</td>\n",
       "      <td>1</td>\n",
       "      <td>GOOGL</td>\n",
       "      <td>2021-02-01</td>\n",
       "      <td>22</td>\n",
       "      <td>10</td>\n",
       "      <td>0</td>\n",
       "      <td>2021-02-02</td>\n",
       "    </tr>\n",
       "    <tr>\n",
       "      <th>153306</th>\n",
       "      <td>2021-08-06 10:59:42-04:00</td>\n",
       "      <td>🥊 5 Oil Majors Compared 🏆 \\n\\nAll have reporte...</td>\n",
       "      <td>European_DGI</td>\n",
       "      <td>60</td>\n",
       "      <td>9</td>\n",
       "      <td>12</td>\n",
       "      <td>XOM</td>\n",
       "      <td>2021-08-06</td>\n",
       "      <td>10</td>\n",
       "      <td>59</td>\n",
       "      <td>4</td>\n",
       "      <td>market hours</td>\n",
       "    </tr>\n",
       "  </tbody>\n",
       "</table>\n",
       "</div>"
      ],
      "text/plain": [
       "                        datetime  \\\n",
       "91500  2021-12-07 09:36:04-05:00   \n",
       "31408  2019-04-29 16:12:26-04:00   \n",
       "18244  2019-12-26 13:40:45-05:00   \n",
       "87305  2021-02-01 22:10:34-05:00   \n",
       "153306 2021-08-06 10:59:42-04:00   \n",
       "\n",
       "                                                     text         username  \\\n",
       "91500   $SHOP up massively too\\n\\n$GOOGL\\n\\n$AMZN\\n\\nb...   StockHollywood   \n",
       "31408                                 $GOOGL 1220 support      brianinvest   \n",
       "18244   $AMZN keeps grinding higher... 1900 can happen...    EliteOptions2   \n",
       "87305   Why Ford #Stock Just Put its Pedal to the Meta...  bluerizzle_brad   \n",
       "153306  🥊 5 Oil Majors Compared 🏆 \\n\\nAll have reporte...     European_DGI   \n",
       "\n",
       "        likeCount  replyCount  retweetCount  stock        date  hour  minutes  \\\n",
       "91500           2           0             0  GOOGL  2021-12-07     9       36   \n",
       "31408           1           0             0  GOOGL  2019-04-29    16       12   \n",
       "18244          10           0             1  GOOGL  2019-12-26    13       40   \n",
       "87305           1           0             1  GOOGL  2021-02-01    22       10   \n",
       "153306         60           9            12    XOM  2021-08-06    10       59   \n",
       "\n",
       "        dayofweek predictiondate  \n",
       "91500           1   market hours  \n",
       "31408           0     2019-04-30  \n",
       "18244           3   market hours  \n",
       "87305           0     2021-02-02  \n",
       "153306          4   market hours  "
      ]
     },
     "execution_count": 10,
     "metadata": {},
     "output_type": "execute_result"
    }
   ],
   "source": [
    "tweets_df.sample(5)"
   ]
  },
  {
   "cell_type": "markdown",
   "id": "e0a55bfe",
   "metadata": {},
   "source": [
    "### Download stock price historical data"
   ]
  },
  {
   "cell_type": "markdown",
   "id": "3b4dadf4",
   "metadata": {},
   "source": [
    "We'll create a function to download stock price historical data from Yahoo Finance, remove unnecessary columns, and add more columns we'll need later.\n",
    "<br> The historical data will be in 1 day intervals.\n",
    "<br><br> The way we're calculating the stock price change is last day Close vs today's Open, this will determine if the price went up or down.\n",
    "<br> With this information we'll create our target variable 'price_movement' that will have a 1 if it goes up or a 0 if it goes down."
   ]
  },
  {
   "cell_type": "code",
   "execution_count": 11,
   "id": "e3508cce",
   "metadata": {},
   "outputs": [],
   "source": [
    "def get_stock_data(stock):\n",
    "    \n",
    "    # pulling data from Yahoo Finance\n",
    "    df_stock = yf.download(tickers = stock, start='2018-01-01', end='2022-12-31', interval = '1d', rounding=True)  \n",
    "    df_stock = df_stock.drop(columns=['High','Low','Adj Close','Volume'], axis=1)  # removing columns we won't need\n",
    "    \n",
    "    # Creating additional columns we'll need later\n",
    "    df_stock['stock'] = stock\n",
    "    df_stock['date'] = df_stock.index.date\n",
    "    \n",
    "    # Resetting index\n",
    "    df_stock = df_stock.reset_index()\n",
    "    \n",
    "    # Adding column for price change\n",
    "    for i in range(1, len(df_stock)):\n",
    "        df_stock.loc[i,'price_change'] = round(df_stock.loc[i]['Open'] - df_stock.loc[i-1]['Close'],2)\n",
    "        \n",
    "    # Adding column for price change percentage\n",
    "    for i in range(1, len(df_stock)):\n",
    "        df_stock.loc[i,'price_change_percent'] = round( ((df_stock.loc[i]['Open'] - df_stock.loc[i-1]['Close'])\\\n",
    "                                                    / df_stock.loc[i-1]['Close'])*100 ,2)\n",
    "    \n",
    "    # Adding column for price_movement\n",
    "    df_stock['price_movement'] = df_stock['price_change'].apply(lambda x: 1 if x > 0 else 0)\n",
    "    \n",
    "    # Dropping first row since it won't have a price change\n",
    "    df_stock = df_stock[1:]\n",
    "    \n",
    "    return df_stock"
   ]
  },
  {
   "cell_type": "code",
   "execution_count": 12,
   "id": "eeee2acc",
   "metadata": {},
   "outputs": [
    {
     "name": "stdout",
     "output_type": "stream",
     "text": [
      "[*********************100%***********************]  1 of 1 completed\n",
      "[*********************100%***********************]  1 of 1 completed\n",
      "[*********************100%***********************]  1 of 1 completed\n"
     ]
    }
   ],
   "source": [
    "googl_stock = get_stock_data('GOOGL')\n",
    "xom_stock = get_stock_data('XOM')\n",
    "jpm_stock = get_stock_data('JPM')"
   ]
  },
  {
   "cell_type": "code",
   "execution_count": 13,
   "id": "617eae1d",
   "metadata": {},
   "outputs": [],
   "source": [
    "all_stocks = pd.concat([googl_stock, xom_stock, jpm_stock], ignore_index=True)"
   ]
  },
  {
   "cell_type": "code",
   "execution_count": 14,
   "id": "53d76c50",
   "metadata": {},
   "outputs": [
    {
     "data": {
      "text/html": [
       "<div>\n",
       "<style scoped>\n",
       "    .dataframe tbody tr th:only-of-type {\n",
       "        vertical-align: middle;\n",
       "    }\n",
       "\n",
       "    .dataframe tbody tr th {\n",
       "        vertical-align: top;\n",
       "    }\n",
       "\n",
       "    .dataframe thead th {\n",
       "        text-align: right;\n",
       "    }\n",
       "</style>\n",
       "<table border=\"1\" class=\"dataframe\">\n",
       "  <thead>\n",
       "    <tr style=\"text-align: right;\">\n",
       "      <th></th>\n",
       "      <th>Date</th>\n",
       "      <th>Open</th>\n",
       "      <th>Close</th>\n",
       "      <th>stock</th>\n",
       "      <th>date</th>\n",
       "      <th>price_change</th>\n",
       "      <th>price_change_percent</th>\n",
       "      <th>price_movement</th>\n",
       "    </tr>\n",
       "  </thead>\n",
       "  <tbody>\n",
       "    <tr>\n",
       "      <th>896</th>\n",
       "      <td>2021-07-27 00:00:00-04:00</td>\n",
       "      <td>134.25</td>\n",
       "      <td>131.90</td>\n",
       "      <td>GOOGL</td>\n",
       "      <td>2021-07-27</td>\n",
       "      <td>0.21</td>\n",
       "      <td>0.16</td>\n",
       "      <td>1</td>\n",
       "    </tr>\n",
       "    <tr>\n",
       "      <th>438</th>\n",
       "      <td>2019-10-01 00:00:00-04:00</td>\n",
       "      <td>61.12</td>\n",
       "      <td>60.30</td>\n",
       "      <td>GOOGL</td>\n",
       "      <td>2019-10-01</td>\n",
       "      <td>0.06</td>\n",
       "      <td>0.10</td>\n",
       "      <td>1</td>\n",
       "    </tr>\n",
       "    <tr>\n",
       "      <th>1392</th>\n",
       "      <td>2018-07-17 00:00:00-04:00</td>\n",
       "      <td>82.26</td>\n",
       "      <td>82.31</td>\n",
       "      <td>XOM</td>\n",
       "      <td>2018-07-17</td>\n",
       "      <td>-0.23</td>\n",
       "      <td>-0.28</td>\n",
       "      <td>0</td>\n",
       "    </tr>\n",
       "    <tr>\n",
       "      <th>1422</th>\n",
       "      <td>2018-08-28 00:00:00-04:00</td>\n",
       "      <td>80.58</td>\n",
       "      <td>80.28</td>\n",
       "      <td>XOM</td>\n",
       "      <td>2018-08-28</td>\n",
       "      <td>0.18</td>\n",
       "      <td>0.22</td>\n",
       "      <td>1</td>\n",
       "    </tr>\n",
       "    <tr>\n",
       "      <th>3228</th>\n",
       "      <td>2020-10-30 00:00:00-04:00</td>\n",
       "      <td>97.91</td>\n",
       "      <td>98.04</td>\n",
       "      <td>JPM</td>\n",
       "      <td>2020-10-30</td>\n",
       "      <td>0.74</td>\n",
       "      <td>0.76</td>\n",
       "      <td>1</td>\n",
       "    </tr>\n",
       "  </tbody>\n",
       "</table>\n",
       "</div>"
      ],
      "text/plain": [
       "                          Date    Open   Close  stock        date  \\\n",
       "896  2021-07-27 00:00:00-04:00  134.25  131.90  GOOGL  2021-07-27   \n",
       "438  2019-10-01 00:00:00-04:00   61.12   60.30  GOOGL  2019-10-01   \n",
       "1392 2018-07-17 00:00:00-04:00   82.26   82.31    XOM  2018-07-17   \n",
       "1422 2018-08-28 00:00:00-04:00   80.58   80.28    XOM  2018-08-28   \n",
       "3228 2020-10-30 00:00:00-04:00   97.91   98.04    JPM  2020-10-30   \n",
       "\n",
       "      price_change  price_change_percent  price_movement  \n",
       "896           0.21                  0.16               1  \n",
       "438           0.06                  0.10               1  \n",
       "1392         -0.23                 -0.28               0  \n",
       "1422          0.18                  0.22               1  \n",
       "3228          0.74                  0.76               1  "
      ]
     },
     "execution_count": 14,
     "metadata": {},
     "output_type": "execute_result"
    }
   ],
   "source": [
    "all_stocks.sample(5)"
   ]
  },
  {
   "cell_type": "code",
   "execution_count": 15,
   "id": "79cbf79c",
   "metadata": {},
   "outputs": [
    {
     "data": {
      "text/plain": [
       "(3774, 8)"
      ]
     },
     "execution_count": 15,
     "metadata": {},
     "output_type": "execute_result"
    }
   ],
   "source": [
    "all_stocks.shape"
   ]
  },
  {
   "cell_type": "markdown",
   "id": "e26e048a",
   "metadata": {},
   "source": [
    "We will apply a threshold to the price_change_percent. We want to exclude small moves in price. We can see that if we apply a 0.3% threshold we still keep 69% of our records."
   ]
  },
  {
   "cell_type": "code",
   "execution_count": 16,
   "id": "098a02a8",
   "metadata": {},
   "outputs": [
    {
     "data": {
      "text/plain": [
       "2603"
      ]
     },
     "execution_count": 16,
     "metadata": {},
     "output_type": "execute_result"
    }
   ],
   "source": [
    "all_stocks[(all_stocks.price_change_percent > 0.3) | (all_stocks.price_change_percent < -0.3)].count()['Open']"
   ]
  },
  {
   "cell_type": "code",
   "execution_count": 17,
   "id": "1b7aff20",
   "metadata": {},
   "outputs": [
    {
     "data": {
      "text/plain": [
       "0.6897191308956014"
      ]
     },
     "execution_count": 17,
     "metadata": {},
     "output_type": "execute_result"
    }
   ],
   "source": [
    "2603/3774"
   ]
  },
  {
   "cell_type": "code",
   "execution_count": 18,
   "id": "3023266f",
   "metadata": {},
   "outputs": [
    {
     "data": {
      "text/plain": [
       "(2603, 8)"
      ]
     },
     "execution_count": 18,
     "metadata": {},
     "output_type": "execute_result"
    }
   ],
   "source": [
    "all_stocks = all_stocks[(all_stocks.price_change_percent > 0.3) | (all_stocks.price_change_percent < -0.3)]\n",
    "all_stocks.shape"
   ]
  },
  {
   "cell_type": "markdown",
   "id": "f85edce2",
   "metadata": {},
   "source": [
    "### Merge data from tweets and stock price data"
   ]
  },
  {
   "cell_type": "markdown",
   "id": "41c13407",
   "metadata": {},
   "source": [
    "We'll merge the data from the tweets and stock price based on stock and the prediction date we got from our function. \n",
    "<br>This will only keep tweets after market hours and all tweets from the weekends."
   ]
  },
  {
   "cell_type": "code",
   "execution_count": 19,
   "id": "8925e524",
   "metadata": {},
   "outputs": [],
   "source": [
    "def merge_tweet_stock(tweets_df, stocks_df):\n",
    "    \n",
    "    print(f'Tweets prior to merge: {tweets_df.shape[0]}')\n",
    "    merged_df = pd.merge(tweets_df, stocks_df, left_on=['predictiondate','stock'], right_on=['date','stock'])\n",
    "    print(f'Tweets after merge: {merged_df.shape[0]}\\n')\n",
    "\n",
    "    # Dropping columns we won't need\n",
    "    merged_df = merged_df.drop(columns=['Open','Close','Date','price_change','price_change_percent','date_y'], axis=1)\n",
    "       \n",
    "    return merged_df"
   ]
  },
  {
   "cell_type": "code",
   "execution_count": 20,
   "id": "49958289",
   "metadata": {},
   "outputs": [
    {
     "name": "stdout",
     "output_type": "stream",
     "text": [
      "Tweets prior to merge: 219289\n",
      "Tweets after merge: 72534\n",
      "\n"
     ]
    }
   ],
   "source": [
    "stocks_merged = merge_tweet_stock(tweets_df, all_stocks)"
   ]
  },
  {
   "cell_type": "markdown",
   "id": "b5ef170c",
   "metadata": {},
   "source": [
    "Our number of tweets went from 219k to 72k when we filtered out market hours, it's still a decent amount of tweets."
   ]
  },
  {
   "cell_type": "code",
   "execution_count": 21,
   "id": "541fcbcb",
   "metadata": {},
   "outputs": [
    {
     "data": {
      "text/html": [
       "<div>\n",
       "<style scoped>\n",
       "    .dataframe tbody tr th:only-of-type {\n",
       "        vertical-align: middle;\n",
       "    }\n",
       "\n",
       "    .dataframe tbody tr th {\n",
       "        vertical-align: top;\n",
       "    }\n",
       "\n",
       "    .dataframe thead th {\n",
       "        text-align: right;\n",
       "    }\n",
       "</style>\n",
       "<table border=\"1\" class=\"dataframe\">\n",
       "  <thead>\n",
       "    <tr style=\"text-align: right;\">\n",
       "      <th></th>\n",
       "      <th>datetime</th>\n",
       "      <th>text</th>\n",
       "      <th>username</th>\n",
       "      <th>likeCount</th>\n",
       "      <th>replyCount</th>\n",
       "      <th>retweetCount</th>\n",
       "      <th>stock</th>\n",
       "      <th>date_x</th>\n",
       "      <th>hour</th>\n",
       "      <th>minutes</th>\n",
       "      <th>dayofweek</th>\n",
       "      <th>predictiondate</th>\n",
       "      <th>price_movement</th>\n",
       "    </tr>\n",
       "  </thead>\n",
       "  <tbody>\n",
       "    <tr>\n",
       "      <th>52713</th>\n",
       "      <td>2021-02-11 16:02:26-05:00</td>\n",
       "      <td>RECAP 2/11 Unusual Puts:\\n$XOM Feb 48.5 P\\n$FO...</td>\n",
       "      <td>OpenOutcrier</td>\n",
       "      <td>3</td>\n",
       "      <td>1</td>\n",
       "      <td>0</td>\n",
       "      <td>XOM</td>\n",
       "      <td>2021-02-11</td>\n",
       "      <td>16</td>\n",
       "      <td>2</td>\n",
       "      <td>3</td>\n",
       "      <td>2021-02-12</td>\n",
       "      <td>0</td>\n",
       "    </tr>\n",
       "    <tr>\n",
       "      <th>59672</th>\n",
       "      <td>2020-11-13 16:15:55-05:00</td>\n",
       "      <td>Something fishy\\n\\nTons of $TLT dark pool buys...</td>\n",
       "      <td>breakingoptions</td>\n",
       "      <td>9</td>\n",
       "      <td>0</td>\n",
       "      <td>1</td>\n",
       "      <td>JPM</td>\n",
       "      <td>2020-11-13</td>\n",
       "      <td>16</td>\n",
       "      <td>15</td>\n",
       "      <td>4</td>\n",
       "      <td>2020-11-16</td>\n",
       "      <td>1</td>\n",
       "    </tr>\n",
       "    <tr>\n",
       "      <th>25413</th>\n",
       "      <td>2021-09-25 11:02:52-04:00</td>\n",
       "      <td>Microdisplays: The key high value (high margin...</td>\n",
       "      <td>DZierler</td>\n",
       "      <td>6</td>\n",
       "      <td>1</td>\n",
       "      <td>1</td>\n",
       "      <td>GOOGL</td>\n",
       "      <td>2021-09-25</td>\n",
       "      <td>11</td>\n",
       "      <td>2</td>\n",
       "      <td>5</td>\n",
       "      <td>2021-09-27</td>\n",
       "      <td>0</td>\n",
       "    </tr>\n",
       "    <tr>\n",
       "      <th>57217</th>\n",
       "      <td>2019-09-09 16:08:47-04:00</td>\n",
       "      <td>4 Stocks To Like For The Next Decade https://t...</td>\n",
       "      <td>JorelLaraKalel</td>\n",
       "      <td>1</td>\n",
       "      <td>0</td>\n",
       "      <td>0</td>\n",
       "      <td>JPM</td>\n",
       "      <td>2019-09-09</td>\n",
       "      <td>16</td>\n",
       "      <td>8</td>\n",
       "      <td>0</td>\n",
       "      <td>2019-09-10</td>\n",
       "      <td>1</td>\n",
       "    </tr>\n",
       "    <tr>\n",
       "      <th>17704</th>\n",
       "      <td>2020-04-28 19:11:56-04:00</td>\n",
       "      <td>I just read $GOOGL comments on their outlook. ...</td>\n",
       "      <td>MoMoBagholder</td>\n",
       "      <td>20</td>\n",
       "      <td>2</td>\n",
       "      <td>1</td>\n",
       "      <td>GOOGL</td>\n",
       "      <td>2020-04-28</td>\n",
       "      <td>19</td>\n",
       "      <td>11</td>\n",
       "      <td>1</td>\n",
       "      <td>2020-04-29</td>\n",
       "      <td>1</td>\n",
       "    </tr>\n",
       "  </tbody>\n",
       "</table>\n",
       "</div>"
      ],
      "text/plain": [
       "                       datetime  \\\n",
       "52713 2021-02-11 16:02:26-05:00   \n",
       "59672 2020-11-13 16:15:55-05:00   \n",
       "25413 2021-09-25 11:02:52-04:00   \n",
       "57217 2019-09-09 16:08:47-04:00   \n",
       "17704 2020-04-28 19:11:56-04:00   \n",
       "\n",
       "                                                    text         username  \\\n",
       "52713  RECAP 2/11 Unusual Puts:\\n$XOM Feb 48.5 P\\n$FO...     OpenOutcrier   \n",
       "59672  Something fishy\\n\\nTons of $TLT dark pool buys...  breakingoptions   \n",
       "25413  Microdisplays: The key high value (high margin...         DZierler   \n",
       "57217  4 Stocks To Like For The Next Decade https://t...   JorelLaraKalel   \n",
       "17704  I just read $GOOGL comments on their outlook. ...    MoMoBagholder   \n",
       "\n",
       "       likeCount  replyCount  retweetCount  stock      date_x  hour  minutes  \\\n",
       "52713          3           1             0    XOM  2021-02-11    16        2   \n",
       "59672          9           0             1    JPM  2020-11-13    16       15   \n",
       "25413          6           1             1  GOOGL  2021-09-25    11        2   \n",
       "57217          1           0             0    JPM  2019-09-09    16        8   \n",
       "17704         20           2             1  GOOGL  2020-04-28    19       11   \n",
       "\n",
       "       dayofweek predictiondate  price_movement  \n",
       "52713          3     2021-02-12               0  \n",
       "59672          4     2020-11-16               1  \n",
       "25413          5     2021-09-27               0  \n",
       "57217          0     2019-09-10               1  \n",
       "17704          1     2020-04-29               1  "
      ]
     },
     "execution_count": 21,
     "metadata": {},
     "output_type": "execute_result"
    }
   ],
   "source": [
    "stocks_merged.sample(5)"
   ]
  },
  {
   "cell_type": "markdown",
   "id": "a91f6e0c",
   "metadata": {},
   "source": [
    "### Tweet text processing"
   ]
  },
  {
   "cell_type": "markdown",
   "id": "e8eacd2e",
   "metadata": {},
   "source": [
    "Now we'll start cleaning and processing the text from the tweets."
   ]
  },
  {
   "cell_type": "markdown",
   "id": "c9cf47f6",
   "metadata": {},
   "source": [
    "**Converting to lower case**"
   ]
  },
  {
   "cell_type": "code",
   "execution_count": 22,
   "id": "d38ea51e",
   "metadata": {},
   "outputs": [],
   "source": [
    "stocks_merged['processed_text'] = stocks_merged['text'].apply(lambda x: x.lower())"
   ]
  },
  {
   "cell_type": "code",
   "execution_count": 23,
   "id": "2d216050",
   "metadata": {
    "scrolled": false
   },
   "outputs": [
    {
     "data": {
      "text/plain": [
       "37140    roundhill's @mattdorta covers a top headline f...\n",
       "4264                 $googl ruining my bear raid dreams...\n",
       "23156    analysis for 11.03 (ignore the previous tweet ...\n",
       "32474    @cjoppel i like $msft the best as well. $googl...\n",
       "68869    @kerberos007 not quite: from $cs $ubs $jpm etc...\n",
       "Name: processed_text, dtype: object"
      ]
     },
     "execution_count": 23,
     "metadata": {},
     "output_type": "execute_result"
    }
   ],
   "source": [
    "stocks_merged['processed_text'].sample(5)"
   ]
  },
  {
   "cell_type": "markdown",
   "id": "b59d111b",
   "metadata": {},
   "source": [
    "**Find stock tickers ($)**"
   ]
  },
  {
   "cell_type": "code",
   "execution_count": 24,
   "id": "4d8f6e53",
   "metadata": {},
   "outputs": [],
   "source": [
    "stocks_merged['tickers'] = stocks_merged['processed_text'].apply(lambda x: re.findall(r'[$][A-Za-z][\\S]*', x))"
   ]
  },
  {
   "cell_type": "code",
   "execution_count": 25,
   "id": "e3768f3e",
   "metadata": {},
   "outputs": [],
   "source": [
    "stocks_merged['number_tickers'] = stocks_merged['tickers'].apply(lambda x: len(x))"
   ]
  },
  {
   "cell_type": "code",
   "execution_count": 26,
   "id": "55a99fcb",
   "metadata": {
    "scrolled": true
   },
   "outputs": [
    {
     "data": {
      "text/html": [
       "<div>\n",
       "<style scoped>\n",
       "    .dataframe tbody tr th:only-of-type {\n",
       "        vertical-align: middle;\n",
       "    }\n",
       "\n",
       "    .dataframe tbody tr th {\n",
       "        vertical-align: top;\n",
       "    }\n",
       "\n",
       "    .dataframe thead th {\n",
       "        text-align: right;\n",
       "    }\n",
       "</style>\n",
       "<table border=\"1\" class=\"dataframe\">\n",
       "  <thead>\n",
       "    <tr style=\"text-align: right;\">\n",
       "      <th></th>\n",
       "      <th>datetime</th>\n",
       "      <th>text</th>\n",
       "      <th>username</th>\n",
       "      <th>likeCount</th>\n",
       "      <th>replyCount</th>\n",
       "      <th>retweetCount</th>\n",
       "      <th>stock</th>\n",
       "      <th>date_x</th>\n",
       "      <th>hour</th>\n",
       "      <th>minutes</th>\n",
       "      <th>dayofweek</th>\n",
       "      <th>predictiondate</th>\n",
       "      <th>price_movement</th>\n",
       "      <th>processed_text</th>\n",
       "      <th>tickers</th>\n",
       "      <th>number_tickers</th>\n",
       "    </tr>\n",
       "  </thead>\n",
       "  <tbody>\n",
       "    <tr>\n",
       "      <th>42208</th>\n",
       "      <td>2020-10-21 00:31:00-04:00</td>\n",
       "      <td>$SPXS $QQQ $TSLA $UBER $VXX $IEMG $SNDL $ITUB ...</td>\n",
       "      <td>TashaCl14800837</td>\n",
       "      <td>1</td>\n",
       "      <td>0</td>\n",
       "      <td>0</td>\n",
       "      <td>XOM</td>\n",
       "      <td>2020-10-21</td>\n",
       "      <td>0</td>\n",
       "      <td>31</td>\n",
       "      <td>2</td>\n",
       "      <td>2020-10-21</td>\n",
       "      <td>0</td>\n",
       "      <td>$spxs $qqq $tsla $uber $vxx $iemg $sndl $itub ...</td>\n",
       "      <td>[$spxs, $qqq, $tsla, $uber, $vxx, $iemg, $sndl...</td>\n",
       "      <td>29</td>\n",
       "    </tr>\n",
       "    <tr>\n",
       "      <th>35531</th>\n",
       "      <td>2021-02-20 12:36:44-05:00</td>\n",
       "      <td>Barron’s cover.\\n$ORCL after the cloud ☁️ \\n\\n...</td>\n",
       "      <td>commandenteSD</td>\n",
       "      <td>2</td>\n",
       "      <td>1</td>\n",
       "      <td>0</td>\n",
       "      <td>GOOGL</td>\n",
       "      <td>2021-02-20</td>\n",
       "      <td>12</td>\n",
       "      <td>36</td>\n",
       "      <td>5</td>\n",
       "      <td>2021-02-22</td>\n",
       "      <td>0</td>\n",
       "      <td>barron’s cover.\\n$orcl after the cloud ☁️ \\n\\n...</td>\n",
       "      <td>[$orcl, $amzn, $msft, $googl)]</td>\n",
       "      <td>4</td>\n",
       "    </tr>\n",
       "  </tbody>\n",
       "</table>\n",
       "</div>"
      ],
      "text/plain": [
       "                       datetime  \\\n",
       "42208 2020-10-21 00:31:00-04:00   \n",
       "35531 2021-02-20 12:36:44-05:00   \n",
       "\n",
       "                                                    text         username  \\\n",
       "42208  $SPXS $QQQ $TSLA $UBER $VXX $IEMG $SNDL $ITUB ...  TashaCl14800837   \n",
       "35531  Barron’s cover.\\n$ORCL after the cloud ☁️ \\n\\n...    commandenteSD   \n",
       "\n",
       "       likeCount  replyCount  retweetCount  stock      date_x  hour  minutes  \\\n",
       "42208          1           0             0    XOM  2020-10-21     0       31   \n",
       "35531          2           1             0  GOOGL  2021-02-20    12       36   \n",
       "\n",
       "       dayofweek predictiondate  price_movement  \\\n",
       "42208          2     2020-10-21               0   \n",
       "35531          5     2021-02-22               0   \n",
       "\n",
       "                                          processed_text  \\\n",
       "42208  $spxs $qqq $tsla $uber $vxx $iemg $sndl $itub ...   \n",
       "35531  barron’s cover.\\n$orcl after the cloud ☁️ \\n\\n...   \n",
       "\n",
       "                                                 tickers  number_tickers  \n",
       "42208  [$spxs, $qqq, $tsla, $uber, $vxx, $iemg, $sndl...              29  \n",
       "35531                     [$orcl, $amzn, $msft, $googl)]               4  "
      ]
     },
     "execution_count": 26,
     "metadata": {},
     "output_type": "execute_result"
    }
   ],
   "source": [
    "stocks_merged.sample(2)"
   ]
  },
  {
   "cell_type": "markdown",
   "id": "e7850b19",
   "metadata": {},
   "source": [
    "Let's apply a filter based on number of tickers since we want specific ones with 1 ticker on the text."
   ]
  },
  {
   "cell_type": "code",
   "execution_count": 27,
   "id": "fa856d5f",
   "metadata": {},
   "outputs": [
    {
     "data": {
      "text/plain": [
       "(16327, 16)"
      ]
     },
     "execution_count": 27,
     "metadata": {},
     "output_type": "execute_result"
    }
   ],
   "source": [
    "stocks_merged = stocks_merged[stocks_merged['number_tickers'] < 2].reset_index(drop=True)\n",
    "stocks_merged.shape"
   ]
  },
  {
   "cell_type": "markdown",
   "id": "295f97e3",
   "metadata": {},
   "source": [
    "**Find hashtags (#)**"
   ]
  },
  {
   "cell_type": "code",
   "execution_count": 28,
   "id": "c30fa2e4",
   "metadata": {},
   "outputs": [],
   "source": [
    "stocks_merged['hashtags'] = stocks_merged['processed_text'].apply(lambda x: re.findall(r'[#][A-Za-z][\\S]*', x))"
   ]
  },
  {
   "cell_type": "code",
   "execution_count": 29,
   "id": "e7a23fc1",
   "metadata": {},
   "outputs": [],
   "source": [
    "stocks_merged['number_hashtags'] = stocks_merged['hashtags'].apply(lambda x: len(x))"
   ]
  },
  {
   "cell_type": "code",
   "execution_count": 30,
   "id": "3a67011e",
   "metadata": {
    "scrolled": true
   },
   "outputs": [
    {
     "data": {
      "text/html": [
       "<div>\n",
       "<style scoped>\n",
       "    .dataframe tbody tr th:only-of-type {\n",
       "        vertical-align: middle;\n",
       "    }\n",
       "\n",
       "    .dataframe tbody tr th {\n",
       "        vertical-align: top;\n",
       "    }\n",
       "\n",
       "    .dataframe thead th {\n",
       "        text-align: right;\n",
       "    }\n",
       "</style>\n",
       "<table border=\"1\" class=\"dataframe\">\n",
       "  <thead>\n",
       "    <tr style=\"text-align: right;\">\n",
       "      <th></th>\n",
       "      <th>datetime</th>\n",
       "      <th>text</th>\n",
       "      <th>username</th>\n",
       "      <th>likeCount</th>\n",
       "      <th>replyCount</th>\n",
       "      <th>retweetCount</th>\n",
       "      <th>stock</th>\n",
       "      <th>date_x</th>\n",
       "      <th>hour</th>\n",
       "      <th>minutes</th>\n",
       "      <th>dayofweek</th>\n",
       "      <th>predictiondate</th>\n",
       "      <th>price_movement</th>\n",
       "      <th>processed_text</th>\n",
       "      <th>tickers</th>\n",
       "      <th>number_tickers</th>\n",
       "      <th>hashtags</th>\n",
       "      <th>number_hashtags</th>\n",
       "    </tr>\n",
       "  </thead>\n",
       "  <tbody>\n",
       "    <tr>\n",
       "      <th>12263</th>\n",
       "      <td>2018-03-21 17:16:22-04:00</td>\n",
       "      <td>\"My hope is that our investment continues to h...</td>\n",
       "      <td>jpmorgan</td>\n",
       "      <td>76</td>\n",
       "      <td>15</td>\n",
       "      <td>36</td>\n",
       "      <td>JPM</td>\n",
       "      <td>2018-03-21</td>\n",
       "      <td>17</td>\n",
       "      <td>16</td>\n",
       "      <td>2</td>\n",
       "      <td>2018-03-22</td>\n",
       "      <td>0</td>\n",
       "      <td>\"my hope is that our investment continues to h...</td>\n",
       "      <td>[$jpm's]</td>\n",
       "      <td>1</td>\n",
       "      <td>[]</td>\n",
       "      <td>0</td>\n",
       "    </tr>\n",
       "    <tr>\n",
       "      <th>3431</th>\n",
       "      <td>2020-07-11 13:31:59-04:00</td>\n",
       "      <td>Se viene $GOOGL https://t.co/65vxHuA0uv</td>\n",
       "      <td>francastromt</td>\n",
       "      <td>47</td>\n",
       "      <td>1</td>\n",
       "      <td>4</td>\n",
       "      <td>GOOGL</td>\n",
       "      <td>2020-07-11</td>\n",
       "      <td>13</td>\n",
       "      <td>31</td>\n",
       "      <td>5</td>\n",
       "      <td>2020-07-13</td>\n",
       "      <td>1</td>\n",
       "      <td>se viene $googl https://t.co/65vxhua0uv</td>\n",
       "      <td>[$googl]</td>\n",
       "      <td>1</td>\n",
       "      <td>[]</td>\n",
       "      <td>0</td>\n",
       "    </tr>\n",
       "    <tr>\n",
       "      <th>1095</th>\n",
       "      <td>2018-03-11 09:44:18-04:00</td>\n",
       "      <td>$GOOGL In the gap and looking for it to fill i...</td>\n",
       "      <td>OptionsMike</td>\n",
       "      <td>11</td>\n",
       "      <td>0</td>\n",
       "      <td>0</td>\n",
       "      <td>GOOGL</td>\n",
       "      <td>2018-03-11</td>\n",
       "      <td>9</td>\n",
       "      <td>44</td>\n",
       "      <td>6</td>\n",
       "      <td>2018-03-12</td>\n",
       "      <td>1</td>\n",
       "      <td>$googl in the gap and looking for it to fill i...</td>\n",
       "      <td>[$googl]</td>\n",
       "      <td>1</td>\n",
       "      <td>[]</td>\n",
       "      <td>0</td>\n",
       "    </tr>\n",
       "  </tbody>\n",
       "</table>\n",
       "</div>"
      ],
      "text/plain": [
       "                       datetime  \\\n",
       "12263 2018-03-21 17:16:22-04:00   \n",
       "3431  2020-07-11 13:31:59-04:00   \n",
       "1095  2018-03-11 09:44:18-04:00   \n",
       "\n",
       "                                                    text      username  \\\n",
       "12263  \"My hope is that our investment continues to h...      jpmorgan   \n",
       "3431             Se viene $GOOGL https://t.co/65vxHuA0uv  francastromt   \n",
       "1095   $GOOGL In the gap and looking for it to fill i...   OptionsMike   \n",
       "\n",
       "       likeCount  replyCount  retweetCount  stock      date_x  hour  minutes  \\\n",
       "12263         76          15            36    JPM  2018-03-21    17       16   \n",
       "3431          47           1             4  GOOGL  2020-07-11    13       31   \n",
       "1095          11           0             0  GOOGL  2018-03-11     9       44   \n",
       "\n",
       "       dayofweek predictiondate  price_movement  \\\n",
       "12263          2     2018-03-22               0   \n",
       "3431           5     2020-07-13               1   \n",
       "1095           6     2018-03-12               1   \n",
       "\n",
       "                                          processed_text   tickers  \\\n",
       "12263  \"my hope is that our investment continues to h...  [$jpm's]   \n",
       "3431             se viene $googl https://t.co/65vxhua0uv  [$googl]   \n",
       "1095   $googl in the gap and looking for it to fill i...  [$googl]   \n",
       "\n",
       "       number_tickers hashtags  number_hashtags  \n",
       "12263               1       []                0  \n",
       "3431                1       []                0  \n",
       "1095                1       []                0  "
      ]
     },
     "execution_count": 30,
     "metadata": {},
     "output_type": "execute_result"
    }
   ],
   "source": [
    "stocks_merged.sample(3)"
   ]
  },
  {
   "cell_type": "markdown",
   "id": "97579639",
   "metadata": {},
   "source": [
    "**Find mentions (@)**"
   ]
  },
  {
   "cell_type": "code",
   "execution_count": 31,
   "id": "35fd4181",
   "metadata": {},
   "outputs": [],
   "source": [
    "stocks_merged['mentions'] = stocks_merged['processed_text'].apply(lambda x: re.findall(r'[@][A-Za-z][\\S]*', x))"
   ]
  },
  {
   "cell_type": "code",
   "execution_count": 32,
   "id": "ad10e7d2",
   "metadata": {},
   "outputs": [],
   "source": [
    "stocks_merged['number_mentions'] = stocks_merged.loc[:,'mentions'].apply(lambda x: len(x))"
   ]
  },
  {
   "cell_type": "code",
   "execution_count": 33,
   "id": "8a454b0a",
   "metadata": {},
   "outputs": [
    {
     "data": {
      "text/html": [
       "<div>\n",
       "<style scoped>\n",
       "    .dataframe tbody tr th:only-of-type {\n",
       "        vertical-align: middle;\n",
       "    }\n",
       "\n",
       "    .dataframe tbody tr th {\n",
       "        vertical-align: top;\n",
       "    }\n",
       "\n",
       "    .dataframe thead th {\n",
       "        text-align: right;\n",
       "    }\n",
       "</style>\n",
       "<table border=\"1\" class=\"dataframe\">\n",
       "  <thead>\n",
       "    <tr style=\"text-align: right;\">\n",
       "      <th></th>\n",
       "      <th>datetime</th>\n",
       "      <th>text</th>\n",
       "      <th>username</th>\n",
       "      <th>likeCount</th>\n",
       "      <th>replyCount</th>\n",
       "      <th>retweetCount</th>\n",
       "      <th>stock</th>\n",
       "      <th>date_x</th>\n",
       "      <th>hour</th>\n",
       "      <th>minutes</th>\n",
       "      <th>dayofweek</th>\n",
       "      <th>predictiondate</th>\n",
       "      <th>price_movement</th>\n",
       "      <th>processed_text</th>\n",
       "      <th>tickers</th>\n",
       "      <th>number_tickers</th>\n",
       "      <th>hashtags</th>\n",
       "      <th>number_hashtags</th>\n",
       "      <th>mentions</th>\n",
       "      <th>number_mentions</th>\n",
       "    </tr>\n",
       "  </thead>\n",
       "  <tbody>\n",
       "    <tr>\n",
       "      <th>10688</th>\n",
       "      <td>2021-06-02 16:56:35-04:00</td>\n",
       "      <td>$XOM another daily chart breakout, which I ove...</td>\n",
       "      <td>DrGustoUmar</td>\n",
       "      <td>1</td>\n",
       "      <td>1</td>\n",
       "      <td>0</td>\n",
       "      <td>XOM</td>\n",
       "      <td>2021-06-02</td>\n",
       "      <td>16</td>\n",
       "      <td>56</td>\n",
       "      <td>2</td>\n",
       "      <td>2021-06-03</td>\n",
       "      <td>0</td>\n",
       "      <td>$xom another daily chart breakout, which i ove...</td>\n",
       "      <td>[$xom]</td>\n",
       "      <td>1</td>\n",
       "      <td>[]</td>\n",
       "      <td>0</td>\n",
       "      <td>[]</td>\n",
       "      <td>0</td>\n",
       "    </tr>\n",
       "    <tr>\n",
       "      <th>10517</th>\n",
       "      <td>2021-07-05 16:35:46-04:00</td>\n",
       "      <td>Was just putting together the Watchlist and wa...</td>\n",
       "      <td>TradingWithZack</td>\n",
       "      <td>18</td>\n",
       "      <td>1</td>\n",
       "      <td>0</td>\n",
       "      <td>XOM</td>\n",
       "      <td>2021-07-05</td>\n",
       "      <td>16</td>\n",
       "      <td>35</td>\n",
       "      <td>0</td>\n",
       "      <td>2021-07-06</td>\n",
       "      <td>0</td>\n",
       "      <td>was just putting together the watchlist and wa...</td>\n",
       "      <td>[$xom]</td>\n",
       "      <td>1</td>\n",
       "      <td>[]</td>\n",
       "      <td>0</td>\n",
       "      <td>[]</td>\n",
       "      <td>0</td>\n",
       "    </tr>\n",
       "    <tr>\n",
       "      <th>1430</th>\n",
       "      <td>2019-10-28 16:29:00-04:00</td>\n",
       "      <td>$GOOGL still green on the day, closed Fri 1264. 🤣</td>\n",
       "      <td>WaitCapital</td>\n",
       "      <td>4</td>\n",
       "      <td>0</td>\n",
       "      <td>0</td>\n",
       "      <td>GOOGL</td>\n",
       "      <td>2019-10-28</td>\n",
       "      <td>16</td>\n",
       "      <td>29</td>\n",
       "      <td>0</td>\n",
       "      <td>2019-10-29</td>\n",
       "      <td>0</td>\n",
       "      <td>$googl still green on the day, closed fri 1264. 🤣</td>\n",
       "      <td>[$googl]</td>\n",
       "      <td>1</td>\n",
       "      <td>[]</td>\n",
       "      <td>0</td>\n",
       "      <td>[]</td>\n",
       "      <td>0</td>\n",
       "    </tr>\n",
       "  </tbody>\n",
       "</table>\n",
       "</div>"
      ],
      "text/plain": [
       "                       datetime  \\\n",
       "10688 2021-06-02 16:56:35-04:00   \n",
       "10517 2021-07-05 16:35:46-04:00   \n",
       "1430  2019-10-28 16:29:00-04:00   \n",
       "\n",
       "                                                    text         username  \\\n",
       "10688  $XOM another daily chart breakout, which I ove...      DrGustoUmar   \n",
       "10517  Was just putting together the Watchlist and wa...  TradingWithZack   \n",
       "1430   $GOOGL still green on the day, closed Fri 1264. 🤣      WaitCapital   \n",
       "\n",
       "       likeCount  replyCount  retweetCount  stock      date_x  hour  minutes  \\\n",
       "10688          1           1             0    XOM  2021-06-02    16       56   \n",
       "10517         18           1             0    XOM  2021-07-05    16       35   \n",
       "1430           4           0             0  GOOGL  2019-10-28    16       29   \n",
       "\n",
       "       dayofweek predictiondate  price_movement  \\\n",
       "10688          2     2021-06-03               0   \n",
       "10517          0     2021-07-06               0   \n",
       "1430           0     2019-10-29               0   \n",
       "\n",
       "                                          processed_text   tickers  \\\n",
       "10688  $xom another daily chart breakout, which i ove...    [$xom]   \n",
       "10517  was just putting together the watchlist and wa...    [$xom]   \n",
       "1430   $googl still green on the day, closed fri 1264. 🤣  [$googl]   \n",
       "\n",
       "       number_tickers hashtags  number_hashtags mentions  number_mentions  \n",
       "10688               1       []                0       []                0  \n",
       "10517               1       []                0       []                0  \n",
       "1430                1       []                0       []                0  "
      ]
     },
     "execution_count": 33,
     "metadata": {},
     "output_type": "execute_result"
    }
   ],
   "source": [
    "stocks_merged.sample(3)"
   ]
  },
  {
   "cell_type": "markdown",
   "id": "a4d80ccf",
   "metadata": {},
   "source": [
    "**Remove numbers**"
   ]
  },
  {
   "cell_type": "code",
   "execution_count": 34,
   "id": "4eb9817c",
   "metadata": {},
   "outputs": [],
   "source": [
    "stocks_merged['processed_text'] = stocks_merged['processed_text'].apply(lambda x: re.sub(r'\\d+','', x))"
   ]
  },
  {
   "cell_type": "code",
   "execution_count": 35,
   "id": "2204e47c",
   "metadata": {},
   "outputs": [
    {
     "data": {
      "text/plain": [
       "9171     $xom #xom one gap down, two to go! https://t.c...\n",
       "15642    \"you're going to see very good beats because o...\n",
       "2900     how i see $googl (kraken) vs. the internet htt...\n",
       "1443     $googl added today to the hedge fund telemetry...\n",
       "5697                                           $googl beat\n",
       "Name: processed_text, dtype: object"
      ]
     },
     "execution_count": 35,
     "metadata": {},
     "output_type": "execute_result"
    }
   ],
   "source": [
    "stocks_merged['processed_text'].sample(5)"
   ]
  },
  {
   "cell_type": "markdown",
   "id": "4d30618d",
   "metadata": {},
   "source": [
    "**Remove punctuation**"
   ]
  },
  {
   "cell_type": "code",
   "execution_count": 36,
   "id": "c25c87cd",
   "metadata": {},
   "outputs": [],
   "source": [
    "# Excluding from string.punctuation: #, @, $\n",
    "punctuation_modified = '!\"%&\\'()*+,-./:;<=>?[\\\\]^_`{|}~'"
   ]
  },
  {
   "cell_type": "code",
   "execution_count": 37,
   "id": "23afc7d9",
   "metadata": {},
   "outputs": [],
   "source": [
    "stocks_merged['processed_text'] = stocks_merged['processed_text'].apply(lambda x: x.translate(str.maketrans('','', punctuation_modified)))"
   ]
  },
  {
   "cell_type": "code",
   "execution_count": 38,
   "id": "bc3734e9",
   "metadata": {},
   "outputs": [
    {
     "data": {
      "text/plain": [
       "5618                 youtube revenue growth is wow\\n$googl\n",
       "8806     $xom  options traders pricing in exxon dividen...\n",
       "12296    did jamie dimon get a copy $jpm httpstcoylnzhmroa\n",
       "4868     lazy $googl sotp \\nservices  corporate costs $...\n",
       "16122    $jpm has much deeper pockets than melvin and s...\n",
       "Name: processed_text, dtype: object"
      ]
     },
     "execution_count": 38,
     "metadata": {},
     "output_type": "execute_result"
    }
   ],
   "source": [
    "stocks_merged['processed_text'].sample(5)"
   ]
  },
  {
   "cell_type": "markdown",
   "id": "448e0361",
   "metadata": {},
   "source": [
    "**Convert emojis to text**"
   ]
  },
  {
   "cell_type": "markdown",
   "id": "286d2bfe",
   "metadata": {},
   "source": [
    "Defining a function to convert emojis to text. We'll use demoji package and we will add \"_\" to emojis to differentiate from regular words."
   ]
  },
  {
   "cell_type": "code",
   "execution_count": 39,
   "id": "57237131",
   "metadata": {},
   "outputs": [],
   "source": [
    "def convert_emojis(text):\n",
    "    \n",
    "    # Finding all emojis in the text\n",
    "    emoji_dict = demoji.findall(text)\n",
    "    \n",
    "    # For every emoji replace with the text from demoji\n",
    "    for item in emoji_dict:\n",
    "        emoji_dict[item] = '_' + '_'.join(emoji_dict[item].split()) + '_ '\n",
    "        text = text.replace(item, emoji_dict[item])\n",
    "    \n",
    "    return text"
   ]
  },
  {
   "cell_type": "code",
   "execution_count": 40,
   "id": "779ac6b1",
   "metadata": {},
   "outputs": [],
   "source": [
    "stocks_merged['processed_text'] = stocks_merged['processed_text'].apply(lambda x: convert_emojis(x))"
   ]
  },
  {
   "cell_type": "code",
   "execution_count": 41,
   "id": "9f60cf11",
   "metadata": {},
   "outputs": [
    {
     "data": {
      "text/plain": [
       "12235    $jpm is currently  at $ the stock remains broa...\n",
       "13166                        lol the i was wrong call $jpm\n",
       "10762    big news #exxonmobil loses proxy battle at agm...\n",
       "9368     someone just demed me asking how i prevent tim...\n",
       "423      @stockhunter aaaand i’m already making money  ...\n",
       "Name: processed_text, dtype: object"
      ]
     },
     "execution_count": 41,
     "metadata": {},
     "output_type": "execute_result"
    }
   ],
   "source": [
    "stocks_merged['processed_text'].sample(5)"
   ]
  },
  {
   "cell_type": "markdown",
   "id": "3d5467da",
   "metadata": {},
   "source": [
    "**Replacing \\n (new lines)**"
   ]
  },
  {
   "cell_type": "code",
   "execution_count": 42,
   "id": "3b38c8a6",
   "metadata": {},
   "outputs": [],
   "source": [
    "stocks_merged['processed_text'] = stocks_merged['processed_text'].apply(lambda x: x.replace('\\n',' '))"
   ]
  },
  {
   "cell_type": "code",
   "execution_count": 43,
   "id": "0fe41732",
   "metadata": {},
   "outputs": [
    {
     "data": {
      "text/plain": [
       "8474                                            lol $xom $\n",
       "6251     $googl waymo unit said to consider raising as ...\n",
       "10407    $xom  exxon considers pledging ‘netzero’ carbo...\n",
       "14521    scoop baseball star alex rodriguez at centre o...\n",
       "11604    i just ask myself why all the bad news on $xom...\n",
       "Name: processed_text, dtype: object"
      ]
     },
     "execution_count": 43,
     "metadata": {},
     "output_type": "execute_result"
    }
   ],
   "source": [
    "stocks_merged['processed_text'].sample(5)"
   ]
  },
  {
   "cell_type": "markdown",
   "id": "ffccd3e4",
   "metadata": {},
   "source": [
    "**Remove white spaces**"
   ]
  },
  {
   "cell_type": "code",
   "execution_count": 44,
   "id": "e813b4f9",
   "metadata": {},
   "outputs": [],
   "source": [
    "stocks_merged['processed_text'] = stocks_merged['processed_text'].apply(lambda x: x.strip())"
   ]
  },
  {
   "cell_type": "code",
   "execution_count": 45,
   "id": "669ae58c",
   "metadata": {
    "scrolled": true
   },
   "outputs": [
    {
     "data": {
      "text/plain": [
       "13266    $jpm settled  to $ todays close above the dma ...\n",
       "1048     nailed the whole move spx puts  to  $googl put...\n",
       "9362     $xom  stop worrying about an exxon mobil divid...\n",
       "3334     on the $googl call  very thorough  technocrati...\n",
       "826        alphabet upgraded to buy at stifel pt $  $googl\n",
       "Name: processed_text, dtype: object"
      ]
     },
     "execution_count": 45,
     "metadata": {},
     "output_type": "execute_result"
    }
   ],
   "source": [
    "stocks_merged['processed_text'].sample(5)"
   ]
  },
  {
   "cell_type": "markdown",
   "id": "72cd155f",
   "metadata": {},
   "source": [
    "**Getting length of processed text (tweet)**"
   ]
  },
  {
   "cell_type": "code",
   "execution_count": 46,
   "id": "acf17d4c",
   "metadata": {},
   "outputs": [],
   "source": [
    "stocks_merged['text_length'] = stocks_merged['processed_text'].apply(lambda x: len(x))"
   ]
  },
  {
   "cell_type": "code",
   "execution_count": 47,
   "id": "62193af1",
   "metadata": {
    "scrolled": false
   },
   "outputs": [
    {
     "data": {
      "text/plain": [
       "3841     34\n",
       "13504    57\n",
       "7345     97\n",
       "16180    52\n",
       "12484    51\n",
       "Name: text_length, dtype: int64"
      ]
     },
     "execution_count": 47,
     "metadata": {},
     "output_type": "execute_result"
    }
   ],
   "source": [
    "stocks_merged['text_length'].sample(5)"
   ]
  },
  {
   "cell_type": "markdown",
   "id": "f52830e5",
   "metadata": {},
   "source": [
    "**Lematization**"
   ]
  },
  {
   "cell_type": "code",
   "execution_count": 48,
   "id": "e624253b",
   "metadata": {},
   "outputs": [],
   "source": [
    "lemmatizer = WordNetLemmatizer()"
   ]
  },
  {
   "cell_type": "code",
   "execution_count": 49,
   "id": "b2ff0208",
   "metadata": {},
   "outputs": [],
   "source": [
    "# Splitting text in tokens to use lemmatizer\n",
    "stocks_merged['tokens'] = stocks_merged['processed_text'].apply(lambda x: x.split())"
   ]
  },
  {
   "cell_type": "code",
   "execution_count": 50,
   "id": "53812e73",
   "metadata": {},
   "outputs": [],
   "source": [
    "stocks_merged['lem_text'] = stocks_merged['tokens'].apply(lambda x: [lemmatizer.lemmatize(token) for token in x])"
   ]
  },
  {
   "cell_type": "code",
   "execution_count": 51,
   "id": "c4158e93",
   "metadata": {},
   "outputs": [
    {
     "data": {
      "text/plain": [
       "3983     [but, but, but, he, said, $googl, had, enginee...\n",
       "13651    [bank, were, left, for, dead, these, #s, are, ...\n",
       "12957    [$jpm, reported, q, this, morning, missing, on...\n",
       "12887    [$jpm, letting, price, develop, a, few, day, a...\n",
       "10822    [mw, exxon, mobil, stock, price, target, raise...\n",
       "Name: lem_text, dtype: object"
      ]
     },
     "execution_count": 51,
     "metadata": {},
     "output_type": "execute_result"
    }
   ],
   "source": [
    "stocks_merged['lem_text'].sample(5)"
   ]
  },
  {
   "cell_type": "code",
   "execution_count": 52,
   "id": "dada702e",
   "metadata": {},
   "outputs": [],
   "source": [
    "# Converting from lemmatized tokens to lemmatized string\n",
    "stocks_merged['lem_text'] = stocks_merged['lem_text'].apply(lambda x: ' '.join(x))"
   ]
  },
  {
   "cell_type": "code",
   "execution_count": 53,
   "id": "a4697d2b",
   "metadata": {},
   "outputs": [
    {
     "data": {
      "text/plain": [
       "547      the giant that is $googl ha finally escaped th...\n",
       "9202     $xom to report earnings on may bmo with an exp...\n",
       "7158     @everytimeicash yep mega cal tech within tech ...\n",
       "14416    jpmorgan nyse $jpm reported q eps of $ $ bette...\n",
       "12698           another earnings beat by a major bank $jpm\n",
       "Name: lem_text, dtype: object"
      ]
     },
     "execution_count": 53,
     "metadata": {},
     "output_type": "execute_result"
    }
   ],
   "source": [
    "stocks_merged['lem_text'].sample(5)"
   ]
  },
  {
   "cell_type": "code",
   "execution_count": 54,
   "id": "495076a8",
   "metadata": {},
   "outputs": [],
   "source": [
    "# Dropping tokens column since we won't need it anymore\n",
    "stocks_merged = stocks_merged.drop(columns='tokens')"
   ]
  },
  {
   "cell_type": "code",
   "execution_count": 55,
   "id": "ce79a57d",
   "metadata": {
    "scrolled": true
   },
   "outputs": [
    {
     "data": {
      "text/html": [
       "<div>\n",
       "<style scoped>\n",
       "    .dataframe tbody tr th:only-of-type {\n",
       "        vertical-align: middle;\n",
       "    }\n",
       "\n",
       "    .dataframe tbody tr th {\n",
       "        vertical-align: top;\n",
       "    }\n",
       "\n",
       "    .dataframe thead th {\n",
       "        text-align: right;\n",
       "    }\n",
       "</style>\n",
       "<table border=\"1\" class=\"dataframe\">\n",
       "  <thead>\n",
       "    <tr style=\"text-align: right;\">\n",
       "      <th></th>\n",
       "      <th>datetime</th>\n",
       "      <th>text</th>\n",
       "      <th>username</th>\n",
       "      <th>likeCount</th>\n",
       "      <th>replyCount</th>\n",
       "      <th>retweetCount</th>\n",
       "      <th>stock</th>\n",
       "      <th>date_x</th>\n",
       "      <th>hour</th>\n",
       "      <th>minutes</th>\n",
       "      <th>dayofweek</th>\n",
       "      <th>predictiondate</th>\n",
       "      <th>price_movement</th>\n",
       "      <th>processed_text</th>\n",
       "      <th>tickers</th>\n",
       "      <th>number_tickers</th>\n",
       "      <th>hashtags</th>\n",
       "      <th>number_hashtags</th>\n",
       "      <th>mentions</th>\n",
       "      <th>number_mentions</th>\n",
       "      <th>text_length</th>\n",
       "      <th>lem_text</th>\n",
       "    </tr>\n",
       "  </thead>\n",
       "  <tbody>\n",
       "    <tr>\n",
       "      <th>13489</th>\n",
       "      <td>2020-08-24 06:00:28-04:00</td>\n",
       "      <td>Barclays hires $JPM's Esteve to head equity ca...</td>\n",
       "      <td>InvestingStockz</td>\n",
       "      <td>1</td>\n",
       "      <td>0</td>\n",
       "      <td>0</td>\n",
       "      <td>JPM</td>\n",
       "      <td>2020-08-24</td>\n",
       "      <td>6</td>\n",
       "      <td>0</td>\n",
       "      <td>0</td>\n",
       "      <td>2020-08-24</td>\n",
       "      <td>1</td>\n",
       "      <td>barclays hires $jpms esteve to head equity cap...</td>\n",
       "      <td>[$jpm's]</td>\n",
       "      <td>1</td>\n",
       "      <td>[]</td>\n",
       "      <td>0</td>\n",
       "      <td>[]</td>\n",
       "      <td>0</td>\n",
       "      <td>87</td>\n",
       "      <td>barclays hire $jpms esteve to head equity capi...</td>\n",
       "    </tr>\n",
       "    <tr>\n",
       "      <th>10427</th>\n",
       "      <td>2021-07-26 17:26:27-04:00</td>\n",
       "      <td>@Kentuckyhot I bought about 14k in $XOM calls ...</td>\n",
       "      <td>jenny_kentucky</td>\n",
       "      <td>2</td>\n",
       "      <td>1</td>\n",
       "      <td>0</td>\n",
       "      <td>XOM</td>\n",
       "      <td>2021-07-26</td>\n",
       "      <td>17</td>\n",
       "      <td>26</td>\n",
       "      <td>0</td>\n",
       "      <td>2021-07-27</td>\n",
       "      <td>0</td>\n",
       "      <td>@kentuckyhot i bought about k in $xom calls to...</td>\n",
       "      <td>[$xom]</td>\n",
       "      <td>1</td>\n",
       "      <td>[#stocks, #wsb, #wallstreet, #stockstobuy, #st...</td>\n",
       "      <td>6</td>\n",
       "      <td>[@kentuckyhot]</td>\n",
       "      <td>1</td>\n",
       "      <td>152</td>\n",
       "      <td>@kentuckyhot i bought about k in $xom call tod...</td>\n",
       "    </tr>\n",
       "    <tr>\n",
       "      <th>5627</th>\n",
       "      <td>2021-07-27 16:19:40-04:00</td>\n",
       "      <td>Flow knows best. \\n\\n$GOOGL 7/30 2800c taken @...</td>\n",
       "      <td>BulITrades</td>\n",
       "      <td>6</td>\n",
       "      <td>0</td>\n",
       "      <td>0</td>\n",
       "      <td>GOOGL</td>\n",
       "      <td>2021-07-27</td>\n",
       "      <td>16</td>\n",
       "      <td>19</td>\n",
       "      <td>1</td>\n",
       "      <td>2021-07-28</td>\n",
       "      <td>1</td>\n",
       "      <td>flow knows best   $googl  c taken @ est am thi...</td>\n",
       "      <td>[$googl]</td>\n",
       "      <td>1</td>\n",
       "      <td>[]</td>\n",
       "      <td>0</td>\n",
       "      <td>[]</td>\n",
       "      <td>0</td>\n",
       "      <td>136</td>\n",
       "      <td>flow know best $googl c taken @ est am this mo...</td>\n",
       "    </tr>\n",
       "  </tbody>\n",
       "</table>\n",
       "</div>"
      ],
      "text/plain": [
       "                       datetime  \\\n",
       "13489 2020-08-24 06:00:28-04:00   \n",
       "10427 2021-07-26 17:26:27-04:00   \n",
       "5627  2021-07-27 16:19:40-04:00   \n",
       "\n",
       "                                                    text         username  \\\n",
       "13489  Barclays hires $JPM's Esteve to head equity ca...  InvestingStockz   \n",
       "10427  @Kentuckyhot I bought about 14k in $XOM calls ...   jenny_kentucky   \n",
       "5627   Flow knows best. \\n\\n$GOOGL 7/30 2800c taken @...       BulITrades   \n",
       "\n",
       "       likeCount  replyCount  retweetCount  stock      date_x  hour  minutes  \\\n",
       "13489          1           0             0    JPM  2020-08-24     6        0   \n",
       "10427          2           1             0    XOM  2021-07-26    17       26   \n",
       "5627           6           0             0  GOOGL  2021-07-27    16       19   \n",
       "\n",
       "       dayofweek predictiondate  price_movement  \\\n",
       "13489          0     2020-08-24               1   \n",
       "10427          0     2021-07-27               0   \n",
       "5627           1     2021-07-28               1   \n",
       "\n",
       "                                          processed_text   tickers  \\\n",
       "13489  barclays hires $jpms esteve to head equity cap...  [$jpm's]   \n",
       "10427  @kentuckyhot i bought about k in $xom calls to...    [$xom]   \n",
       "5627   flow knows best   $googl  c taken @ est am thi...  [$googl]   \n",
       "\n",
       "       number_tickers                                           hashtags  \\\n",
       "13489               1                                                 []   \n",
       "10427               1  [#stocks, #wsb, #wallstreet, #stockstobuy, #st...   \n",
       "5627                1                                                 []   \n",
       "\n",
       "       number_hashtags        mentions  number_mentions  text_length  \\\n",
       "13489                0              []                0           87   \n",
       "10427                6  [@kentuckyhot]                1          152   \n",
       "5627                 0              []                0          136   \n",
       "\n",
       "                                                lem_text  \n",
       "13489  barclays hire $jpms esteve to head equity capi...  \n",
       "10427  @kentuckyhot i bought about k in $xom call tod...  \n",
       "5627   flow know best $googl c taken @ est am this mo...  "
      ]
     },
     "execution_count": 55,
     "metadata": {},
     "output_type": "execute_result"
    }
   ],
   "source": [
    "stocks_merged.sample(3)"
   ]
  },
  {
   "cell_type": "markdown",
   "id": "b2f3df64",
   "metadata": {},
   "source": [
    "## Adding Sentiment feature"
   ]
  },
  {
   "cell_type": "markdown",
   "id": "6badc6cf",
   "metadata": {},
   "source": [
    "We'll use roBERTa, which is a pre-trained model on tweets from HuggingFace."
   ]
  },
  {
   "cell_type": "markdown",
   "id": "6c7ec358",
   "metadata": {},
   "source": [
    "https://huggingface.co/cardiffnlp/twitter-roberta-base-sentiment"
   ]
  },
  {
   "cell_type": "code",
   "execution_count": 56,
   "id": "0c67552e",
   "metadata": {},
   "outputs": [],
   "source": [
    "from transformers import AutoModelForSequenceClassification\n",
    "from transformers import TFAutoModelForSequenceClassification\n",
    "from transformers import AutoTokenizer, AutoConfig\n",
    "from transformers import pipeline\n",
    "from scipy.special import softmax"
   ]
  },
  {
   "cell_type": "code",
   "execution_count": 57,
   "id": "6c588ce5",
   "metadata": {
    "scrolled": false
   },
   "outputs": [
    {
     "name": "stderr",
     "output_type": "stream",
     "text": [
      "Some weights of the model checkpoint at cardiffnlp/twitter-roberta-base-sentiment-latest were not used when initializing RobertaForSequenceClassification: ['roberta.pooler.dense.bias', 'roberta.pooler.dense.weight']\n",
      "- This IS expected if you are initializing RobertaForSequenceClassification from the checkpoint of a model trained on another task or with another architecture (e.g. initializing a BertForSequenceClassification model from a BertForPreTraining model).\n",
      "- This IS NOT expected if you are initializing RobertaForSequenceClassification from the checkpoint of a model that you expect to be exactly identical (initializing a BertForSequenceClassification model from a BertForSequenceClassification model).\n"
     ]
    }
   ],
   "source": [
    "MODEL = f\"cardiffnlp/twitter-roberta-base-sentiment-latest\"\n",
    "tokenizer = AutoTokenizer.from_pretrained(MODEL)\n",
    "\n",
    "sentiment_task = pipeline(\"sentiment-analysis\", model=MODEL, tokenizer=tokenizer)"
   ]
  },
  {
   "cell_type": "markdown",
   "id": "3f538146",
   "metadata": {},
   "source": [
    "Running one example"
   ]
  },
  {
   "cell_type": "code",
   "execution_count": 58,
   "id": "747da481",
   "metadata": {},
   "outputs": [
    {
     "data": {
      "text/plain": [
       "[{'label': 'positive', 'score': 0.8435651659965515}]"
      ]
     },
     "execution_count": 58,
     "metadata": {},
     "output_type": "execute_result"
    }
   ],
   "source": [
    "sentiment_task(\"google stock is going up\")"
   ]
  },
  {
   "cell_type": "code",
   "execution_count": 59,
   "id": "c0114980",
   "metadata": {},
   "outputs": [],
   "source": [
    "stocks_merged['sentiment'] = stocks_merged['lem_text'].apply(lambda x: sentiment_task(x))"
   ]
  },
  {
   "cell_type": "code",
   "execution_count": 60,
   "id": "9615bf90",
   "metadata": {},
   "outputs": [
    {
     "data": {
      "text/html": [
       "<div>\n",
       "<style scoped>\n",
       "    .dataframe tbody tr th:only-of-type {\n",
       "        vertical-align: middle;\n",
       "    }\n",
       "\n",
       "    .dataframe tbody tr th {\n",
       "        vertical-align: top;\n",
       "    }\n",
       "\n",
       "    .dataframe thead th {\n",
       "        text-align: right;\n",
       "    }\n",
       "</style>\n",
       "<table border=\"1\" class=\"dataframe\">\n",
       "  <thead>\n",
       "    <tr style=\"text-align: right;\">\n",
       "      <th></th>\n",
       "      <th>datetime</th>\n",
       "      <th>text</th>\n",
       "      <th>username</th>\n",
       "      <th>likeCount</th>\n",
       "      <th>replyCount</th>\n",
       "      <th>retweetCount</th>\n",
       "      <th>stock</th>\n",
       "      <th>date_x</th>\n",
       "      <th>hour</th>\n",
       "      <th>minutes</th>\n",
       "      <th>dayofweek</th>\n",
       "      <th>predictiondate</th>\n",
       "      <th>price_movement</th>\n",
       "      <th>processed_text</th>\n",
       "      <th>tickers</th>\n",
       "      <th>number_tickers</th>\n",
       "      <th>hashtags</th>\n",
       "      <th>number_hashtags</th>\n",
       "      <th>mentions</th>\n",
       "      <th>number_mentions</th>\n",
       "      <th>text_length</th>\n",
       "      <th>lem_text</th>\n",
       "      <th>sentiment</th>\n",
       "    </tr>\n",
       "  </thead>\n",
       "  <tbody>\n",
       "    <tr>\n",
       "      <th>7078</th>\n",
       "      <td>2021-03-29 20:39:12-04:00</td>\n",
       "      <td>$GOOGL #Alphabet Class A GOOGL - Embedded Expe...</td>\n",
       "      <td>ResearchPool</td>\n",
       "      <td>1</td>\n",
       "      <td>0</td>\n",
       "      <td>0</td>\n",
       "      <td>GOOGL</td>\n",
       "      <td>2021-03-29</td>\n",
       "      <td>20</td>\n",
       "      <td>39</td>\n",
       "      <td>0</td>\n",
       "      <td>2021-03-30</td>\n",
       "      <td>1</td>\n",
       "      <td>$googl #alphabet class a googl  embedded expec...</td>\n",
       "      <td>[$googl]</td>\n",
       "      <td>1</td>\n",
       "      <td>[#alphabet, #equity, #stocks]</td>\n",
       "      <td>3</td>\n",
       "      <td>[]</td>\n",
       "      <td>0</td>\n",
       "      <td>266</td>\n",
       "      <td>$googl #alphabet class a googl embedded expect...</td>\n",
       "      <td>[{'label': 'neutral', 'score': 0.8904085755348...</td>\n",
       "    </tr>\n",
       "    <tr>\n",
       "      <th>12530</th>\n",
       "      <td>2019-10-06 10:16:24-04:00</td>\n",
       "      <td>@RMKOutFront @saxena_puru I understand banks (...</td>\n",
       "      <td>weeklystockchar</td>\n",
       "      <td>2</td>\n",
       "      <td>0</td>\n",
       "      <td>0</td>\n",
       "      <td>JPM</td>\n",
       "      <td>2019-10-06</td>\n",
       "      <td>10</td>\n",
       "      <td>16</td>\n",
       "      <td>6</td>\n",
       "      <td>2019-10-07</td>\n",
       "      <td>0</td>\n",
       "      <td>@rmkoutfront @saxenapuru i understand banks le...</td>\n",
       "      <td>[$jpm)]</td>\n",
       "      <td>1</td>\n",
       "      <td>[]</td>\n",
       "      <td>0</td>\n",
       "      <td>[@rmkoutfront, @saxena_puru]</td>\n",
       "      <td>2</td>\n",
       "      <td>292</td>\n",
       "      <td>@rmkoutfront @saxenapuru i understand bank led...</td>\n",
       "      <td>[{'label': 'negative', 'score': 0.781817853450...</td>\n",
       "    </tr>\n",
       "    <tr>\n",
       "      <th>14366</th>\n",
       "      <td>2020-01-25 10:46:48-05:00</td>\n",
       "      <td>Financials started rolling over prior to the c...</td>\n",
       "      <td>gilmoreport</td>\n",
       "      <td>8</td>\n",
       "      <td>1</td>\n",
       "      <td>1</td>\n",
       "      <td>JPM</td>\n",
       "      <td>2020-01-25</td>\n",
       "      <td>10</td>\n",
       "      <td>46</td>\n",
       "      <td>5</td>\n",
       "      <td>2020-01-27</td>\n",
       "      <td>0</td>\n",
       "      <td>financials started rolling over prior to the c...</td>\n",
       "      <td>[$jpm]</td>\n",
       "      <td>1</td>\n",
       "      <td>[#eatmyshorts]</td>\n",
       "      <td>1</td>\n",
       "      <td>[]</td>\n",
       "      <td>0</td>\n",
       "      <td>224</td>\n",
       "      <td>financials started rolling over prior to the c...</td>\n",
       "      <td>[{'label': 'neutral', 'score': 0.7694271802902...</td>\n",
       "    </tr>\n",
       "  </tbody>\n",
       "</table>\n",
       "</div>"
      ],
      "text/plain": [
       "                       datetime  \\\n",
       "7078  2021-03-29 20:39:12-04:00   \n",
       "12530 2019-10-06 10:16:24-04:00   \n",
       "14366 2020-01-25 10:46:48-05:00   \n",
       "\n",
       "                                                    text         username  \\\n",
       "7078   $GOOGL #Alphabet Class A GOOGL - Embedded Expe...     ResearchPool   \n",
       "12530  @RMKOutFront @saxena_puru I understand banks (...  weeklystockchar   \n",
       "14366  Financials started rolling over prior to the c...      gilmoreport   \n",
       "\n",
       "       likeCount  replyCount  retweetCount  stock      date_x  hour  minutes  \\\n",
       "7078           1           0             0  GOOGL  2021-03-29    20       39   \n",
       "12530          2           0             0    JPM  2019-10-06    10       16   \n",
       "14366          8           1             1    JPM  2020-01-25    10       46   \n",
       "\n",
       "       dayofweek predictiondate  price_movement  \\\n",
       "7078           0     2021-03-30               1   \n",
       "12530          6     2019-10-07               0   \n",
       "14366          5     2020-01-27               0   \n",
       "\n",
       "                                          processed_text   tickers  \\\n",
       "7078   $googl #alphabet class a googl  embedded expec...  [$googl]   \n",
       "12530  @rmkoutfront @saxenapuru i understand banks le...   [$jpm)]   \n",
       "14366  financials started rolling over prior to the c...    [$jpm]   \n",
       "\n",
       "       number_tickers                       hashtags  number_hashtags  \\\n",
       "7078                1  [#alphabet, #equity, #stocks]                3   \n",
       "12530               1                             []                0   \n",
       "14366               1                 [#eatmyshorts]                1   \n",
       "\n",
       "                           mentions  number_mentions  text_length  \\\n",
       "7078                             []                0          266   \n",
       "12530  [@rmkoutfront, @saxena_puru]                2          292   \n",
       "14366                            []                0          224   \n",
       "\n",
       "                                                lem_text  \\\n",
       "7078   $googl #alphabet class a googl embedded expect...   \n",
       "12530  @rmkoutfront @saxenapuru i understand bank led...   \n",
       "14366  financials started rolling over prior to the c...   \n",
       "\n",
       "                                               sentiment  \n",
       "7078   [{'label': 'neutral', 'score': 0.8904085755348...  \n",
       "12530  [{'label': 'negative', 'score': 0.781817853450...  \n",
       "14366  [{'label': 'neutral', 'score': 0.7694271802902...  "
      ]
     },
     "execution_count": 60,
     "metadata": {},
     "output_type": "execute_result"
    }
   ],
   "source": [
    "stocks_merged.sample(3)"
   ]
  },
  {
   "cell_type": "code",
   "execution_count": 61,
   "id": "6c3529b2",
   "metadata": {},
   "outputs": [],
   "source": [
    "# Breaking sentiment taks in label and score\n",
    "stocks_merged['sentiment_label'] = stocks_merged['sentiment'].apply(lambda x: x[0]['label'])\n",
    "stocks_merged['sentiment_score'] = stocks_merged['sentiment'].apply(lambda x: x[0]['score'])\n",
    "\n",
    "# Dropping original column\n",
    "stocks_merged = stocks_merged.drop(columns='sentiment')"
   ]
  },
  {
   "cell_type": "code",
   "execution_count": 62,
   "id": "da7353fc",
   "metadata": {},
   "outputs": [
    {
     "data": {
      "text/html": [
       "<div>\n",
       "<style scoped>\n",
       "    .dataframe tbody tr th:only-of-type {\n",
       "        vertical-align: middle;\n",
       "    }\n",
       "\n",
       "    .dataframe tbody tr th {\n",
       "        vertical-align: top;\n",
       "    }\n",
       "\n",
       "    .dataframe thead th {\n",
       "        text-align: right;\n",
       "    }\n",
       "</style>\n",
       "<table border=\"1\" class=\"dataframe\">\n",
       "  <thead>\n",
       "    <tr style=\"text-align: right;\">\n",
       "      <th></th>\n",
       "      <th>datetime</th>\n",
       "      <th>text</th>\n",
       "      <th>username</th>\n",
       "      <th>likeCount</th>\n",
       "      <th>replyCount</th>\n",
       "      <th>retweetCount</th>\n",
       "      <th>stock</th>\n",
       "      <th>date_x</th>\n",
       "      <th>hour</th>\n",
       "      <th>minutes</th>\n",
       "      <th>dayofweek</th>\n",
       "      <th>predictiondate</th>\n",
       "      <th>price_movement</th>\n",
       "      <th>processed_text</th>\n",
       "      <th>tickers</th>\n",
       "      <th>number_tickers</th>\n",
       "      <th>hashtags</th>\n",
       "      <th>number_hashtags</th>\n",
       "      <th>mentions</th>\n",
       "      <th>number_mentions</th>\n",
       "      <th>text_length</th>\n",
       "      <th>lem_text</th>\n",
       "      <th>sentiment_label</th>\n",
       "      <th>sentiment_score</th>\n",
       "    </tr>\n",
       "  </thead>\n",
       "  <tbody>\n",
       "    <tr>\n",
       "      <th>12483</th>\n",
       "      <td>2019-10-19 09:47:12-04:00</td>\n",
       "      <td>Q: Will @jpmorgan CEO Jamie Dimon take a hit f...</td>\n",
       "      <td>rcwhalen</td>\n",
       "      <td>15</td>\n",
       "      <td>1</td>\n",
       "      <td>7</td>\n",
       "      <td>JPM</td>\n",
       "      <td>2019-10-19</td>\n",
       "      <td>9</td>\n",
       "      <td>47</td>\n",
       "      <td>5</td>\n",
       "      <td>2019-10-21</td>\n",
       "      <td>1</td>\n",
       "      <td>q will @jpmorgan ceo jamie dimon take a hit fo...</td>\n",
       "      <td>[$jpm]</td>\n",
       "      <td>1</td>\n",
       "      <td>[]</td>\n",
       "      <td>0</td>\n",
       "      <td>[@jpmorgan, @wework, @rbrtrmstrng, @bhgreeley,...</td>\n",
       "      <td>8</td>\n",
       "      <td>270</td>\n",
       "      <td>q will @jpmorgan ceo jamie dimon take a hit fo...</td>\n",
       "      <td>negative</td>\n",
       "      <td>0.542816</td>\n",
       "    </tr>\n",
       "    <tr>\n",
       "      <th>16244</th>\n",
       "      <td>2021-01-15 01:17:42-05:00</td>\n",
       "      <td>$JPM\\n\\nWhat is Toxic Securities Abuses?\\n\\nOr...</td>\n",
       "      <td>JimJame74888138</td>\n",
       "      <td>2</td>\n",
       "      <td>0</td>\n",
       "      <td>1</td>\n",
       "      <td>JPM</td>\n",
       "      <td>2021-01-15</td>\n",
       "      <td>1</td>\n",
       "      <td>17</td>\n",
       "      <td>4</td>\n",
       "      <td>2021-01-15</td>\n",
       "      <td>0</td>\n",
       "      <td>$jpm  what is toxic securities abuses  or anti...</td>\n",
       "      <td>[$jpm]</td>\n",
       "      <td>1</td>\n",
       "      <td>[]</td>\n",
       "      <td>0</td>\n",
       "      <td>[]</td>\n",
       "      <td>0</td>\n",
       "      <td>235</td>\n",
       "      <td>$jpm what is toxic security abuse or antimoney...</td>\n",
       "      <td>negative</td>\n",
       "      <td>0.899618</td>\n",
       "    </tr>\n",
       "    <tr>\n",
       "      <th>8422</th>\n",
       "      <td>2020-12-02 18:20:03-05:00</td>\n",
       "      <td>$XOM #XOM Balloon breakout today.\\n\\nhttps://t...</td>\n",
       "      <td>TrendSpider</td>\n",
       "      <td>17</td>\n",
       "      <td>1</td>\n",
       "      <td>0</td>\n",
       "      <td>XOM</td>\n",
       "      <td>2020-12-02</td>\n",
       "      <td>18</td>\n",
       "      <td>20</td>\n",
       "      <td>2</td>\n",
       "      <td>2020-12-03</td>\n",
       "      <td>1</td>\n",
       "      <td>$xom #xom balloon breakout today  httpstcomhmk...</td>\n",
       "      <td>[$xom]</td>\n",
       "      <td>1</td>\n",
       "      <td>[#xom]</td>\n",
       "      <td>1</td>\n",
       "      <td>[]</td>\n",
       "      <td>0</td>\n",
       "      <td>51</td>\n",
       "      <td>$xom #xom balloon breakout today httpstcomhmko...</td>\n",
       "      <td>neutral</td>\n",
       "      <td>0.670930</td>\n",
       "    </tr>\n",
       "  </tbody>\n",
       "</table>\n",
       "</div>"
      ],
      "text/plain": [
       "                       datetime  \\\n",
       "12483 2019-10-19 09:47:12-04:00   \n",
       "16244 2021-01-15 01:17:42-05:00   \n",
       "8422  2020-12-02 18:20:03-05:00   \n",
       "\n",
       "                                                    text         username  \\\n",
       "12483  Q: Will @jpmorgan CEO Jamie Dimon take a hit f...         rcwhalen   \n",
       "16244  $JPM\\n\\nWhat is Toxic Securities Abuses?\\n\\nOr...  JimJame74888138   \n",
       "8422   $XOM #XOM Balloon breakout today.\\n\\nhttps://t...      TrendSpider   \n",
       "\n",
       "       likeCount  replyCount  retweetCount stock      date_x  hour  minutes  \\\n",
       "12483         15           1             7   JPM  2019-10-19     9       47   \n",
       "16244          2           0             1   JPM  2021-01-15     1       17   \n",
       "8422          17           1             0   XOM  2020-12-02    18       20   \n",
       "\n",
       "       dayofweek predictiondate  price_movement  \\\n",
       "12483          5     2019-10-21               1   \n",
       "16244          4     2021-01-15               0   \n",
       "8422           2     2020-12-03               1   \n",
       "\n",
       "                                          processed_text tickers  \\\n",
       "12483  q will @jpmorgan ceo jamie dimon take a hit fo...  [$jpm]   \n",
       "16244  $jpm  what is toxic securities abuses  or anti...  [$jpm]   \n",
       "8422   $xom #xom balloon breakout today  httpstcomhmk...  [$xom]   \n",
       "\n",
       "       number_tickers hashtags  number_hashtags  \\\n",
       "12483               1       []                0   \n",
       "16244               1       []                0   \n",
       "8422                1   [#xom]                1   \n",
       "\n",
       "                                                mentions  number_mentions  \\\n",
       "12483  [@jpmorgan, @wework, @rbrtrmstrng, @bhgreeley,...                8   \n",
       "16244                                                 []                0   \n",
       "8422                                                  []                0   \n",
       "\n",
       "       text_length                                           lem_text  \\\n",
       "12483          270  q will @jpmorgan ceo jamie dimon take a hit fo...   \n",
       "16244          235  $jpm what is toxic security abuse or antimoney...   \n",
       "8422            51  $xom #xom balloon breakout today httpstcomhmko...   \n",
       "\n",
       "      sentiment_label  sentiment_score  \n",
       "12483        negative         0.542816  \n",
       "16244        negative         0.899618  \n",
       "8422          neutral         0.670930  "
      ]
     },
     "execution_count": 62,
     "metadata": {},
     "output_type": "execute_result"
    }
   ],
   "source": [
    "stocks_merged.sample(3)"
   ]
  },
  {
   "cell_type": "markdown",
   "id": "773d6f0f",
   "metadata": {},
   "source": [
    "Let's look at the sentiment label breakdown"
   ]
  },
  {
   "cell_type": "code",
   "execution_count": 63,
   "id": "8ec0c0d2",
   "metadata": {},
   "outputs": [
    {
     "data": {
      "text/plain": [
       "neutral     0.580450\n",
       "positive    0.262387\n",
       "negative    0.157163\n",
       "Name: sentiment_label, dtype: float64"
      ]
     },
     "execution_count": 63,
     "metadata": {},
     "output_type": "execute_result"
    }
   ],
   "source": [
    "stocks_merged['sentiment_label'].value_counts(normalize=True)"
   ]
  },
  {
   "cell_type": "markdown",
   "id": "be2c1550",
   "metadata": {},
   "source": [
    "Now let's take a look at a few examples of each label"
   ]
  },
  {
   "cell_type": "code",
   "execution_count": 64,
   "id": "7f296e97",
   "metadata": {},
   "outputs": [],
   "source": [
    "pd.set_option('display.max_colwidth', 200)"
   ]
  },
  {
   "cell_type": "code",
   "execution_count": 65,
   "id": "074be49a",
   "metadata": {},
   "outputs": [
    {
     "data": {
      "text/html": [
       "<div>\n",
       "<style scoped>\n",
       "    .dataframe tbody tr th:only-of-type {\n",
       "        vertical-align: middle;\n",
       "    }\n",
       "\n",
       "    .dataframe tbody tr th {\n",
       "        vertical-align: top;\n",
       "    }\n",
       "\n",
       "    .dataframe thead th {\n",
       "        text-align: right;\n",
       "    }\n",
       "</style>\n",
       "<table border=\"1\" class=\"dataframe\">\n",
       "  <thead>\n",
       "    <tr style=\"text-align: right;\">\n",
       "      <th></th>\n",
       "      <th>text</th>\n",
       "    </tr>\n",
       "  </thead>\n",
       "  <tbody>\n",
       "    <tr>\n",
       "      <th>15554</th>\n",
       "      <td>Damn she is good. $JPM</td>\n",
       "    </tr>\n",
       "    <tr>\n",
       "      <th>1201</th>\n",
       "      <td>as for $GOOGL: it's up 40% in a yr. a 4% dip is a gift in this mkt</td>\n",
       "    </tr>\n",
       "    <tr>\n",
       "      <th>15535</th>\n",
       "      <td>@WealthOrDie I invested heavy into $JPM post GFC and then again London Whale debacle. I really just invested in Jaime. Glad he beat his cancer too. The guy is a warrior and one of the best CEOS ever</td>\n",
       "    </tr>\n",
       "    <tr>\n",
       "      <th>5390</th>\n",
       "      <td>$GOOGL Daily Chart 🧃\\n\\nStill ranging in this ascending channel, I will patiently wait for the break of 2767 to go long here. Volume was decent on Friday, but we're going to need some more if we w...</td>\n",
       "    </tr>\n",
       "    <tr>\n",
       "      <th>4920</th>\n",
       "      <td>$GOOGL potential weekly breakout this week. Explosive move in the making. 🍿</td>\n",
       "    </tr>\n",
       "    <tr>\n",
       "      <th>14634</th>\n",
       "      <td>Trading Ideas: $JPM looking for big move this week https://t.co/B7BJWXJRld 📈 FREE trade-of-week via ⟶ https://t.co/BCEHq7Ce2N https://t.co/v6zjV2U0KG</td>\n",
       "    </tr>\n",
       "    <tr>\n",
       "      <th>9002</th>\n",
       "      <td>Covid breakdown offering a big buying opportunity in $XOM. https://t.co/eXSx1qTw1l</td>\n",
       "    </tr>\n",
       "    <tr>\n",
       "      <th>6541</th>\n",
       "      <td>Monster ! $GOOGL</td>\n",
       "    </tr>\n",
       "    <tr>\n",
       "      <th>10164</th>\n",
       "      <td>$XOM  revival of pattern - expecting higher 60 -64 tgt https://t.co/lNYDej30jH</td>\n",
       "    </tr>\n",
       "    <tr>\n",
       "      <th>3261</th>\n",
       "      <td>$GOOGL Cup formation. Very strong recently. 1542 was a buy when it hit above ER gap down. 1690 is the next target on the break and stay above the pink resistance line. https://t.co/T6m9je5Mx0</td>\n",
       "    </tr>\n",
       "  </tbody>\n",
       "</table>\n",
       "</div>"
      ],
      "text/plain": [
       "                                                                                                                                                                                                          text\n",
       "15554                                                                                                                                                                                   Damn she is good. $JPM\n",
       "1201                                                                                                                                        as for $GOOGL: it's up 40% in a yr. a 4% dip is a gift in this mkt\n",
       "15535   @WealthOrDie I invested heavy into $JPM post GFC and then again London Whale debacle. I really just invested in Jaime. Glad he beat his cancer too. The guy is a warrior and one of the best CEOS ever\n",
       "5390   $GOOGL Daily Chart 🧃\\n\\nStill ranging in this ascending channel, I will patiently wait for the break of 2767 to go long here. Volume was decent on Friday, but we're going to need some more if we w...\n",
       "4920                                                                                                                               $GOOGL potential weekly breakout this week. Explosive move in the making. 🍿\n",
       "14634                                                    Trading Ideas: $JPM looking for big move this week https://t.co/B7BJWXJRld 📈 FREE trade-of-week via ⟶ https://t.co/BCEHq7Ce2N https://t.co/v6zjV2U0KG\n",
       "9002                                                                                                                        Covid breakdown offering a big buying opportunity in $XOM. https://t.co/eXSx1qTw1l\n",
       "6541                                                                                                                                                                                          Monster ! $GOOGL\n",
       "10164                                                                                                                           $XOM  revival of pattern - expecting higher 60 -64 tgt https://t.co/lNYDej30jH\n",
       "3261           $GOOGL Cup formation. Very strong recently. 1542 was a buy when it hit above ER gap down. 1690 is the next target on the break and stay above the pink resistance line. https://t.co/T6m9je5Mx0"
      ]
     },
     "execution_count": 65,
     "metadata": {},
     "output_type": "execute_result"
    }
   ],
   "source": [
    "stocks_merged[stocks_merged['sentiment_label'] == 'positive'].sample(10)[['text']]"
   ]
  },
  {
   "cell_type": "code",
   "execution_count": 66,
   "id": "fba72e41",
   "metadata": {},
   "outputs": [
    {
     "data": {
      "text/html": [
       "<div>\n",
       "<style scoped>\n",
       "    .dataframe tbody tr th:only-of-type {\n",
       "        vertical-align: middle;\n",
       "    }\n",
       "\n",
       "    .dataframe tbody tr th {\n",
       "        vertical-align: top;\n",
       "    }\n",
       "\n",
       "    .dataframe thead th {\n",
       "        text-align: right;\n",
       "    }\n",
       "</style>\n",
       "<table border=\"1\" class=\"dataframe\">\n",
       "  <thead>\n",
       "    <tr style=\"text-align: right;\">\n",
       "      <th></th>\n",
       "      <th>text</th>\n",
       "    </tr>\n",
       "  </thead>\n",
       "  <tbody>\n",
       "    <tr>\n",
       "      <th>16291</th>\n",
       "      <td>@IncomeSharks A $jpm coin lol. Isn't it JPM that just dodged a major scandal yet again this and still got a bailout. Hoping one day bankers actually lose</td>\n",
       "    </tr>\n",
       "    <tr>\n",
       "      <th>13160</th>\n",
       "      <td>@The_Real_Fly just another smack on the wrist.  Anyone add up the running tab $JPM has paid in fines?  Has to be staggering sum</td>\n",
       "    </tr>\n",
       "    <tr>\n",
       "      <th>10911</th>\n",
       "      <td>I forgot about $XOM leading too.</td>\n",
       "    </tr>\n",
       "    <tr>\n",
       "      <th>4424</th>\n",
       "      <td>(CNBC) - Google has told its employees that they will lose pay — and will eventually be fired — if they don’t comply with the company’s Covid-19 vaccination policy, according to internal documents...</td>\n",
       "    </tr>\n",
       "    <tr>\n",
       "      <th>713</th>\n",
       "      <td>Not so “Quiet” anymore…but what is a “Tariff” vs a Tariff “Literally”? Devalued Yuan, higher tariffs in China, hmmm, seems shooting self in foot was not good idea #China. Come to table, work toget...</td>\n",
       "    </tr>\n",
       "    <tr>\n",
       "      <th>3817</th>\n",
       "      <td>The #GoogleMaps SDK that's utilized by thousands of apps to render Google maps, is having issues causing app crashes. Reports note crashes on Lyft, Uber, Doordash so far. $Googl @9to5Google #MapsS...</td>\n",
       "    </tr>\n",
       "    <tr>\n",
       "      <th>1856</th>\n",
       "      <td>This really is a problem:\\n\\nJen Gennai lays out the truth that $GOOGL is a biased, editorial company that has a specific political agenda. \\n\\nhttps://t.co/wExCClBLwd</td>\n",
       "    </tr>\n",
       "    <tr>\n",
       "      <th>6410</th>\n",
       "      <td>Inexplicably I have never owned $GOOGL and right now does not seem like the time to get in. I’m not calling for a major crash but extended weekly RSI typically leads to consolidations. And that MA...</td>\n",
       "    </tr>\n",
       "    <tr>\n",
       "      <th>3335</th>\n",
       "      <td>Advertisers on Google have suffered mass layoffs and other cutbacks during the pandemic, and marketing budgets are often the first to get slashed https://t.co/Ms2e0QSVI2 $GOOGL https://t.co/3yKDVe...</td>\n",
       "    </tr>\n",
       "    <tr>\n",
       "      <th>14472</th>\n",
       "      <td>Shut the fuck up talking about Drug dealers are destroying the community if you're a Nigga invested in companies like $JPM. I ain't saying don't invest I'm just saying stfu. \\n.\\n.\\n.\\n.\\n.\\n\"You ...</td>\n",
       "    </tr>\n",
       "  </tbody>\n",
       "</table>\n",
       "</div>"
      ],
      "text/plain": [
       "                                                                                                                                                                                                          text\n",
       "16291                                                @IncomeSharks A $jpm coin lol. Isn't it JPM that just dodged a major scandal yet again this and still got a bailout. Hoping one day bankers actually lose\n",
       "13160                                                                          @The_Real_Fly just another smack on the wrist.  Anyone add up the running tab $JPM has paid in fines?  Has to be staggering sum\n",
       "10911                                                                                                                                                                         I forgot about $XOM leading too.\n",
       "4424   (CNBC) - Google has told its employees that they will lose pay — and will eventually be fired — if they don’t comply with the company’s Covid-19 vaccination policy, according to internal documents...\n",
       "713    Not so “Quiet” anymore…but what is a “Tariff” vs a Tariff “Literally”? Devalued Yuan, higher tariffs in China, hmmm, seems shooting self in foot was not good idea #China. Come to table, work toget...\n",
       "3817   The #GoogleMaps SDK that's utilized by thousands of apps to render Google maps, is having issues causing app crashes. Reports note crashes on Lyft, Uber, Doordash so far. $Googl @9to5Google #MapsS...\n",
       "1856                                   This really is a problem:\\n\\nJen Gennai lays out the truth that $GOOGL is a biased, editorial company that has a specific political agenda. \\n\\nhttps://t.co/wExCClBLwd\n",
       "6410   Inexplicably I have never owned $GOOGL and right now does not seem like the time to get in. I’m not calling for a major crash but extended weekly RSI typically leads to consolidations. And that MA...\n",
       "3335   Advertisers on Google have suffered mass layoffs and other cutbacks during the pandemic, and marketing budgets are often the first to get slashed https://t.co/Ms2e0QSVI2 $GOOGL https://t.co/3yKDVe...\n",
       "14472  Shut the fuck up talking about Drug dealers are destroying the community if you're a Nigga invested in companies like $JPM. I ain't saying don't invest I'm just saying stfu. \\n.\\n.\\n.\\n.\\n.\\n\"You ..."
      ]
     },
     "execution_count": 66,
     "metadata": {},
     "output_type": "execute_result"
    }
   ],
   "source": [
    "stocks_merged[stocks_merged['sentiment_label'] == 'negative'].sample(10)[['text']]"
   ]
  },
  {
   "cell_type": "code",
   "execution_count": 67,
   "id": "6ac130ae",
   "metadata": {},
   "outputs": [
    {
     "data": {
      "text/html": [
       "<div>\n",
       "<style scoped>\n",
       "    .dataframe tbody tr th:only-of-type {\n",
       "        vertical-align: middle;\n",
       "    }\n",
       "\n",
       "    .dataframe tbody tr th {\n",
       "        vertical-align: top;\n",
       "    }\n",
       "\n",
       "    .dataframe thead th {\n",
       "        text-align: right;\n",
       "    }\n",
       "</style>\n",
       "<table border=\"1\" class=\"dataframe\">\n",
       "  <thead>\n",
       "    <tr style=\"text-align: right;\">\n",
       "      <th></th>\n",
       "      <th>text</th>\n",
       "    </tr>\n",
       "  </thead>\n",
       "  <tbody>\n",
       "    <tr>\n",
       "      <th>12452</th>\n",
       "      <td>What is making $JPM re-think it's balance sheet?</td>\n",
       "    </tr>\n",
       "    <tr>\n",
       "      <th>15192</th>\n",
       "      <td>@bonjour247 Yes, $JPM average deposit rose from $1,636bn in 20Q1 pre-COVID to $2,225bn by 21Q1, driving the y/y growth in assets. Most of this has gone into Deposit w/ Banks &amp;amp; Investment Secur...</td>\n",
       "    </tr>\n",
       "    <tr>\n",
       "      <th>4682</th>\n",
       "      <td>@plantmath1 * Unless it's $GOOGL</td>\n",
       "    </tr>\n",
       "    <tr>\n",
       "      <th>798</th>\n",
       "      <td>$GOOGL calls bot when it was early 1020s. around 27. Now 54. 1100 resistance. Lets C.</td>\n",
       "    </tr>\n",
       "    <tr>\n",
       "      <th>14461</th>\n",
       "      <td>15:08:14 12-17    Common Stock    $JPM    $564.5M    $156.76    3,601,186    27.7M</td>\n",
       "    </tr>\n",
       "    <tr>\n",
       "      <th>15707</th>\n",
       "      <td>$JPM sneaky coil at 155 level 👀 https://t.co/o052Gv3RkU</td>\n",
       "    </tr>\n",
       "    <tr>\n",
       "      <th>10488</th>\n",
       "      <td>Master Key Trading Series #7\\n\\nHow to drill down for entries when Swing Trading\\n\\nIn this example I go through my swing trade with $XOM\\n1 - Using Fibonacci on the Monthly\\n2 - Using Inside Bars...</td>\n",
       "    </tr>\n",
       "    <tr>\n",
       "      <th>5014</th>\n",
       "      <td>$GOOGL daily... https://t.co/rpOlIUGtYY</td>\n",
       "    </tr>\n",
       "    <tr>\n",
       "      <th>9954</th>\n",
       "      <td>Exxon board debates dropping several major oil and gas projects - WSJ #oott $XOM https://t.co/II05AC2nKR</td>\n",
       "    </tr>\n",
       "    <tr>\n",
       "      <th>13208</th>\n",
       "      <td>To Josh Brown - Totally and respectfully disagree.  \\nTo begin with, banks have extraordinary low/zero cost deposit bases (trillion dollar gain y/o/y) that will increase in value dramatically as i...</td>\n",
       "    </tr>\n",
       "  </tbody>\n",
       "</table>\n",
       "</div>"
      ],
      "text/plain": [
       "                                                                                                                                                                                                          text\n",
       "12452                                                                                                                                                         What is making $JPM re-think it's balance sheet?\n",
       "15192  @bonjour247 Yes, $JPM average deposit rose from $1,636bn in 20Q1 pre-COVID to $2,225bn by 21Q1, driving the y/y growth in assets. Most of this has gone into Deposit w/ Banks &amp; Investment Secur...\n",
       "4682                                                                                                                                                                          @plantmath1 * Unless it's $GOOGL\n",
       "798                                                                                                                      $GOOGL calls bot when it was early 1020s. around 27. Now 54. 1100 resistance. Lets C.\n",
       "14461                                                                                                                       15:08:14 12-17    Common Stock    $JPM    $564.5M    $156.76    3,601,186    27.7M\n",
       "15707                                                                                                                                                  $JPM sneaky coil at 155 level 👀 https://t.co/o052Gv3RkU\n",
       "10488  Master Key Trading Series #7\\n\\nHow to drill down for entries when Swing Trading\\n\\nIn this example I go through my swing trade with $XOM\\n1 - Using Fibonacci on the Monthly\\n2 - Using Inside Bars...\n",
       "5014                                                                                                                                                                   $GOOGL daily... https://t.co/rpOlIUGtYY\n",
       "9954                                                                                                  Exxon board debates dropping several major oil and gas projects - WSJ #oott $XOM https://t.co/II05AC2nKR\n",
       "13208  To Josh Brown - Totally and respectfully disagree.  \\nTo begin with, banks have extraordinary low/zero cost deposit bases (trillion dollar gain y/o/y) that will increase in value dramatically as i..."
      ]
     },
     "execution_count": 67,
     "metadata": {},
     "output_type": "execute_result"
    }
   ],
   "source": [
    "stocks_merged[stocks_merged['sentiment_label'] == 'neutral'].sample(10)[['text']]"
   ]
  },
  {
   "cell_type": "markdown",
   "id": "c6774f5d",
   "metadata": {},
   "source": [
    "### Export data"
   ]
  },
  {
   "cell_type": "markdown",
   "id": "27a51613",
   "metadata": {},
   "source": [
    "Finally let's export the processed data for EDA and modeling."
   ]
  },
  {
   "cell_type": "code",
   "execution_count": 68,
   "id": "ca754361",
   "metadata": {},
   "outputs": [],
   "source": [
    "stocks_merged.to_csv('../data/stocks_merged.csv')"
   ]
  },
  {
   "cell_type": "code",
   "execution_count": null,
   "id": "7c1d5ef7",
   "metadata": {},
   "outputs": [],
   "source": []
  }
 ],
 "metadata": {
  "kernelspec": {
   "display_name": "Python 3 (ipykernel)",
   "language": "python",
   "name": "python3"
  },
  "language_info": {
   "codemirror_mode": {
    "name": "ipython",
    "version": 3
   },
   "file_extension": ".py",
   "mimetype": "text/x-python",
   "name": "python",
   "nbconvert_exporter": "python",
   "pygments_lexer": "ipython3",
   "version": "3.9.12"
  }
 },
 "nbformat": 4,
 "nbformat_minor": 5
}
