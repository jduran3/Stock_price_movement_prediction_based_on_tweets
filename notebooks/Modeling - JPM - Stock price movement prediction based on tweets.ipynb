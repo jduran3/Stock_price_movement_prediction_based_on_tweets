{
 "cells": [
  {
   "cell_type": "markdown",
   "id": "30a08fa7",
   "metadata": {},
   "source": [
    "### Import libraries"
   ]
  },
  {
   "cell_type": "code",
   "execution_count": 1,
   "id": "a5711f44",
   "metadata": {},
   "outputs": [],
   "source": [
    "import pandas as pd\n",
    "import numpy as np\n",
    "import matplotlib.pyplot as plt\n",
    "import seaborn as sns\n",
    "from sklearn.feature_extraction.text import CountVectorizer\n",
    "from sklearn.model_selection import train_test_split, RandomizedSearchCV, GridSearchCV\n",
    "from sklearn.preprocessing import StandardScaler, MinMaxScaler\n",
    "from sklearn.naive_bayes import MultinomialNB\n",
    "from sklearn.linear_model import LogisticRegression\n",
    "from sklearn.ensemble import RandomForestClassifier\n",
    "from sklearn.metrics import classification_report, accuracy_score, confusion_matrix, roc_curve, auc, precision_score, recall_score\n",
    "import xgboost as xgb\n",
    "import time\n",
    "import joblib\n",
    "\n",
    "pd.set_option('display.max_columns', None)"
   ]
  },
  {
   "cell_type": "markdown",
   "id": "c0d4c26d",
   "metadata": {},
   "source": [
    "### Load data"
   ]
  },
  {
   "cell_type": "code",
   "execution_count": 2,
   "id": "8af462aa",
   "metadata": {},
   "outputs": [],
   "source": [
    "tweets_df = pd.read_csv('..\\data\\stocks_merged.csv', index_col=0, parse_dates=['datetime'])"
   ]
  },
  {
   "cell_type": "code",
   "execution_count": 3,
   "id": "b4a307e0",
   "metadata": {
    "scrolled": false
   },
   "outputs": [
    {
     "data": {
      "text/plain": [
       "(16327, 24)"
      ]
     },
     "execution_count": 3,
     "metadata": {},
     "output_type": "execute_result"
    }
   ],
   "source": [
    "tweets_df.shape"
   ]
  },
  {
   "cell_type": "code",
   "execution_count": 4,
   "id": "0d50fcd4",
   "metadata": {},
   "outputs": [
    {
     "data": {
      "text/plain": [
       "(4503, 24)"
      ]
     },
     "execution_count": 4,
     "metadata": {},
     "output_type": "execute_result"
    }
   ],
   "source": [
    "tweets_df = tweets_df[tweets_df['stock'] == 'JPM']\n",
    "tweets_df.shape"
   ]
  },
  {
   "cell_type": "code",
   "execution_count": 5,
   "id": "291250f3",
   "metadata": {},
   "outputs": [
    {
     "data": {
      "text/plain": [
       "1    0.578725\n",
       "0    0.421275\n",
       "Name: price_movement, dtype: float64"
      ]
     },
     "execution_count": 5,
     "metadata": {},
     "output_type": "execute_result"
    }
   ],
   "source": [
    "tweets_df.price_movement.value_counts(normalize=True)"
   ]
  },
  {
   "cell_type": "code",
   "execution_count": 6,
   "id": "86bca568",
   "metadata": {},
   "outputs": [
    {
     "data": {
      "text/html": [
       "<div>\n",
       "<style scoped>\n",
       "    .dataframe tbody tr th:only-of-type {\n",
       "        vertical-align: middle;\n",
       "    }\n",
       "\n",
       "    .dataframe tbody tr th {\n",
       "        vertical-align: top;\n",
       "    }\n",
       "\n",
       "    .dataframe thead th {\n",
       "        text-align: right;\n",
       "    }\n",
       "</style>\n",
       "<table border=\"1\" class=\"dataframe\">\n",
       "  <thead>\n",
       "    <tr style=\"text-align: right;\">\n",
       "      <th></th>\n",
       "      <th>datetime</th>\n",
       "      <th>text</th>\n",
       "      <th>username</th>\n",
       "      <th>likeCount</th>\n",
       "      <th>replyCount</th>\n",
       "      <th>retweetCount</th>\n",
       "      <th>stock</th>\n",
       "      <th>date_x</th>\n",
       "      <th>hour</th>\n",
       "      <th>minutes</th>\n",
       "      <th>dayofweek</th>\n",
       "      <th>predictiondate</th>\n",
       "      <th>price_movement</th>\n",
       "      <th>processed_text</th>\n",
       "      <th>tickers</th>\n",
       "      <th>number_tickers</th>\n",
       "      <th>hashtags</th>\n",
       "      <th>number_hashtags</th>\n",
       "      <th>mentions</th>\n",
       "      <th>number_mentions</th>\n",
       "      <th>text_length</th>\n",
       "      <th>lem_text</th>\n",
       "      <th>sentiment_label</th>\n",
       "      <th>sentiment_score</th>\n",
       "    </tr>\n",
       "  </thead>\n",
       "  <tbody>\n",
       "    <tr>\n",
       "      <th>12947</th>\n",
       "      <td>2019-01-17 22:35:41-05:00</td>\n",
       "      <td>$JPM - Jamie Dimon's 2018 compensation totaled...</td>\n",
       "      <td>MarketCurrents</td>\n",
       "      <td>1</td>\n",
       "      <td>0</td>\n",
       "      <td>0</td>\n",
       "      <td>JPM</td>\n",
       "      <td>2019-01-17</td>\n",
       "      <td>22</td>\n",
       "      <td>35</td>\n",
       "      <td>3</td>\n",
       "      <td>2019-01-18</td>\n",
       "      <td>1</td>\n",
       "      <td>$jpm  jamie dimons  compensation totaled $m to...</td>\n",
       "      <td>['$jpm']</td>\n",
       "      <td>1</td>\n",
       "      <td>[]</td>\n",
       "      <td>0</td>\n",
       "      <td>[]</td>\n",
       "      <td>0</td>\n",
       "      <td>85</td>\n",
       "      <td>$jpm jamie dimons compensation totaled $m topp...</td>\n",
       "      <td>neutral</td>\n",
       "      <td>0.872616</td>\n",
       "    </tr>\n",
       "    <tr>\n",
       "      <th>13647</th>\n",
       "      <td>2020-07-14 07:26:29-04:00</td>\n",
       "      <td>$JPM  reports 2Q 2020 net income of $4.7 BLN/$...</td>\n",
       "      <td>ladymarketok</td>\n",
       "      <td>14</td>\n",
       "      <td>3</td>\n",
       "      <td>0</td>\n",
       "      <td>JPM</td>\n",
       "      <td>2020-07-14</td>\n",
       "      <td>7</td>\n",
       "      <td>26</td>\n",
       "      <td>1</td>\n",
       "      <td>2020-07-14</td>\n",
       "      <td>1</td>\n",
       "      <td>$jpm  reports q  net income of $ bln$ per share</td>\n",
       "      <td>['$jpm']</td>\n",
       "      <td>1</td>\n",
       "      <td>[]</td>\n",
       "      <td>0</td>\n",
       "      <td>[]</td>\n",
       "      <td>0</td>\n",
       "      <td>47</td>\n",
       "      <td>$jpm report q net income of $ bln$ per share</td>\n",
       "      <td>neutral</td>\n",
       "      <td>0.823293</td>\n",
       "    </tr>\n",
       "    <tr>\n",
       "      <th>14233</th>\n",
       "      <td>2020-03-18 22:00:45-04:00</td>\n",
       "      <td>$JPM This isn’t a tech company. They don’t hav...</td>\n",
       "      <td>FlyrUsr</td>\n",
       "      <td>3</td>\n",
       "      <td>0</td>\n",
       "      <td>3</td>\n",
       "      <td>JPM</td>\n",
       "      <td>2020-03-18</td>\n",
       "      <td>22</td>\n",
       "      <td>0</td>\n",
       "      <td>2</td>\n",
       "      <td>2020-03-19</td>\n",
       "      <td>0</td>\n",
       "      <td>$jpm this isn’t a tech company they don’t have...</td>\n",
       "      <td>['$jpm']</td>\n",
       "      <td>1</td>\n",
       "      <td>[]</td>\n",
       "      <td>0</td>\n",
       "      <td>['@epsilontheory']</td>\n",
       "      <td>1</td>\n",
       "      <td>249</td>\n",
       "      <td>$jpm this isn’t a tech company they don’t have...</td>\n",
       "      <td>negative</td>\n",
       "      <td>0.888084</td>\n",
       "    </tr>\n",
       "  </tbody>\n",
       "</table>\n",
       "</div>"
      ],
      "text/plain": [
       "                        datetime  \\\n",
       "12947  2019-01-17 22:35:41-05:00   \n",
       "13647  2020-07-14 07:26:29-04:00   \n",
       "14233  2020-03-18 22:00:45-04:00   \n",
       "\n",
       "                                                    text        username  \\\n",
       "12947  $JPM - Jamie Dimon's 2018 compensation totaled...  MarketCurrents   \n",
       "13647  $JPM  reports 2Q 2020 net income of $4.7 BLN/$...    ladymarketok   \n",
       "14233  $JPM This isn’t a tech company. They don’t hav...         FlyrUsr   \n",
       "\n",
       "       likeCount  replyCount  retweetCount stock      date_x  hour  minutes  \\\n",
       "12947          1           0             0   JPM  2019-01-17    22       35   \n",
       "13647         14           3             0   JPM  2020-07-14     7       26   \n",
       "14233          3           0             3   JPM  2020-03-18    22        0   \n",
       "\n",
       "       dayofweek predictiondate  price_movement  \\\n",
       "12947          3     2019-01-18               1   \n",
       "13647          1     2020-07-14               1   \n",
       "14233          2     2020-03-19               0   \n",
       "\n",
       "                                          processed_text   tickers  \\\n",
       "12947  $jpm  jamie dimons  compensation totaled $m to...  ['$jpm']   \n",
       "13647    $jpm  reports q  net income of $ bln$ per share  ['$jpm']   \n",
       "14233  $jpm this isn’t a tech company they don’t have...  ['$jpm']   \n",
       "\n",
       "       number_tickers hashtags  number_hashtags            mentions  \\\n",
       "12947               1       []                0                  []   \n",
       "13647               1       []                0                  []   \n",
       "14233               1       []                0  ['@epsilontheory']   \n",
       "\n",
       "       number_mentions  text_length  \\\n",
       "12947                0           85   \n",
       "13647                0           47   \n",
       "14233                1          249   \n",
       "\n",
       "                                                lem_text sentiment_label  \\\n",
       "12947  $jpm jamie dimons compensation totaled $m topp...         neutral   \n",
       "13647       $jpm report q net income of $ bln$ per share         neutral   \n",
       "14233  $jpm this isn’t a tech company they don’t have...        negative   \n",
       "\n",
       "       sentiment_score  \n",
       "12947         0.872616  \n",
       "13647         0.823293  \n",
       "14233         0.888084  "
      ]
     },
     "execution_count": 6,
     "metadata": {},
     "output_type": "execute_result"
    }
   ],
   "source": [
    "tweets_df.sample(3)"
   ]
  },
  {
   "cell_type": "markdown",
   "id": "432cde25",
   "metadata": {},
   "source": [
    "### Preprocessing"
   ]
  },
  {
   "cell_type": "code",
   "execution_count": 7,
   "id": "8e4c685a",
   "metadata": {},
   "outputs": [],
   "source": [
    "# Dropping some columns we will not use\n",
    "tweets_df = tweets_df.drop(columns=['datetime','text','username','stock','date_x','predictiondate',\\\n",
    "                                   'processed_text','tickers','hashtags','mentions'])"
   ]
  },
  {
   "cell_type": "code",
   "execution_count": 8,
   "id": "9056f12e",
   "metadata": {},
   "outputs": [],
   "source": [
    "# Mapping from number to day and cpnverting to category\n",
    "tweets_df['dayofweek'] = tweets_df['dayofweek'].map({0:'M', 1:'Tu', 2:'W', 3:'Th', 4:'F', 5:'Sa', 6:'Su'}).astype('category')"
   ]
  },
  {
   "cell_type": "code",
   "execution_count": 9,
   "id": "c7c628ff",
   "metadata": {},
   "outputs": [
    {
     "data": {
      "text/html": [
       "<div>\n",
       "<style scoped>\n",
       "    .dataframe tbody tr th:only-of-type {\n",
       "        vertical-align: middle;\n",
       "    }\n",
       "\n",
       "    .dataframe tbody tr th {\n",
       "        vertical-align: top;\n",
       "    }\n",
       "\n",
       "    .dataframe thead th {\n",
       "        text-align: right;\n",
       "    }\n",
       "</style>\n",
       "<table border=\"1\" class=\"dataframe\">\n",
       "  <thead>\n",
       "    <tr style=\"text-align: right;\">\n",
       "      <th></th>\n",
       "      <th>likeCount</th>\n",
       "      <th>replyCount</th>\n",
       "      <th>retweetCount</th>\n",
       "      <th>hour</th>\n",
       "      <th>minutes</th>\n",
       "      <th>price_movement</th>\n",
       "      <th>number_tickers</th>\n",
       "      <th>number_hashtags</th>\n",
       "      <th>number_mentions</th>\n",
       "      <th>text_length</th>\n",
       "      <th>lem_text</th>\n",
       "      <th>sentiment_score</th>\n",
       "      <th>dayofweek_M</th>\n",
       "      <th>dayofweek_Sa</th>\n",
       "      <th>dayofweek_Su</th>\n",
       "      <th>dayofweek_Th</th>\n",
       "      <th>dayofweek_Tu</th>\n",
       "      <th>dayofweek_W</th>\n",
       "      <th>sentiment_label_neutral</th>\n",
       "      <th>sentiment_label_positive</th>\n",
       "    </tr>\n",
       "  </thead>\n",
       "  <tbody>\n",
       "    <tr>\n",
       "      <th>11824</th>\n",
       "      <td>1</td>\n",
       "      <td>0</td>\n",
       "      <td>0</td>\n",
       "      <td>5</td>\n",
       "      <td>16</td>\n",
       "      <td>1</td>\n",
       "      <td>1</td>\n",
       "      <td>2</td>\n",
       "      <td>0</td>\n",
       "      <td>111</td>\n",
       "      <td>pearson lonpson given new gbx price target at ...</td>\n",
       "      <td>0.907365</td>\n",
       "      <td>1</td>\n",
       "      <td>0</td>\n",
       "      <td>0</td>\n",
       "      <td>0</td>\n",
       "      <td>0</td>\n",
       "      <td>0</td>\n",
       "      <td>1</td>\n",
       "      <td>0</td>\n",
       "    </tr>\n",
       "    <tr>\n",
       "      <th>11825</th>\n",
       "      <td>4</td>\n",
       "      <td>0</td>\n",
       "      <td>2</td>\n",
       "      <td>10</td>\n",
       "      <td>31</td>\n",
       "      <td>1</td>\n",
       "      <td>1</td>\n",
       "      <td>0</td>\n",
       "      <td>0</td>\n",
       "      <td>73</td>\n",
       "      <td>will try to make a move to level in a green ma...</td>\n",
       "      <td>0.748151</td>\n",
       "      <td>0</td>\n",
       "      <td>0</td>\n",
       "      <td>1</td>\n",
       "      <td>0</td>\n",
       "      <td>0</td>\n",
       "      <td>0</td>\n",
       "      <td>1</td>\n",
       "      <td>0</td>\n",
       "    </tr>\n",
       "  </tbody>\n",
       "</table>\n",
       "</div>"
      ],
      "text/plain": [
       "       likeCount  replyCount  retweetCount  hour  minutes  price_movement  \\\n",
       "11824          1           0             0     5       16               1   \n",
       "11825          4           0             2    10       31               1   \n",
       "\n",
       "       number_tickers  number_hashtags  number_mentions  text_length  \\\n",
       "11824               1                2                0          111   \n",
       "11825               1                0                0           73   \n",
       "\n",
       "                                                lem_text  sentiment_score  \\\n",
       "11824  pearson lonpson given new gbx price target at ...         0.907365   \n",
       "11825  will try to make a move to level in a green ma...         0.748151   \n",
       "\n",
       "       dayofweek_M  dayofweek_Sa  dayofweek_Su  dayofweek_Th  dayofweek_Tu  \\\n",
       "11824            1             0             0             0             0   \n",
       "11825            0             0             1             0             0   \n",
       "\n",
       "       dayofweek_W  sentiment_label_neutral  sentiment_label_positive  \n",
       "11824            0                        1                         0  \n",
       "11825            0                        1                         0  "
      ]
     },
     "execution_count": 9,
     "metadata": {},
     "output_type": "execute_result"
    }
   ],
   "source": [
    "# One hot encoding for dayofweek and sentiment label \n",
    "tweets_df = pd.get_dummies(tweets_df, columns=['dayofweek','sentiment_label'], drop_first=True)\n",
    "tweets_df.head(2)"
   ]
  },
  {
   "cell_type": "code",
   "execution_count": 10,
   "id": "a0cdccde",
   "metadata": {},
   "outputs": [],
   "source": [
    "X = tweets_df.drop(columns='price_movement')\n",
    "y = tweets_df['price_movement']"
   ]
  },
  {
   "cell_type": "code",
   "execution_count": 11,
   "id": "5930d92a",
   "metadata": {},
   "outputs": [
    {
     "data": {
      "text/plain": [
       "((4503, 19), (4503,))"
      ]
     },
     "execution_count": 11,
     "metadata": {},
     "output_type": "execute_result"
    }
   ],
   "source": [
    "X.shape, y.shape"
   ]
  },
  {
   "cell_type": "markdown",
   "id": "aff56190",
   "metadata": {},
   "source": [
    "### Train/test split"
   ]
  },
  {
   "cell_type": "code",
   "execution_count": 12,
   "id": "63813501",
   "metadata": {},
   "outputs": [],
   "source": [
    "X_train, X_test, y_train, y_test = train_test_split(X, y, test_size=0.3, random_state=42)"
   ]
  },
  {
   "cell_type": "code",
   "execution_count": 13,
   "id": "f9b5e56a",
   "metadata": {},
   "outputs": [
    {
     "data": {
      "text/plain": [
       "((3152, 19), (1351, 19))"
      ]
     },
     "execution_count": 13,
     "metadata": {},
     "output_type": "execute_result"
    }
   ],
   "source": [
    "X_train.shape, X_test.shape"
   ]
  },
  {
   "cell_type": "code",
   "execution_count": 14,
   "id": "fee0ab5c",
   "metadata": {},
   "outputs": [],
   "source": [
    "# Resetting index\n",
    "X_train = X_train.reset_index(drop=True)\n",
    "X_test = X_test.reset_index(drop=True)\n",
    "y_train = y_train.reset_index(drop=True)\n",
    "y_test = y_test.reset_index(drop=True)"
   ]
  },
  {
   "cell_type": "markdown",
   "id": "209299bc",
   "metadata": {},
   "source": [
    "### Scaling"
   ]
  },
  {
   "cell_type": "code",
   "execution_count": 15,
   "id": "6ad587ea",
   "metadata": {},
   "outputs": [],
   "source": [
    "minmax_scaler = MinMaxScaler()"
   ]
  },
  {
   "cell_type": "code",
   "execution_count": 16,
   "id": "e9ef3d87",
   "metadata": {},
   "outputs": [],
   "source": [
    "X_train[['likeCount','replyCount','retweetCount','hour','minutes',\\\n",
    "                                     'number_tickers','number_hashtags','number_mentions','text_length']] = \\\n",
    "minmax_scaler.fit_transform(X_train[['likeCount','replyCount','retweetCount','hour','minutes',\\\n",
    "                                     'number_tickers','number_hashtags','number_mentions','text_length']])"
   ]
  },
  {
   "cell_type": "code",
   "execution_count": 17,
   "id": "98ac87c2",
   "metadata": {},
   "outputs": [],
   "source": [
    "X_test[['likeCount','replyCount','retweetCount','hour','minutes',\\\n",
    "                                     'number_tickers','number_hashtags','number_mentions','text_length']] = \\\n",
    "minmax_scaler.transform(X_test[['likeCount','replyCount','retweetCount','hour','minutes',\\\n",
    "                                     'number_tickers','number_hashtags','number_mentions','text_length']])"
   ]
  },
  {
   "cell_type": "code",
   "execution_count": 18,
   "id": "fb9a60cc",
   "metadata": {},
   "outputs": [
    {
     "data": {
      "text/html": [
       "<div>\n",
       "<style scoped>\n",
       "    .dataframe tbody tr th:only-of-type {\n",
       "        vertical-align: middle;\n",
       "    }\n",
       "\n",
       "    .dataframe tbody tr th {\n",
       "        vertical-align: top;\n",
       "    }\n",
       "\n",
       "    .dataframe thead th {\n",
       "        text-align: right;\n",
       "    }\n",
       "</style>\n",
       "<table border=\"1\" class=\"dataframe\">\n",
       "  <thead>\n",
       "    <tr style=\"text-align: right;\">\n",
       "      <th></th>\n",
       "      <th>likeCount</th>\n",
       "      <th>replyCount</th>\n",
       "      <th>retweetCount</th>\n",
       "      <th>hour</th>\n",
       "      <th>minutes</th>\n",
       "      <th>number_tickers</th>\n",
       "      <th>number_hashtags</th>\n",
       "      <th>number_mentions</th>\n",
       "      <th>text_length</th>\n",
       "      <th>lem_text</th>\n",
       "      <th>sentiment_score</th>\n",
       "      <th>dayofweek_M</th>\n",
       "      <th>dayofweek_Sa</th>\n",
       "      <th>dayofweek_Su</th>\n",
       "      <th>dayofweek_Th</th>\n",
       "      <th>dayofweek_Tu</th>\n",
       "      <th>dayofweek_W</th>\n",
       "      <th>sentiment_label_neutral</th>\n",
       "      <th>sentiment_label_positive</th>\n",
       "    </tr>\n",
       "  </thead>\n",
       "  <tbody>\n",
       "    <tr>\n",
       "      <th>0</th>\n",
       "      <td>0.001934</td>\n",
       "      <td>0.0</td>\n",
       "      <td>0.000000</td>\n",
       "      <td>0.000000</td>\n",
       "      <td>0.745763</td>\n",
       "      <td>0.0</td>\n",
       "      <td>0.045455</td>\n",
       "      <td>0.045455</td>\n",
       "      <td>0.451163</td>\n",
       "      <td>ticker symbol jpm timeframe daily trade type s...</td>\n",
       "      <td>0.561667</td>\n",
       "      <td>0</td>\n",
       "      <td>0</td>\n",
       "      <td>0</td>\n",
       "      <td>0</td>\n",
       "      <td>0</td>\n",
       "      <td>1</td>\n",
       "      <td>0</td>\n",
       "      <td>1</td>\n",
       "    </tr>\n",
       "    <tr>\n",
       "      <th>1</th>\n",
       "      <td>0.015474</td>\n",
       "      <td>0.0</td>\n",
       "      <td>0.006993</td>\n",
       "      <td>0.304348</td>\n",
       "      <td>0.220339</td>\n",
       "      <td>0.0</td>\n",
       "      <td>0.000000</td>\n",
       "      <td>0.000000</td>\n",
       "      <td>0.169767</td>\n",
       "      <td>$jpm ficc rev in q up hugely yoy great start t...</td>\n",
       "      <td>0.975188</td>\n",
       "      <td>0</td>\n",
       "      <td>0</td>\n",
       "      <td>0</td>\n",
       "      <td>0</td>\n",
       "      <td>1</td>\n",
       "      <td>0</td>\n",
       "      <td>0</td>\n",
       "      <td>1</td>\n",
       "    </tr>\n",
       "  </tbody>\n",
       "</table>\n",
       "</div>"
      ],
      "text/plain": [
       "   likeCount  replyCount  retweetCount      hour   minutes  number_tickers  \\\n",
       "0   0.001934         0.0      0.000000  0.000000  0.745763             0.0   \n",
       "1   0.015474         0.0      0.006993  0.304348  0.220339             0.0   \n",
       "\n",
       "   number_hashtags  number_mentions  text_length  \\\n",
       "0         0.045455         0.045455     0.451163   \n",
       "1         0.000000         0.000000     0.169767   \n",
       "\n",
       "                                            lem_text  sentiment_score  \\\n",
       "0  ticker symbol jpm timeframe daily trade type s...         0.561667   \n",
       "1  $jpm ficc rev in q up hugely yoy great start t...         0.975188   \n",
       "\n",
       "   dayofweek_M  dayofweek_Sa  dayofweek_Su  dayofweek_Th  dayofweek_Tu  \\\n",
       "0            0             0             0             0             0   \n",
       "1            0             0             0             0             1   \n",
       "\n",
       "   dayofweek_W  sentiment_label_neutral  sentiment_label_positive  \n",
       "0            1                        0                         1  \n",
       "1            0                        0                         1  "
      ]
     },
     "execution_count": 18,
     "metadata": {},
     "output_type": "execute_result"
    }
   ],
   "source": [
    "X_train.head(2)"
   ]
  },
  {
   "cell_type": "markdown",
   "id": "f909188d",
   "metadata": {},
   "source": [
    "### Count Vectorizer"
   ]
  },
  {
   "cell_type": "code",
   "execution_count": 19,
   "id": "15edb8ac",
   "metadata": {},
   "outputs": [],
   "source": [
    "count_vectorizer = CountVectorizer(stop_words='english', min_df=10, ngram_range=(1,1))"
   ]
  },
  {
   "cell_type": "code",
   "execution_count": 20,
   "id": "c1e5c7c7",
   "metadata": {},
   "outputs": [],
   "source": [
    "#Vectorizing lem_text and converting to non-sparse array\n",
    "train_vect = count_vectorizer.fit_transform(X_train['lem_text']).toarray()\n",
    "test_vect = count_vectorizer.transform(X_test['lem_text']).toarray()"
   ]
  },
  {
   "cell_type": "code",
   "execution_count": 21,
   "id": "c1d9947e",
   "metadata": {},
   "outputs": [
    {
     "data": {
      "text/plain": [
       "((3152, 656), (1351, 656))"
      ]
     },
     "execution_count": 21,
     "metadata": {},
     "output_type": "execute_result"
    }
   ],
   "source": [
    "train_vect.shape, test_vect.shape"
   ]
  },
  {
   "cell_type": "code",
   "execution_count": 22,
   "id": "964f4a7d",
   "metadata": {},
   "outputs": [],
   "source": [
    "# Creating a dataframe to join later with our dataframe\n",
    "X_train_vect_df = pd.DataFrame(train_vect, columns=count_vectorizer.get_feature_names_out())\n",
    "X_test_vect_df = pd.DataFrame(test_vect, columns=count_vectorizer.get_feature_names_out())"
   ]
  },
  {
   "cell_type": "code",
   "execution_count": 23,
   "id": "289642df",
   "metadata": {},
   "outputs": [],
   "source": [
    "# Joining with our X train/test dataframes\n",
    "X_train = X_train.join(X_train_vect_df, lsuffix='_t')\n",
    "X_test = X_test.join(X_test_vect_df, lsuffix='_t')"
   ]
  },
  {
   "cell_type": "code",
   "execution_count": 24,
   "id": "d99f906d",
   "metadata": {},
   "outputs": [],
   "source": [
    "# Saving lem_text before dropping\n",
    "X_train_lem_text = X_train['lem_text']\n",
    "X_test_lem_text = X_test['lem_text']"
   ]
  },
  {
   "cell_type": "code",
   "execution_count": 25,
   "id": "9538c672",
   "metadata": {},
   "outputs": [],
   "source": [
    "# Dropping lem_text\n",
    "X_train = X_train.drop(columns='lem_text')\n",
    "X_test = X_test.drop(columns='lem_text')"
   ]
  },
  {
   "cell_type": "markdown",
   "id": "d23dae4d",
   "metadata": {},
   "source": [
    "## Modeling"
   ]
  },
  {
   "cell_type": "markdown",
   "id": "229c5815",
   "metadata": {},
   "source": [
    "### Naive Bayes"
   ]
  },
  {
   "cell_type": "code",
   "execution_count": 26,
   "id": "87dbff6e",
   "metadata": {},
   "outputs": [],
   "source": [
    "param_nb = {'alpha':[.01, .1, 1, 10, 50] }"
   ]
  },
  {
   "cell_type": "code",
   "execution_count": 27,
   "id": "c347286d",
   "metadata": {},
   "outputs": [],
   "source": [
    "nb = MultinomialNB()\n",
    "nb_clf = GridSearchCV(nb, param_nb, cv=5, scoring='roc_auc', n_jobs=-1)"
   ]
  },
  {
   "cell_type": "code",
   "execution_count": 28,
   "id": "20f57209",
   "metadata": {},
   "outputs": [
    {
     "name": "stdout",
     "output_type": "stream",
     "text": [
      "Training time: 3 seconds\n"
     ]
    }
   ],
   "source": [
    "start = time.time()\n",
    "nb_model = nb_clf.fit(X_train, y_train)\n",
    "end = time.time()\n",
    "print('Training time:', round(end - start,), 'seconds')"
   ]
  },
  {
   "cell_type": "code",
   "execution_count": 29,
   "id": "1634e886",
   "metadata": {},
   "outputs": [
    {
     "name": "stdout",
     "output_type": "stream",
     "text": [
      "{'alpha': 1}\n",
      "0.5966539033908858\n"
     ]
    }
   ],
   "source": [
    "print(nb_model.best_params_)\n",
    "print(nb_model.best_score_)"
   ]
  },
  {
   "cell_type": "markdown",
   "id": "42d19ea9",
   "metadata": {},
   "source": [
    "### Naive Bayes - Tuned"
   ]
  },
  {
   "cell_type": "code",
   "execution_count": 30,
   "id": "968a5ebe",
   "metadata": {},
   "outputs": [
    {
     "data": {
      "text/plain": [
       "MultinomialNB(alpha=1)"
      ]
     },
     "execution_count": 30,
     "metadata": {},
     "output_type": "execute_result"
    }
   ],
   "source": [
    "nb_tuned = MultinomialNB(alpha=1)\n",
    "nb_tuned.fit(X_train, y_train)"
   ]
  },
  {
   "cell_type": "code",
   "execution_count": 31,
   "id": "d0112551",
   "metadata": {},
   "outputs": [],
   "source": [
    "y_pred_nb = nb_tuned.predict(X_train)\n",
    "y_pred_proba_nb = nb_tuned.predict_proba(X_train)[:,1]"
   ]
  },
  {
   "cell_type": "code",
   "execution_count": 32,
   "id": "5c452727",
   "metadata": {},
   "outputs": [
    {
     "name": "stdout",
     "output_type": "stream",
     "text": [
      "              precision    recall  f1-score   support\n",
      "\n",
      "           0       0.66      0.52      0.58      1352\n",
      "           1       0.69      0.80      0.74      1800\n",
      "\n",
      "    accuracy                           0.68      3152\n",
      "   macro avg       0.68      0.66      0.66      3152\n",
      "weighted avg       0.68      0.68      0.67      3152\n",
      "\n"
     ]
    }
   ],
   "source": [
    "print(classification_report(y_train, y_pred_nb))"
   ]
  },
  {
   "cell_type": "code",
   "execution_count": 33,
   "id": "b6dc4dd5",
   "metadata": {},
   "outputs": [],
   "source": [
    "y_test_pred_nb = nb_tuned.predict(X_test)\n",
    "y_test_pred_proba_nb = nb_tuned.predict_proba(X_test)[:,1]"
   ]
  },
  {
   "cell_type": "code",
   "execution_count": 34,
   "id": "ad74161b",
   "metadata": {},
   "outputs": [
    {
     "name": "stdout",
     "output_type": "stream",
     "text": [
      "              precision    recall  f1-score   support\n",
      "\n",
      "           0       0.49      0.39      0.43       545\n",
      "           1       0.64      0.72      0.67       806\n",
      "\n",
      "    accuracy                           0.59      1351\n",
      "   macro avg       0.56      0.56      0.55      1351\n",
      "weighted avg       0.58      0.59      0.58      1351\n",
      "\n"
     ]
    }
   ],
   "source": [
    "print(classification_report(y_test, y_test_pred_nb))"
   ]
  },
  {
   "cell_type": "markdown",
   "id": "935cc617",
   "metadata": {},
   "source": [
    "### Random Forest"
   ]
  },
  {
   "cell_type": "code",
   "execution_count": 35,
   "id": "86ed7c96",
   "metadata": {},
   "outputs": [],
   "source": [
    "# Running grid search first for min_samples_leaf and split to get an idea of the range\n",
    "param_rf = {'min_samples_leaf': [2, 5, 10],\n",
    "           'min_samples_split': [2, 5, 10]}"
   ]
  },
  {
   "cell_type": "code",
   "execution_count": 36,
   "id": "09308a9b",
   "metadata": {},
   "outputs": [],
   "source": [
    "rf = RandomForestClassifier(random_state=42)\n",
    "rf_clf = RandomizedSearchCV(rf, param_distributions = param_rf, cv = 5, scoring = 'roc_auc', n_jobs = -1, random_state=42)"
   ]
  },
  {
   "cell_type": "code",
   "execution_count": 37,
   "id": "f98d7490",
   "metadata": {},
   "outputs": [
    {
     "name": "stderr",
     "output_type": "stream",
     "text": [
      "C:\\Users\\jodur\\anaconda3\\lib\\site-packages\\sklearn\\model_selection\\_search.py:292: UserWarning: The total space of parameters 9 is smaller than n_iter=10. Running 9 iterations. For exhaustive searches, use GridSearchCV.\n",
      "  warnings.warn(\n"
     ]
    },
    {
     "name": "stdout",
     "output_type": "stream",
     "text": [
      "Training time: 9 seconds\n"
     ]
    }
   ],
   "source": [
    "start = time.time()\n",
    "rf_model = rf_clf.fit(X_train, y_train)\n",
    "end = time.time()\n",
    "print('Training time:', round(end - start,), 'seconds')"
   ]
  },
  {
   "cell_type": "code",
   "execution_count": 38,
   "id": "113f973a",
   "metadata": {},
   "outputs": [
    {
     "name": "stdout",
     "output_type": "stream",
     "text": [
      "{'min_samples_split': 2, 'min_samples_leaf': 2}\n",
      "0.7059389853157791\n"
     ]
    }
   ],
   "source": [
    "print(rf_model.best_params_)\n",
    "print(rf_model.best_score_)"
   ]
  },
  {
   "cell_type": "markdown",
   "id": "51fcf2f6",
   "metadata": {},
   "source": [
    "Running a second round of tuning including more parameters.\n",
    "<br>Some cells have been commented after train to prevent from running again since the model can take some minutes to train."
   ]
  },
  {
   "cell_type": "code",
   "execution_count": 39,
   "id": "7c79fe7d",
   "metadata": {},
   "outputs": [],
   "source": [
    "param_rf = {'n_estimators':[100, 300, 500],\n",
    "            'max_depth':[5, 10, 30],\n",
    "            'max_features':[0.3, 0.6, 1],\n",
    "            'min_samples_split': [2, 4, 6],\n",
    "            'min_samples_leaf': [2, 4, 6] }"
   ]
  },
  {
   "cell_type": "code",
   "execution_count": 40,
   "id": "0e522945",
   "metadata": {},
   "outputs": [],
   "source": [
    "rf_clf = RandomizedSearchCV(rf, param_distributions = param_rf, cv = 5, scoring = 'roc_auc', n_jobs = -1, random_state=42)"
   ]
  },
  {
   "cell_type": "code",
   "execution_count": 41,
   "id": "65ab1132",
   "metadata": {},
   "outputs": [
    {
     "data": {
      "text/plain": [
       "\"\\nstart = time.time()\\nrf_model = rf_clf.fit(X_train, y_train)\\nend = time.time()\\nprint('Training time:', round(end - start,), 'seconds')\\n\""
      ]
     },
     "execution_count": 41,
     "metadata": {},
     "output_type": "execute_result"
    }
   ],
   "source": [
    "'''\n",
    "start = time.time()\n",
    "rf_model = rf_clf.fit(X_train, y_train)\n",
    "end = time.time()\n",
    "print('Training time:', round(end - start,), 'seconds')\n",
    "'''"
   ]
  },
  {
   "cell_type": "code",
   "execution_count": 42,
   "id": "bba3d9cf",
   "metadata": {},
   "outputs": [
    {
     "data": {
      "text/plain": [
       "'\\nprint(rf_model.best_params_)\\nprint(rf_model.best_score_)\\n'"
      ]
     },
     "execution_count": 42,
     "metadata": {},
     "output_type": "execute_result"
    }
   ],
   "source": [
    "'''\n",
    "print(rf_model.best_params_)\n",
    "print(rf_model.best_score_)\n",
    "'''"
   ]
  },
  {
   "cell_type": "markdown",
   "id": "fdb2014b",
   "metadata": {},
   "source": [
    "Training time: 81 seconds\n",
    "\n",
    "{'n_estimators': 300, 'min_samples_split': 4, 'min_samples_leaf': 4, 'max_features': 0.3, 'max_depth': 30}\n",
    "<br>0.6874736002915585\n"
   ]
  },
  {
   "cell_type": "markdown",
   "id": "2a0cb8d0",
   "metadata": {},
   "source": [
    "### RF - Tuned model"
   ]
  },
  {
   "cell_type": "code",
   "execution_count": 43,
   "id": "fbc94333",
   "metadata": {},
   "outputs": [
    {
     "data": {
      "text/plain": [
       "'\\nrf_tuned = RandomForestClassifier(n_estimators=300, min_samples_split = 4, min_samples_leaf = 4,                                  max_features= 0.3, max_depth=30)\\nrf_tuned.fit(X_train, y_train)\\n'"
      ]
     },
     "execution_count": 43,
     "metadata": {},
     "output_type": "execute_result"
    }
   ],
   "source": [
    "'''\n",
    "rf_tuned = RandomForestClassifier(n_estimators=300, min_samples_split = 4, min_samples_leaf = 4,\\\n",
    "                                  max_features= 0.3, max_depth=30)\n",
    "rf_tuned.fit(X_train, y_train)\n",
    "'''"
   ]
  },
  {
   "cell_type": "code",
   "execution_count": 44,
   "id": "f96a8565",
   "metadata": {},
   "outputs": [
    {
     "data": {
      "text/plain": [
       "\"\\n# Save model\\njoblib.dump(rf_tuned, 'jpm_rf_tuned.pkl')\\n\""
      ]
     },
     "execution_count": 44,
     "metadata": {},
     "output_type": "execute_result"
    }
   ],
   "source": [
    "'''\n",
    "# Save model\n",
    "joblib.dump(rf_tuned, 'jpm_rf_tuned.pkl')\n",
    "'''"
   ]
  },
  {
   "cell_type": "code",
   "execution_count": 45,
   "id": "b6e8f43b",
   "metadata": {},
   "outputs": [
    {
     "data": {
      "text/plain": [
       "RandomForestClassifier(max_depth=30, max_features=0.3, min_samples_leaf=4,\n",
       "                       min_samples_split=4, n_estimators=300)"
      ]
     },
     "execution_count": 45,
     "metadata": {},
     "output_type": "execute_result"
    }
   ],
   "source": [
    "# Load model\n",
    "rf_tuned = joblib.load('jpm_rf_tuned.pkl')\n",
    "rf_tuned"
   ]
  },
  {
   "cell_type": "code",
   "execution_count": 46,
   "id": "bdb6b65f",
   "metadata": {},
   "outputs": [],
   "source": [
    "y_pred_rf = rf_tuned.predict(X_train)\n",
    "y_pred_proba_rf = rf_tuned.predict_proba(X_train)[:,1]"
   ]
  },
  {
   "cell_type": "code",
   "execution_count": 47,
   "id": "b6b3a801",
   "metadata": {},
   "outputs": [
    {
     "data": {
      "image/png": "[encoded data removed]",
      "text/plain": [
       "<Figure size 1440x576 with 1 Axes>"
      ]
     },
     "metadata": {
      "needs_background": "light"
     },
     "output_type": "display_data"
    }
   ],
   "source": [
    "# Feature importances\n",
    "plt.figure(figsize=(20,8))\n",
    "sorted_idx = rf_tuned.feature_importances_.argsort()[-10:]\n",
    "plt.barh(X_train.columns[sorted_idx], rf_tuned.feature_importances_[sorted_idx])\n",
    "plt.xlabel('Random Forest Top 10 feature importances');"
   ]
  },
  {
   "cell_type": "code",
   "execution_count": 48,
   "id": "d5f61dd1",
   "metadata": {},
   "outputs": [
    {
     "name": "stdout",
     "output_type": "stream",
     "text": [
      "              precision    recall  f1-score   support\n",
      "\n",
      "           0       1.00      0.76      0.86      1352\n",
      "           1       0.84      1.00      0.92      1800\n",
      "\n",
      "    accuracy                           0.89      3152\n",
      "   macro avg       0.92      0.88      0.89      3152\n",
      "weighted avg       0.91      0.89      0.89      3152\n",
      "\n"
     ]
    }
   ],
   "source": [
    "print(classification_report(y_train, y_pred_rf))"
   ]
  },
  {
   "cell_type": "code",
   "execution_count": 49,
   "id": "40c65dcc",
   "metadata": {},
   "outputs": [],
   "source": [
    "y_test_pred_rf = rf_tuned.predict(X_test)\n",
    "y_test_pred_proba_rf = rf_tuned.predict_proba(X_test)[:,1]"
   ]
  },
  {
   "cell_type": "code",
   "execution_count": 50,
   "id": "ec453d10",
   "metadata": {},
   "outputs": [
    {
     "name": "stdout",
     "output_type": "stream",
     "text": [
      "              precision    recall  f1-score   support\n",
      "\n",
      "           0       0.71      0.32      0.44       545\n",
      "           1       0.66      0.91      0.77       806\n",
      "\n",
      "    accuracy                           0.67      1351\n",
      "   macro avg       0.69      0.62      0.60      1351\n",
      "weighted avg       0.68      0.67      0.64      1351\n",
      "\n"
     ]
    }
   ],
   "source": [
    "print(classification_report(y_test, y_test_pred_rf))"
   ]
  },
  {
   "cell_type": "markdown",
   "id": "c45d0521",
   "metadata": {},
   "source": [
    "### XGBoost"
   ]
  },
  {
   "cell_type": "markdown",
   "id": "853a531d",
   "metadata": {},
   "source": [
    "The following code has been commented since it takes some time to run, we ran in Google Colab using GPUs. Also the same local version of XGBoost had to be installed in Colab to save the model.\n",
    "<br>!pip install xgboost==1.6.2"
   ]
  },
  {
   "cell_type": "code",
   "execution_count": 51,
   "id": "f71ae994",
   "metadata": {},
   "outputs": [
    {
     "data": {
      "text/plain": [
       "\"\\nparams_xg = {\\n            'n_estimators':[100, 150],\\n            'booster':['gbtree'],\\n            'colsample_bytree': [0.3, 0.6, 1],    #subsample ratio of columns when constructing each tree\\n            'max_depth': [2, 6, 10],\\n            'eta': [0.3]   #learning rate\\n            }\\n\""
      ]
     },
     "execution_count": 51,
     "metadata": {},
     "output_type": "execute_result"
    }
   ],
   "source": [
    "'''\n",
    "params_xg = {\n",
    "            'n_estimators':[100, 150],\n",
    "            'booster':['gbtree'],\n",
    "            'colsample_bytree': [0.3, 0.6, 1],    #subsample ratio of columns when constructing each tree\n",
    "            'max_depth': [2, 6, 10],\n",
    "            'eta': [0.3]   #learning rate\n",
    "            }\n",
    "'''"
   ]
  },
  {
   "cell_type": "code",
   "execution_count": 52,
   "id": "8de9d18a",
   "metadata": {},
   "outputs": [
    {
     "data": {
      "text/plain": [
       "\"\\n#tree_method='gpu_hist' to use GPUs in Colab\\nxg = xgb.XGBClassifier(objective='binary:logistic', tree_method='gpu_hist')\\n\""
      ]
     },
     "execution_count": 52,
     "metadata": {},
     "output_type": "execute_result"
    }
   ],
   "source": [
    "'''\n",
    "#tree_method='gpu_hist' to use GPUs in Colab\n",
    "xg = xgb.XGBClassifier(objective='binary:logistic', tree_method='gpu_hist')\n",
    "'''"
   ]
  },
  {
   "cell_type": "code",
   "execution_count": 53,
   "id": "69ced0f4",
   "metadata": {},
   "outputs": [
    {
     "data": {
      "text/plain": [
       "\"\\nxg_clf = RandomizedSearchCV(xg, param_distributions=params_xg, scoring='roc_auc',                                   n_jobs=-1, cv=5, random_state=42)\\n\""
      ]
     },
     "execution_count": 53,
     "metadata": {},
     "output_type": "execute_result"
    }
   ],
   "source": [
    "'''\n",
    "xg_clf = RandomizedSearchCV(xg, param_distributions=params_xg, scoring='roc_auc',\\\n",
    "                                   n_jobs=-1, cv=5, random_state=42)\n",
    "'''"
   ]
  },
  {
   "cell_type": "code",
   "execution_count": 54,
   "id": "f0dc60ff",
   "metadata": {},
   "outputs": [
    {
     "data": {
      "text/plain": [
       "\"\\nstart = time.time()\\nxg_model = xg_clf.fit(X_train, y_train)\\nend = time.time()\\nprint('Training time:', round(end - start,), 'seconds')\\n\""
      ]
     },
     "execution_count": 54,
     "metadata": {},
     "output_type": "execute_result"
    }
   ],
   "source": [
    "'''\n",
    "start = time.time()\n",
    "xg_model = xg_clf.fit(X_train, y_train)\n",
    "end = time.time()\n",
    "print('Training time:', round(end - start,), 'seconds')\n",
    "'''"
   ]
  },
  {
   "cell_type": "code",
   "execution_count": 55,
   "id": "904055e6",
   "metadata": {
    "scrolled": true
   },
   "outputs": [
    {
     "data": {
      "text/plain": [
       "'\\nprint(xg_model.best_params_)\\nprint(xg_model.best_score_)\\n'"
      ]
     },
     "execution_count": 55,
     "metadata": {},
     "output_type": "execute_result"
    }
   ],
   "source": [
    "'''\n",
    "print(xg_model.best_params_)\n",
    "print(xg_model.best_score_)\n",
    "'''"
   ]
  },
  {
   "cell_type": "markdown",
   "id": "25319024",
   "metadata": {},
   "source": [
    "Google Colab\n",
    "<br>Training time: 46 seconds\n",
    "\n",
    "{'n_estimators': 150, 'max_depth': 10, 'eta': 0.3, 'colsample_bytree': 0.6, 'booster': 'gbtree'}\n",
    "<br>0.7109400103260292"
   ]
  },
  {
   "cell_type": "markdown",
   "id": "748b1123",
   "metadata": {},
   "source": [
    "### XGBoost - Tuned model"
   ]
  },
  {
   "cell_type": "code",
   "execution_count": 56,
   "id": "dc676443",
   "metadata": {},
   "outputs": [
    {
     "data": {
      "text/plain": [
       "\"\\nxg_tuned = xgb.XGBClassifier(objective='binary:logistic', n_estimators=150, booster='gbtree', eval_metric='auc',                           colsample_bytree=0.6, max_depth=10, eta=0.3, random_state=42, tree_method='gpu_hist')\\nxg_tuned.fit(X_train, y_train)\\n\""
      ]
     },
     "execution_count": 56,
     "metadata": {},
     "output_type": "execute_result"
    }
   ],
   "source": [
    "'''\n",
    "xg_tuned = xgb.XGBClassifier(objective='binary:logistic', n_estimators=150, booster='gbtree', eval_metric='auc',\\\n",
    "                           colsample_bytree=0.6, max_depth=10, eta=0.3, random_state=42, tree_method='gpu_hist')\n",
    "xg_tuned.fit(X_train, y_train)\n",
    "'''"
   ]
  },
  {
   "cell_type": "code",
   "execution_count": 57,
   "id": "29cf929a",
   "metadata": {},
   "outputs": [
    {
     "data": {
      "text/plain": [
       "'\\n# save in JSON format\\nxg_tuned.save_model(\"jpm_xg_tuned.json\")\\n'"
      ]
     },
     "execution_count": 57,
     "metadata": {},
     "output_type": "execute_result"
    }
   ],
   "source": [
    "'''\n",
    "# save in JSON format\n",
    "xg_tuned.save_model(\"jpm_xg_tuned.json\")\n",
    "'''"
   ]
  },
  {
   "cell_type": "code",
   "execution_count": 58,
   "id": "c84f1a95",
   "metadata": {},
   "outputs": [],
   "source": [
    "# Loading model\n",
    "\n",
    "xg_tuned  = xgb.XGBClassifier(objective='binary:logistic', n_estimators=150, booster='gbtree', eval_metric='auc',\\\n",
    "                           colsample_bytree=0.6, max_depth=10, eta=0.3, random_state=42)\n",
    "\n",
    "xg_tuned.load_model(\"jpm_xg_tuned.json\")"
   ]
  },
  {
   "cell_type": "code",
   "execution_count": 59,
   "id": "ec4f0424",
   "metadata": {},
   "outputs": [
    {
     "data": {
      "text/plain": [
       "XGBClassifier(base_score=0.5, booster='gbtree', callbacks=None,\n",
       "              colsample_bylevel=1, colsample_bynode=1, colsample_bytree=0.6,\n",
       "              early_stopping_rounds=None, enable_categorical=False, eta=0.3,\n",
       "              eval_metric='auc', gamma=0, gpu_id=-1, grow_policy='depthwise',\n",
       "              importance_type=None, interaction_constraints='',\n",
       "              learning_rate=0.300000012, max_bin=256, max_cat_to_onehot=4,\n",
       "              max_delta_step=0, max_depth=10, max_leaves=0, min_child_weight=1,\n",
       "              missing=nan, monotone_constraints='()', n_estimators=150,\n",
       "              n_jobs=0, num_parallel_tree=1, predictor='auto', random_state=42,\n",
       "              reg_alpha=0, ...)"
      ]
     },
     "execution_count": 59,
     "metadata": {},
     "output_type": "execute_result"
    }
   ],
   "source": [
    "xg_tuned"
   ]
  },
  {
   "cell_type": "code",
   "execution_count": 60,
   "id": "e2dd4321",
   "metadata": {},
   "outputs": [],
   "source": [
    "y_pred_xg = xg_tuned.predict(X_train)\n",
    "y_pred_proba_xg = xg_tuned.predict_proba(X_train)[:,1]"
   ]
  },
  {
   "cell_type": "code",
   "execution_count": 72,
   "id": "716b086c",
   "metadata": {},
   "outputs": [
    {
     "data": {
      "image/png": "[encoded data removed]",
      "text/plain": [
       "<Figure size 1296x576 with 1 Axes>"
      ]
     },
     "metadata": {
      "needs_background": "light"
     },
     "output_type": "display_data"
    }
   ],
   "source": [
    "# Top 10 features\n",
    "plt.figure(figsize=(18,8))\n",
    "sorted_idx = xg_tuned.feature_importances_.argsort()[-10:]\n",
    "plt.barh(X_train.columns[sorted_idx], xg_tuned.feature_importances_[sorted_idx])\n",
    "plt.xlabel('\\nXGBoost Top 10 feature importances - JPM', fontsize=20)\n",
    "plt.xticks(fontsize=20)\n",
    "plt.yticks(fontsize=20);"
   ]
  },
  {
   "cell_type": "code",
   "execution_count": 62,
   "id": "3fc768f9",
   "metadata": {},
   "outputs": [
    {
     "name": "stdout",
     "output_type": "stream",
     "text": [
      "              precision    recall  f1-score   support\n",
      "\n",
      "           0       0.99      0.98      0.99      1352\n",
      "           1       0.99      1.00      0.99      1800\n",
      "\n",
      "    accuracy                           0.99      3152\n",
      "   macro avg       0.99      0.99      0.99      3152\n",
      "weighted avg       0.99      0.99      0.99      3152\n",
      "\n"
     ]
    }
   ],
   "source": [
    "print(classification_report(y_train, y_pred_xg))"
   ]
  },
  {
   "cell_type": "code",
   "execution_count": 63,
   "id": "2b228320",
   "metadata": {},
   "outputs": [],
   "source": [
    "y_test_pred_xg = xg_tuned.predict(X_test)\n",
    "y_test_pred_proba_xg = xg_tuned.predict_proba(X_test)[:,1]"
   ]
  },
  {
   "cell_type": "code",
   "execution_count": 64,
   "id": "885509d3",
   "metadata": {},
   "outputs": [
    {
     "name": "stdout",
     "output_type": "stream",
     "text": [
      "              precision    recall  f1-score   support\n",
      "\n",
      "           0       0.64      0.59      0.61       545\n",
      "           1       0.73      0.78      0.76       806\n",
      "\n",
      "    accuracy                           0.70      1351\n",
      "   macro avg       0.69      0.68      0.68      1351\n",
      "weighted avg       0.70      0.70      0.70      1351\n",
      "\n"
     ]
    }
   ],
   "source": [
    "print(classification_report(y_test, y_test_pred_xg))"
   ]
  },
  {
   "cell_type": "markdown",
   "id": "b7ca3aeb",
   "metadata": {},
   "source": [
    "### 3 models AUC"
   ]
  },
  {
   "cell_type": "markdown",
   "id": "9cd2ccbe",
   "metadata": {},
   "source": [
    "Below are the AUC scores for the 3 models. We'll choose XGBoost and adjust the threshold for the predictions."
   ]
  },
  {
   "cell_type": "code",
   "execution_count": 65,
   "id": "fd36377a",
   "metadata": {},
   "outputs": [
    {
     "name": "stdout",
     "output_type": "stream",
     "text": [
      "Naive Bayes AUC: \t 0.6\n",
      "Random Forest AUC: \t 0.71\n",
      "XGBoost AUC: \t\t 0.71\n"
     ]
    }
   ],
   "source": [
    "print(f'Naive Bayes AUC: \\t {round(nb_model.best_score_,2)}')\n",
    "print(f'Random Forest AUC: \\t {round(rf_model.best_score_,2)}')\n",
    "print(f'XGBoost AUC: \\t\\t 0.71')"
   ]
  },
  {
   "cell_type": "markdown",
   "id": "2209636c",
   "metadata": {},
   "source": [
    "### Threshold adjustment"
   ]
  },
  {
   "cell_type": "markdown",
   "id": "aadb4721",
   "metadata": {},
   "source": [
    "Let's cycle thru different thresholds and capture precision and recall."
   ]
  },
  {
   "cell_type": "code",
   "execution_count": 66,
   "id": "63f4d7e5",
   "metadata": {},
   "outputs": [],
   "source": [
    "# Creating a dataframe to hold the values\n",
    "df_thresholds = pd.DataFrame(columns=['Precision','Recall'])\n",
    "\n",
    "for threshold in np.arange(0,1,0.01):\n",
    "    y_temp = (y_pred_proba_xg > threshold).astype(int)\n",
    "    df_thresholds.loc[threshold] = precision_score(y_train, y_temp), recall_score(y_train, y_temp)"
   ]
  },
  {
   "cell_type": "markdown",
   "id": "3012cd69",
   "metadata": {},
   "source": [
    "Let's plot our precision and recall for different thresholds."
   ]
  },
  {
   "cell_type": "code",
   "execution_count": 67,
   "id": "aaaf24bb",
   "metadata": {},
   "outputs": [
    {
     "data": {
      "image/png": "[encoded data removed]",
      "text/plain": [
       "<Figure size 1008x504 with 1 Axes>"
      ]
     },
     "metadata": {
      "needs_background": "light"
     },
     "output_type": "display_data"
    }
   ],
   "source": [
    "plt.figure(figsize=(14,7))\n",
    "plt.plot(df_thresholds.index, df_thresholds['Precision'], label='Precision')\n",
    "plt.plot(df_thresholds.index, df_thresholds['Recall'], label='Recall')\n",
    "plt.axvline(0.5, color='red', linestyle='--')\n",
    "plt.text(.51,.25,'Default Threshold = 0.5',rotation=90, alpha=0.8, fontsize=12)\n",
    "plt.axvline(0.54, color='purple', linestyle='--')\n",
    "plt.text(.55,.25,'Adjusted Threshold = 0.54',rotation=90, alpha=0.8, fontsize=12)\n",
    "plt.xlabel('Threshold', fontsize=12)\n",
    "plt.title('Precision-Recall with different thresholds\\n', fontsize=14)\n",
    "plt.legend();"
   ]
  },
  {
   "cell_type": "markdown",
   "id": "86a175e3",
   "metadata": {},
   "source": [
    "### Final validation on our test set"
   ]
  },
  {
   "cell_type": "markdown",
   "id": "38583d39",
   "metadata": {},
   "source": [
    "We're setting the threshold to 0.54 and running a final validation on our test set."
   ]
  },
  {
   "cell_type": "code",
   "execution_count": 68,
   "id": "b99393b7",
   "metadata": {},
   "outputs": [],
   "source": [
    "y_test_pred = xg_tuned.predict(X_test)\n",
    "y_test_pred_proba = xg_tuned.predict_proba(X_test)[:,1]"
   ]
  },
  {
   "cell_type": "code",
   "execution_count": 69,
   "id": "f740347c",
   "metadata": {},
   "outputs": [],
   "source": [
    "y_test_threshold = (y_test_pred_proba > 0.54).astype(int)"
   ]
  },
  {
   "cell_type": "code",
   "execution_count": 73,
   "id": "b24c7df4",
   "metadata": {},
   "outputs": [
    {
     "data": {
      "image/png": "[encoded data removed]",
      "text/plain": [
       "<Figure size 432x288 with 1 Axes>"
      ]
     },
     "metadata": {
      "needs_background": "light"
     },
     "output_type": "display_data"
    }
   ],
   "source": [
    "conf_matrix = confusion_matrix(y_test, y_test_threshold)\n",
    "sns.heatmap(conf_matrix/np.sum(conf_matrix), annot=True, fmt='.0%', cmap='Blues', cbar=False, annot_kws={\"fontsize\":14});"
   ]
  },
  {
   "cell_type": "code",
   "execution_count": 71,
   "id": "077aca8f",
   "metadata": {},
   "outputs": [
    {
     "name": "stdout",
     "output_type": "stream",
     "text": [
      "              precision    recall  f1-score   support\n",
      "\n",
      "           0       0.62      0.61      0.62       545\n",
      "           1       0.74      0.75      0.74       806\n",
      "\n",
      "    accuracy                           0.69      1351\n",
      "   macro avg       0.68      0.68      0.68      1351\n",
      "weighted avg       0.69      0.69      0.69      1351\n",
      "\n"
     ]
    }
   ],
   "source": [
    "print(classification_report(y_test, y_test_threshold))"
   ]
  },
  {
   "cell_type": "code",
   "execution_count": null,
   "id": "9487a61b",
   "metadata": {},
   "outputs": [],
   "source": []
  }
 ],
 "metadata": {
  "kernelspec": {
   "display_name": "Python 3 (ipykernel)",
   "language": "python",
   "name": "python3"
  },
  "language_info": {
   "codemirror_mode": {
    "name": "ipython",
    "version": 3
   },
   "file_extension": ".py",
   "mimetype": "text/x-python",
   "name": "python",
   "nbconvert_exporter": "python",
   "pygments_lexer": "ipython3",
   "version": "3.9.12"
  }
 },
 "nbformat": 4,
 "nbformat_minor": 5
}
